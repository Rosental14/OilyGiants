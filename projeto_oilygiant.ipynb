{
 "cells": [
  {
   "cell_type": "markdown",
   "metadata": {},
   "source": [
    "<center>\n",
    "    \n",
    "# OilyGiant"
   ]
  },
  {
   "cell_type": "markdown",
   "metadata": {},
   "source": [
    "**O objetivo deste projeto é encontrar os melhores lugares para o desenvolvimento de novos poços de petróleo.**\n",
    "\n",
    "Nossos arquivos possuem dados sobre amostras de petróleo de três regiões. Com estes dados, construiremos um modelo de regressão linear, que nos ajudará a predizer o volume de reservas em novos poços e, portanto, a escolher a região com a margem de lucro mais alta. Utilizaremos a técnica de Bootstrapping para analisar lucro potencial e riscos.\n",
    "\n",
    "\n",
    "**Informações extras:**\n",
    "Ao explorar a região, um estudo de 500 pontos é realizado e os melhores 200 pontos são selecionados para calcular o lucro.\n",
    "O orçamento para o desenvolvimento de 200 poços de petróleo é de 100 milhões de dólares.\n",
    "Um barril de petróleo bruto traz 4.5 dólares de receita. A receita de uma unidade de produto é 4.500 dólares (o volume de reservas está em milhares de barris).\n",
    "\n",
    "Após avaliação dos riscos, seguiremos apenas com as regiões que tiverem um risco de perdas inferior a 2.5%. \n",
    "Dentre as regiões que se enquadrarem neste critério, selecionaremos aquela com o lucro médio mais alto."
   ]
  },
  {
   "cell_type": "markdown",
   "metadata": {},
   "source": [
    "## IMPORTAÇÃO DAS BIBLIOTECAS E MÓDULOS NECESSÁRIOS"
   ]
  },
  {
   "cell_type": "code",
   "execution_count": 125,
   "metadata": {},
   "outputs": [],
   "source": [
    "# bibliotecas:\n",
    "import pandas as pd\n",
    "import numpy as np\n",
    "import matplotlib.pyplot as plt\n",
    "import seaborn as sns \n",
    "\n",
    "# módulos:\n",
    "from sklearn.linear_model import LinearRegression\n",
    "from sklearn.model_selection import train_test_split\n",
    "from sklearn.metrics import mean_squared_error\n",
    "from sklearn.metrics import root_mean_squared_error\n",
    "from sklearn.preprocessing import StandardScaler"
   ]
  },
  {
   "cell_type": "markdown",
   "metadata": {},
   "source": [
    "## PRÉ-ANÁLISE DOS DADOS"
   ]
  },
  {
   "cell_type": "markdown",
   "metadata": {},
   "source": [
    "### Carregamento dos dados e checagem inicial"
   ]
  },
  {
   "cell_type": "markdown",
   "metadata": {},
   "source": [
    "**Nesta etapa iremos carregar os dados, pré analisá-los e alterá-los, se necessário. \n",
    "Iremos focar no padrão dos nomes das colunas, os tipos de dados, dados ausentes e dados repetidos.**"
   ]
  },
  {
   "cell_type": "code",
   "execution_count": 126,
   "metadata": {},
   "outputs": [
    {
     "name": "stdout",
     "output_type": "stream",
     "text": [
      "      id        f0        f1        f2     product\n",
      "0  txEyH  0.705745 -0.497823  1.221170  105.280062\n",
      "1  2acmU  1.334711 -0.340164  4.365080   73.037750\n",
      "2  409Wp  1.022732  0.151990  1.419926   85.265647\n",
      "\n",
      "      id         f0        f1        f2     product\n",
      "0  kBEdx -15.001348 -8.276000 -0.005876    3.179103\n",
      "1  62mP7  14.272088 -3.475083  0.999183   26.953261\n",
      "2  vyE1P   6.263187 -5.948386  5.001160  134.766305\n",
      "\n",
      "      id        f0        f1        f2    product\n",
      "0  fwXo0 -1.146987  0.963328 -0.828965  27.758673\n",
      "1  WJtFt  0.262778  0.269839 -2.530187  56.069697\n",
      "2  ovLUW  0.194587  0.289035 -5.586433  62.871910\n"
     ]
    }
   ],
   "source": [
    "# Lendo os DataFrames\n",
    "df_geo_0 = pd.read_csv('./datasets/geo_data_0.csv')\n",
    "df_geo_1 = pd.read_csv('./datasets/geo_data_1.csv')\n",
    "df_geo_2 = pd.read_csv('./datasets/geo_data_2.csv')\n",
    "\n",
    "print(df_geo_0.head(3))\n",
    "print()\n",
    "print(df_geo_1.head(3))\n",
    "print()\n",
    "print(df_geo_2.head(3))"
   ]
  },
  {
   "cell_type": "code",
   "execution_count": 127,
   "metadata": {},
   "outputs": [
    {
     "name": "stdout",
     "output_type": "stream",
     "text": [
      "<class 'pandas.core.frame.DataFrame'>\n",
      "RangeIndex: 100000 entries, 0 to 99999\n",
      "Data columns (total 5 columns):\n",
      " #   Column   Non-Null Count   Dtype  \n",
      "---  ------   --------------   -----  \n",
      " 0   id       100000 non-null  object \n",
      " 1   f0       100000 non-null  float64\n",
      " 2   f1       100000 non-null  float64\n",
      " 3   f2       100000 non-null  float64\n",
      " 4   product  100000 non-null  float64\n",
      "dtypes: float64(4), object(1)\n",
      "memory usage: 3.8+ MB\n",
      "None\n",
      "\n",
      "<class 'pandas.core.frame.DataFrame'>\n",
      "RangeIndex: 100000 entries, 0 to 99999\n",
      "Data columns (total 5 columns):\n",
      " #   Column   Non-Null Count   Dtype  \n",
      "---  ------   --------------   -----  \n",
      " 0   id       100000 non-null  object \n",
      " 1   f0       100000 non-null  float64\n",
      " 2   f1       100000 non-null  float64\n",
      " 3   f2       100000 non-null  float64\n",
      " 4   product  100000 non-null  float64\n",
      "dtypes: float64(4), object(1)\n",
      "memory usage: 3.8+ MB\n",
      "None\n",
      "\n",
      "<class 'pandas.core.frame.DataFrame'>\n",
      "RangeIndex: 100000 entries, 0 to 99999\n",
      "Data columns (total 5 columns):\n",
      " #   Column   Non-Null Count   Dtype  \n",
      "---  ------   --------------   -----  \n",
      " 0   id       100000 non-null  object \n",
      " 1   f0       100000 non-null  float64\n",
      " 2   f1       100000 non-null  float64\n",
      " 3   f2       100000 non-null  float64\n",
      " 4   product  100000 non-null  float64\n",
      "dtypes: float64(4), object(1)\n",
      "memory usage: 3.8+ MB\n",
      "None\n"
     ]
    }
   ],
   "source": [
    "# Imprimindo as informações gerais dos DataFrames\n",
    "print(df_geo_0.info())\n",
    "print()\n",
    "print(df_geo_1.info())\n",
    "print()\n",
    "print(df_geo_2.info())"
   ]
  },
  {
   "cell_type": "code",
   "execution_count": 128,
   "metadata": {},
   "outputs": [
    {
     "name": "stdout",
     "output_type": "stream",
     "text": [
      "0\n",
      "0\n",
      "0\n"
     ]
    }
   ],
   "source": [
    "# Checagem de dados duplicados\n",
    "print(df_geo_0.duplicated().sum())\n",
    "print(df_geo_1.duplicated().sum())\n",
    "print(df_geo_2.duplicated().sum())"
   ]
  },
  {
   "cell_type": "markdown",
   "metadata": {},
   "source": [
    "Cada um dos DataFrames possui 100.000 linhas com informações e, conforme podemos observar, não foi necessário realizar um pré-processamento dos dados, pois os 3 DataFrames que utilizaremos estão com nomes padronizados, com tipos de dados corretos e não possuem valores ausentes ou linhas com informações duplicadas.\n",
    "\n",
    "Portanto, seguiremos para a próxima etapa."
   ]
  },
  {
   "cell_type": "markdown",
   "metadata": {},
   "source": [
    "### Visualização dos dados"
   ]
  },
  {
   "cell_type": "markdown",
   "metadata": {},
   "source": [
    "**Nesta etapa iremos traçar histogramas para cada região para analisarmos os padrões da distribuição dos dados**"
   ]
  },
  {
   "cell_type": "code",
   "execution_count": 129,
   "metadata": {},
   "outputs": [],
   "source": [
    "# Criando uma função para traçar os histogramas de cada região\n",
    "def region_histogram(df):\n",
    "    columns = [\"f0\", \"f1\", \"f2\", \"product\"]\n",
    "    plt.figure(figsize=(15, 5))  # Ajusta o tamanho da figura\n",
    "    for i, column in enumerate(columns):    \n",
    "        ax = plt.subplot(1, len(columns), i + 1)\n",
    "        sns.histplot(data=df, x=column, bins=50, ax=ax)\n",
    "        ax.set_title(f'Histograma de {column}')\n",
    "        ax.set_xlabel(column)\n",
    "        ax.set_ylabel('Frequência')\n",
    "        ax.tick_params(axis='x', rotation=45)\n",
    "\n",
    "    plt.tight_layout()\n",
    "    plt.show()"
   ]
  },
  {
   "cell_type": "markdown",
   "metadata": {},
   "source": [
    "#### Histograma da Região 0"
   ]
  },
  {
   "cell_type": "code",
   "execution_count": 130,
   "metadata": {},
   "outputs": [
    {
     "data": {
      "image/png": "[encoded data removed]",
      "text/plain": [
       "<Figure size 1500x500 with 4 Axes>"
      ]
     },
     "metadata": {},
     "output_type": "display_data"
    }
   ],
   "source": [
    "region_histogram(df_geo_0)"
   ]
  },
  {
   "cell_type": "markdown",
   "metadata": {},
   "source": [
    "**Distribuições:**\n",
    "\n",
    "**f0:** A distribuição de f0 é multimodal, com vários picos e vales. Isso sugere que f0 pode ter várias subpopulações no conjunto de dados.  \n",
    "**f1:** A distribuição de f1 também é multimodal, apresentando múltiplos picos. Isso pode indicar a presença de subpopulações distintas.  \n",
    "**f2:** A distribuição de f2 é Normal. Essa distribuição sugere que f2 é uma característica contínua e bem comportada, com a maioria dos valores concentrados em torno da média e poucos valores extremos.  \n",
    "**product:** O histograma de product mostra uma distribuição multimodal com vários picos, indicando que o resultado também pode ter subpopulações. Essa distribuição pode refletir diferentes níveis de produção ou diferentes condições geológicas.  "
   ]
  },
  {
   "cell_type": "markdown",
   "metadata": {},
   "source": [
    "#### Histograma da Região 1"
   ]
  },
  {
   "cell_type": "code",
   "execution_count": 131,
   "metadata": {},
   "outputs": [
    {
     "data": {
      "image/png": "[encoded data removed]",
      "text/plain": [
       "<Figure size 1500x500 with 4 Axes>"
      ]
     },
     "metadata": {},
     "output_type": "display_data"
    }
   ],
   "source": [
    "region_histogram(df_geo_1)"
   ]
  },
  {
   "cell_type": "markdown",
   "metadata": {},
   "source": [
    "**Distribuições:**\n",
    "\n",
    "**f0:** A distribuição de f0 é bimodal, sugerindo que existem duas subpopulações distintas nos dados.  \n",
    "**f1:** A distribuição de f1 é Normal.  \n",
    "**f2:** A distribuição de f2 apresenta vários picos, com valores específicos sendo muito mais frequentes do que outros. Porém, sabemos que ela não é uma característica categórica e a transformação pode ser útil.  \n",
    "**product:** A distribuição de product também apresenta vários picos. "
   ]
  },
  {
   "cell_type": "markdown",
   "metadata": {},
   "source": [
    "#### Histograma da Região 2"
   ]
  },
  {
   "cell_type": "code",
   "execution_count": 132,
   "metadata": {},
   "outputs": [
    {
     "data": {
      "image/png": "[encoded data removed]",
      "text/plain": [
       "<Figure size 1500x500 with 4 Axes>"
      ]
     },
     "metadata": {},
     "output_type": "display_data"
    }
   ],
   "source": [
    "region_histogram(df_geo_2)"
   ]
  },
  {
   "cell_type": "markdown",
   "metadata": {},
   "source": [
    "**Distribuições:**\n",
    "\n",
    "**f0:** A distribuição de f0 é normal, centrada em torno de 0, com um formato simétrico.  \n",
    "**f1:** A distribuição de f1 também é normal, centrada em torno de 0, com um formato simétrico.   \n",
    "**f2:** A distribuição de f2 segue um padrão Normal, semelhante das demais.  \n",
    "**Product:** A distribuição do produto mostra uma variação considerável, com vários picos e vales, o que pode sugerir a presença de subpopulações."
   ]
  },
  {
   "cell_type": "markdown",
   "metadata": {},
   "source": [
    "Após analisar os histogramas, observamos que normalizar ou padronizar os dados com StandardScaler() pode ser benéfico antes de treinar os modelos. Portanto, antes de treinar o modelo, faremos a padronização dos dados."
   ]
  },
  {
   "cell_type": "markdown",
   "metadata": {},
   "source": [
    "## MODELOS DOS DATAFRAMES"
   ]
  },
  {
   "cell_type": "markdown",
   "metadata": {},
   "source": [
    "### DataFrame Região 0"
   ]
  },
  {
   "cell_type": "markdown",
   "metadata": {},
   "source": [
    "#### Remoção de colunas desnecessárias"
   ]
  },
  {
   "cell_type": "markdown",
   "metadata": {},
   "source": [
    "A coluna 'id' não é necessária e por conter strings, deve ser removida "
   ]
  },
  {
   "cell_type": "code",
   "execution_count": 133,
   "metadata": {},
   "outputs": [
    {
     "name": "stdout",
     "output_type": "stream",
     "text": [
      "         f0        f1        f2     product\n",
      "0  0.705745 -0.497823  1.221170  105.280062\n",
      "1  1.334711 -0.340164  4.365080   73.037750\n",
      "2  1.022732  0.151990  1.419926   85.265647\n"
     ]
    }
   ],
   "source": [
    "# Criando uma função para remoção de colunas desnecessárias\n",
    "def clean (df, target_column):\n",
    "    df = df.drop([target_column], axis = 1)\n",
    "    return df\n",
    "\n",
    "# Chamando a função para o df_geo_0\n",
    "df_geo_0 = clean(df_geo_0, 'id')\n",
    "\n",
    "print(df_geo_0.head(3))"
   ]
  },
  {
   "cell_type": "markdown",
   "metadata": {},
   "source": [
    "#### Divisão dos dados"
   ]
  },
  {
   "cell_type": "markdown",
   "metadata": {},
   "source": [
    "Nesta etapa faremos a divisão dos dados do DataFrame em um conjunto de treinamento e um conjunto de validação em uma proporção de 75:25"
   ]
  },
  {
   "cell_type": "code",
   "execution_count": 134,
   "metadata": {},
   "outputs": [
    {
     "name": "stdout",
     "output_type": "stream",
     "text": [
      "(75000, 3)\n",
      "(75000,)\n",
      "(25000, 3)\n",
      "(25000,)\n"
     ]
    }
   ],
   "source": [
    "# Criando uma função para divisão dos dados\n",
    "def split_data(df, target_column, test_size=0.25, random_state = 14):\n",
    "    target = df[target_column]\n",
    "    features = df.drop([target_column], axis = 1)\n",
    "    \n",
    "    features_train, features_valid, target_train, target_valid = train_test_split(\n",
    "        features, target, test_size = test_size, random_state = random_state)\n",
    "    \n",
    "    return features_train, features_valid, target_train, target_valid\n",
    "\n",
    "# Chamando a função para o df_geo_0\n",
    "features_train_0, features_valid_0, target_train_0, target_valid_0 = split_data(df_geo_0, 'product')\n",
    "\n",
    "print(features_train_0.shape)\n",
    "print(target_train_0.shape)\n",
    "print(features_valid_0.shape)\n",
    "print(target_valid_0.shape)"
   ]
  },
  {
   "cell_type": "markdown",
   "metadata": {},
   "source": [
    "#### Padronização dos dados"
   ]
  },
  {
   "cell_type": "markdown",
   "metadata": {},
   "source": [
    "Nesta etapa faremos a transformação dos dados para escalas padronizadas, evitando assim que os nossos modelos os interpretem de forma equivocada."
   ]
  },
  {
   "cell_type": "code",
   "execution_count": 135,
   "metadata": {},
   "outputs": [
    {
     "name": "stdout",
     "output_type": "stream",
     "text": [
      "[[-0.33935668 -0.89529587 -0.31500039]\n",
      " [ 0.72064997 -0.01690248  0.34237399]\n",
      " [ 0.70325366 -1.64643652 -0.26678233]\n",
      " ...\n",
      " [-0.31220071  1.07821574 -1.85600974]\n",
      " [-0.10594498 -0.58344306  1.31032786]\n",
      " [-0.44098936 -0.3403603   1.1154964 ]]\n",
      "\n",
      "[[-0.42546756  0.2263467  -0.97012462]\n",
      " [-1.42751179  0.77310129  0.51085334]\n",
      " [-1.50671968  0.90018654 -0.30972603]\n",
      " ...\n",
      " [ 0.13934514 -0.91561321 -0.36979932]\n",
      " [ 1.77259251  0.55000558  0.47309492]\n",
      " [-0.35932828 -0.97127706  1.21947256]]\n"
     ]
    }
   ],
   "source": [
    "# Criando uma função para padronização das colunas usando StandardScaler\n",
    "def standardization(features_train, features_valid):\n",
    "    scaler = StandardScaler()\n",
    "    features_train = scaler.fit_transform(features_train)\n",
    "    features_valid = scaler.transform(features_valid)\n",
    "    return features_train, features_valid\n",
    "\n",
    "# Chamando a função para padronização do df_geo_0\n",
    "features_train_0, features_valid_0 = standardization(features_train_0, features_valid_0)\n",
    "\n",
    "# Imprimir os resultados para verificação\n",
    "print(features_train_0)\n",
    "print()\n",
    "print(features_valid_0)"
   ]
  },
  {
   "cell_type": "markdown",
   "metadata": {},
   "source": [
    "#### Treinamento do modelo e predição de valores"
   ]
  },
  {
   "cell_type": "markdown",
   "metadata": {},
   "source": [
    "Nesta etapa realizaremos o treinamento do modelo e faremos as predições para o conjunto de validação"
   ]
  },
  {
   "cell_type": "code",
   "execution_count": 136,
   "metadata": {},
   "outputs": [
    {
     "name": "stdout",
     "output_type": "stream",
     "text": [
      "Volume médio previsto para a região 0 = 92.56331572920227\n",
      "\n",
      "Volume médio real para a região 0 = 92.44175782645175\n",
      "\n",
      "Diferença entre média real e média prevista: 0.12155790275052425\n"
     ]
    }
   ],
   "source": [
    "# Criando uma função para treinar o modelo e retornar a predição\n",
    "def model_predict(features_train, target_train, features_valid):\n",
    "    model = LinearRegression()\n",
    "    model.fit(features_train, target_train)\n",
    "\n",
    "    predicted_valid = model.predict(features_valid)\n",
    "    return predicted_valid\n",
    "\n",
    "# Chamando a função para o df_geo_0\n",
    "predicted_valid_0 = model_predict(features_train_0, target_train_0, features_valid_0)\n",
    "\n",
    "diff_0 = predicted_valid_0.mean() - target_valid_0.mean()\n",
    "\n",
    "print('Volume médio previsto para a região 0 =', predicted_valid_0.mean())\n",
    "print()\n",
    "print('Volume médio real para a região 0 =', target_valid_0.mean())\n",
    "print()\n",
    "print('Diferença entre média real e média prevista:', diff_0)"
   ]
  },
  {
   "cell_type": "markdown",
   "metadata": {},
   "source": [
    "#### Cálculo da raíz do erro quadrado médio"
   ]
  },
  {
   "cell_type": "code",
   "execution_count": 137,
   "metadata": {},
   "outputs": [
    {
     "name": "stdout",
     "output_type": "stream",
     "text": [
      "reqm do modelo da região 0 = 37.64172219212394\n"
     ]
    }
   ],
   "source": [
    "# criando uma função para calcular a raíz do erro quadrado médio\n",
    "def reqm(target_valid, predicted_valid):\n",
    "    reqm = root_mean_squared_error(target_valid, predicted_valid)\n",
    "    return reqm\n",
    "\n",
    "# Chamando a função para o df_geo_0\n",
    "reqm_0 = reqm(target_valid_0, predicted_valid_0)\n",
    "print('reqm do modelo da região 0 =', reqm_0)"
   ]
  },
  {
   "cell_type": "markdown",
   "metadata": {},
   "source": [
    "#### Análise dos resultados"
   ]
  },
  {
   "cell_type": "markdown",
   "metadata": {},
   "source": [
    "* **Volume médio previsto para a região 0:** 92.5633\n",
    "* **Volume médio real para a região 0:** 92.4418\n",
    "* **Diferença entre média real e prevista para a região 0:** 0.1215\n",
    "* **REQM do modelo da região 0:** 37.6417\n",
    "\n",
    "\n",
    "\n",
    "**Diferença entre as Médias:**\n",
    "A diferença entre o volume médio real e o volume médio previsto é muito pequena (0.1215). Isso indica que, em média, o modelo está bastante próximo do valor real, o que é positivo.\n",
    "\n",
    "\n",
    "**REQM:**\n",
    "Se o volume médio real é de 92.4418, um REQM de 37.6417 é muito grande em relação a este valor, representando 40,72% deste,  o que indica um erro relativo significativo. Isso sugere que o modelo pode estar cometendo erros importantes nas previsões individuais, mesmo que a média das previsões seja próxima da média real."
   ]
  },
  {
   "cell_type": "markdown",
   "metadata": {},
   "source": [
    "### DataFrame Região 1"
   ]
  },
  {
   "cell_type": "markdown",
   "metadata": {},
   "source": [
    "#### Remoção de colunas desnecessárias"
   ]
  },
  {
   "cell_type": "code",
   "execution_count": 138,
   "metadata": {},
   "outputs": [
    {
     "name": "stdout",
     "output_type": "stream",
     "text": [
      "              f0         f1        f2     product\n",
      "0     -15.001348  -8.276000 -0.005876    3.179103\n",
      "1      14.272088  -3.475083  0.999183   26.953261\n",
      "2       6.263187  -5.948386  5.001160  134.766305\n",
      "3     -13.081196 -11.506057  4.999415  137.945408\n",
      "4      12.702195  -8.147433  5.004363  134.766305\n",
      "...          ...        ...       ...         ...\n",
      "99995   9.535637  -6.878139  1.998296   53.906522\n",
      "99996 -10.160631 -12.558096  5.005581  137.945408\n",
      "99997  -7.378891  -3.084104  4.998651  137.945408\n",
      "99998   0.665714  -6.152593  1.000146   30.132364\n",
      "99999  -3.426139  -7.794274 -0.003299    3.179103\n",
      "\n",
      "[100000 rows x 4 columns]\n"
     ]
    }
   ],
   "source": [
    "# Chamando a função para remoção de colunas desnecessárias\n",
    "df_geo_1 = clean(df_geo_1, 'id')\n",
    "\n",
    "print(df_geo_1)"
   ]
  },
  {
   "cell_type": "markdown",
   "metadata": {},
   "source": [
    "#### Divisão dos dados"
   ]
  },
  {
   "cell_type": "code",
   "execution_count": 139,
   "metadata": {},
   "outputs": [
    {
     "name": "stdout",
     "output_type": "stream",
     "text": [
      "(75000, 3)\n",
      "(75000,)\n",
      "(25000, 3)\n",
      "(25000,)\n"
     ]
    }
   ],
   "source": [
    "# Chamando a função para divisão dos dados\n",
    "features_train_1, features_valid_1, target_train_1, target_valid_1 = split_data(df_geo_1, 'product')\n",
    "\n",
    "print(features_train_1.shape)\n",
    "print(target_train_1.shape)\n",
    "print(features_valid_1.shape)\n",
    "print(target_valid_1.shape)"
   ]
  },
  {
   "cell_type": "markdown",
   "metadata": {},
   "source": [
    "#### Padronização dos dados"
   ]
  },
  {
   "cell_type": "code",
   "execution_count": 140,
   "metadata": {},
   "outputs": [
    {
     "name": "stdout",
     "output_type": "stream",
     "text": [
      "[[-0.77186033 -0.8104102  -1.46344845]\n",
      " [-1.64139535  0.33147337 -1.46251823]\n",
      " [ 1.40804429  0.82144991 -1.46226735]\n",
      " ...\n",
      " [-0.44790644  1.61951741 -1.45440443]\n",
      " [ 1.46510578  0.59871055  0.88096384]\n",
      " [ 0.0404159   0.00939196  1.47095269]]\n",
      "\n",
      "[[ 0.65180102  0.05541995  1.46452719]\n",
      " [-0.65609667  0.77312081  0.87776405]\n",
      " [-0.37119437  0.18425662  0.88683481]\n",
      " ...\n",
      " [ 1.27259819 -0.76184676 -0.87330901]\n",
      " [-0.98180996 -1.10240513 -0.87198871]\n",
      " [-1.17703875 -0.16253508  0.29589075]]\n"
     ]
    }
   ],
   "source": [
    "# Chamando a função para padronização dos dados\n",
    "features_train_1, features_valid_1 = standardization(features_train_1, features_valid_1)\n",
    "\n",
    "# Imprimir os resultados para verificação\n",
    "print(features_train_1)\n",
    "print()\n",
    "print(features_valid_1)"
   ]
  },
  {
   "cell_type": "markdown",
   "metadata": {},
   "source": [
    "#### Treinamento do modelo e predição de valores"
   ]
  },
  {
   "cell_type": "code",
   "execution_count": 141,
   "metadata": {},
   "outputs": [
    {
     "name": "stdout",
     "output_type": "stream",
     "text": [
      "Volume médio previsto para a região 1 = 68.89452655451875\n",
      "\n",
      "Volume médio real para a região 1 = 68.89534939351084\n",
      "\n",
      "Diferença entre média real e média prevista: -0.0008228389920930113\n"
     ]
    }
   ],
   "source": [
    "# Chamando a função para predição dos valores\n",
    "predicted_valid_1 = model_predict(features_train_1, target_train_1, features_valid_1)\n",
    "\n",
    "diff_1 = predicted_valid_1.mean() - target_valid_1.mean()\n",
    "\n",
    "\n",
    "print('Volume médio previsto para a região 1 =', predicted_valid_1.mean())\n",
    "print()\n",
    "print('Volume médio real para a região 1 =', target_valid_1.mean())\n",
    "print()\n",
    "print('Diferença entre média real e média prevista:', diff_1)"
   ]
  },
  {
   "cell_type": "markdown",
   "metadata": {},
   "source": [
    "#### Cálculo da raíz do erro quadrado médio"
   ]
  },
  {
   "cell_type": "code",
   "execution_count": 142,
   "metadata": {},
   "outputs": [
    {
     "name": "stdout",
     "output_type": "stream",
     "text": [
      "reqm do modelo da região 1 = 0.8925967602874495\n"
     ]
    }
   ],
   "source": [
    "# Chamando a função que calcula a raíz do erro quadrado médio\n",
    "reqm_1 = reqm(target_valid_1, predicted_valid_1)\n",
    "\n",
    "print('reqm do modelo da região 1 =', reqm_1)"
   ]
  },
  {
   "cell_type": "markdown",
   "metadata": {},
   "source": [
    "#### Análise dos resultados"
   ]
  },
  {
   "cell_type": "markdown",
   "metadata": {},
   "source": [
    "* **Volume médio previsto para a região 1:** 68.8945\n",
    "* **Volume médio real para a região 1:** 68.8953\n",
    "* **Diferença entre média real e prevista para a região 1:** -0.0008\n",
    "* **REQM do modelo da região 1:** 0.8926\n",
    "\n",
    "\n",
    "**Diferença entre as Médias:**\n",
    "A diferença entre o volume médio real e o volume médio previsto é praticamente insignificante (0.0008). Isso indica que, em média, o modelo está muito preciso e muito próximo do valor real, o que é positivo.\n",
    "\n",
    "\n",
    "**REQM:**\n",
    "Se o volume médio real é de 68.8953, um REQM de 0.8926 é bem aceitável, representando apenas 1,3% deste.  \n",
    "Este REQM indica que as previsões individuais do modelo são bem precisas, com um erro médio de menos de 1, o que é excelente considerando a escala dos valores.\n"
   ]
  },
  {
   "cell_type": "markdown",
   "metadata": {},
   "source": [
    "### DataFrame Região 2"
   ]
  },
  {
   "cell_type": "markdown",
   "metadata": {},
   "source": [
    "#### Remoção de colunas desnecessárias"
   ]
  },
  {
   "cell_type": "code",
   "execution_count": 143,
   "metadata": {},
   "outputs": [
    {
     "name": "stdout",
     "output_type": "stream",
     "text": [
      "             f0        f1        f2     product\n",
      "0     -1.146987  0.963328 -0.828965   27.758673\n",
      "1      0.262778  0.269839 -2.530187   56.069697\n",
      "2      0.194587  0.289035 -5.586433   62.871910\n",
      "3      2.236060 -0.553760  0.930038  114.572842\n",
      "4     -0.515993  1.716266  5.899011  149.600746\n",
      "...         ...       ...       ...         ...\n",
      "99995 -1.777037  1.125220  6.263374  172.327046\n",
      "99996 -1.261523 -0.894828  2.524545  138.748846\n",
      "99997 -1.199934 -2.957637  5.219411  157.080080\n",
      "99998 -2.419896  2.417221 -5.548444   51.795253\n",
      "99999 -2.551421 -2.025625  6.090891  102.775767\n",
      "\n",
      "[100000 rows x 4 columns]\n"
     ]
    }
   ],
   "source": [
    "# Chamando a função para remoção de colunas desnecessárias\n",
    "df_geo_2 = clean(df_geo_2, 'id')\n",
    "\n",
    "print(df_geo_2)"
   ]
  },
  {
   "cell_type": "markdown",
   "metadata": {},
   "source": [
    "#### Divisão dos dados"
   ]
  },
  {
   "cell_type": "code",
   "execution_count": 144,
   "metadata": {},
   "outputs": [
    {
     "name": "stdout",
     "output_type": "stream",
     "text": [
      "(75000, 3)\n",
      "(75000,)\n",
      "(25000, 3)\n",
      "(25000,)\n"
     ]
    }
   ],
   "source": [
    "# Chamando a função para divisão dos dados\n",
    "features_train_2, features_valid_2, target_train_2, target_valid_2 = split_data(df_geo_2, 'product')\n",
    "\n",
    "print(features_train_2.shape)\n",
    "print(target_train_2.shape)\n",
    "print(features_valid_2.shape)\n",
    "print(target_valid_2.shape)"
   ]
  },
  {
   "cell_type": "markdown",
   "metadata": {},
   "source": [
    "#### Padronização dos dados"
   ]
  },
  {
   "cell_type": "code",
   "execution_count": 145,
   "metadata": {},
   "outputs": [
    {
     "name": "stdout",
     "output_type": "stream",
     "text": [
      "[[ 0.16480696 -0.79253507  2.13100605]\n",
      " [-0.03540357 -0.2660114  -0.59022395]\n",
      " [-0.65024629  1.01632028 -0.64191254]\n",
      " ...\n",
      " [-0.50998991  0.49615572  0.76638058]\n",
      " [ 0.25901302  0.58506025 -0.05433839]\n",
      " [-0.74276472 -0.58450664  0.50627248]]\n",
      "\n",
      "[[ 1.34137828  0.57666841 -0.3301181 ]\n",
      " [-0.87474829 -0.32988573  0.03956245]\n",
      " [-0.92816295 -0.01401015  0.28281811]\n",
      " ...\n",
      " [ 0.66397935 -0.50766686  0.23199241]\n",
      " [-0.32805322 -1.15826972  1.58552851]\n",
      " [-0.54424805  1.09077129 -1.20186032]]\n"
     ]
    }
   ],
   "source": [
    "# Chamando a função para padronização dos dados\n",
    "features_train_2, features_valid_2 = standardization(features_train_2, features_valid_2)\n",
    "\n",
    "# Imprimir os resultados para verificação\n",
    "print(features_train_2)\n",
    "print()\n",
    "print(features_valid_2)"
   ]
  },
  {
   "cell_type": "markdown",
   "metadata": {},
   "source": [
    "#### Treinamento do modelo e predição de valores"
   ]
  },
  {
   "cell_type": "code",
   "execution_count": 146,
   "metadata": {},
   "outputs": [
    {
     "name": "stdout",
     "output_type": "stream",
     "text": [
      "Volume médio previsto para a região 2 = 95.04162515658936\n",
      "\n",
      "Volume médio real para a região 2 = 95.21832420798346\n",
      "\n",
      "Diferença entre média real e média prevista: -0.17669905139409536\n"
     ]
    }
   ],
   "source": [
    "# Chamando a função para predição dos valores\n",
    "predicted_valid_2 = model_predict(features_train_2, target_train_2, features_valid_2)\n",
    "\n",
    "diff_2 = predicted_valid_2.mean() - target_valid_2.mean()\n",
    "\n",
    "print('Volume médio previsto para a região 2 =', predicted_valid_2.mean())\n",
    "print()\n",
    "print('Volume médio real para a região 2 =', target_valid_2.mean())\n",
    "print()\n",
    "print('Diferença entre média real e média prevista:', diff_2)"
   ]
  },
  {
   "cell_type": "markdown",
   "metadata": {},
   "source": [
    "#### Cálculo da raíz do erro quadrado médio"
   ]
  },
  {
   "cell_type": "code",
   "execution_count": 147,
   "metadata": {},
   "outputs": [
    {
     "name": "stdout",
     "output_type": "stream",
     "text": [
      "reqm do modelo da região 2 = 39.824525086273866\n"
     ]
    }
   ],
   "source": [
    "# Chamando a função que calcula a raíz do erro quadrado médio\n",
    "reqm_2 = reqm(target_valid_2, predicted_valid_2)\n",
    "\n",
    "print('reqm do modelo da região 2 =', reqm_2)"
   ]
  },
  {
   "cell_type": "markdown",
   "metadata": {},
   "source": [
    "#### Análise dos resultados"
   ]
  },
  {
   "cell_type": "markdown",
   "metadata": {},
   "source": [
    "* **Volume médio previsto para a região 2:** 95.0416\n",
    "* **Volume médio real para a região 2:** 95.2183\n",
    "* **Diferença entre média real e prevista para a região 2:** -0.1767\n",
    "* **REQM do modelo da região 2:** 39.8245\n",
    "\n",
    "\n",
    "**Diferença entre as Médias:**\n",
    "A diferença entre o volume médio real e o volume médio previsto é muito pequena (0.1767). Isso indica que, em média, o modelo tem um bom resultado, próximo do valor real, o que é positivo.\n",
    "\n",
    "\n",
    "**REQM:**\n",
    "Se o volume médio real é de 95.2183, um REQM de 39.8245 é muito grande, representando 41,82% do volume médio, o que indica um erro relativo significativo. Isso sugere que o modelo pode estar cometendo erros importantes nas previsões individuais, mesmo que a média das previsões seja próxima da média real."
   ]
  },
  {
   "cell_type": "markdown",
   "metadata": {},
   "source": [
    "### Primeiras Análises"
   ]
  },
  {
   "cell_type": "markdown",
   "metadata": {},
   "source": [
    "**TABELA DE RESULTADOS:**\n",
    "   \n",
    "| DataFrame  | Volume Médio Previsto | Volume Médio Real | Diferença | REQM         |\n",
    "|------------|-----------------------|-------------------|-----------|--------------|\n",
    "| df_geo_0   | 92.5633               | 92.4418           | 0.1215    | 37.6417      |\n",
    "| df_geo_1   | 68.8945               | 68.8953           | -0.0008   | 0.8926       |\n",
    "| df_geo_2   | 95.0416               | 95.2183           | -0.1767   | 39.8245      |\n",
    "    \n",
    "<br>\n",
    "\n",
    "**Diferença entre as Médias:**\n",
    "A diferença entre o volume médio real e o volume médio previsto foi pequena em todos os modelos. Isso indica que, em relação aos valores médios, todos os modelos apresentaram um resultado satisfatório.  \n",
    "Porém, ainda assim, o modelo da **região 1 obteve a menor diferença**, indicando que é o mais preciso em prever o valor médio.\n",
    "\n",
    "\n",
    "**REQM:**\n",
    "Em relação ao REQM, apenas o modelo da **região 1 apresentou um bom resultado**, pois obteve um erro muito pequeno em relação à escala dos volumes reais, representando apenas 1.3%. Portanto, este modelo é o mais preciso também nas previsões individuais.  \n",
    "Os outros modelos, **região 0** e **região 2, apresentaram erros muito significativos**, representando 40.72% e 41.82% em relação aos volumes reais.\n",
    "\n",
    "**Volume Médio Previsto:**\n",
    "Apesar de apresentar o melhor modelo, a região 1 apresentou o menor valor para os Volumes Médios Real e Previsto."
   ]
  },
  {
   "cell_type": "markdown",
   "metadata": {},
   "source": [
    "## CÁLCULO DE LUCRO POTENCIAL"
   ]
  },
  {
   "cell_type": "markdown",
   "metadata": {},
   "source": [
    "### Criação das variáveis necessárias"
   ]
  },
  {
   "cell_type": "code",
   "execution_count": 148,
   "metadata": {},
   "outputs": [],
   "source": [
    "petroleum_well_budget = 100000000 # Orçamento para o desenvolvimento de 200 poços de petróleo é 100 milhões de dólares.\n",
    "unit_income = 4500 # A receita de uma unidade de produto é 4.500 dólares (o volume de reservas está em milhares de barris)\n",
    "number_wells = 200"
   ]
  },
  {
   "cell_type": "markdown",
   "metadata": {},
   "source": [
    "### Produção média necessária"
   ]
  },
  {
   "cell_type": "code",
   "execution_count": 149,
   "metadata": {},
   "outputs": [
    {
     "name": "stdout",
     "output_type": "stream",
     "text": [
      "A produção média necessária por poço para evitar prejuízos é de 111.1 unidades\n"
     ]
    }
   ],
   "source": [
    "average_production_required = petroleum_well_budget/number_wells/unit_income\n",
    "\n",
    "print(f'A produção média necessária por poço para evitar prejuízos é de {average_production_required:.1f} unidades')"
   ]
  },
  {
   "cell_type": "markdown",
   "metadata": {},
   "source": [
    "### Primeiras conclusões"
   ]
  },
  {
   "cell_type": "markdown",
   "metadata": {},
   "source": [
    "Como o investimento é de 100 milhões de dólares para a perfuração de 200 poços de petróleo, cada poço precisa produzir, em média, uma quantidade de unidades equivalente a pelo menos 500 mil dólares para evitar prejuízos. Isso quer dizer que é **necessária uma produção média de 111.1 unidades (ou 111.100 barris) por poço**.\n",
    "\n",
    "Inicialmente, esta produção média mínima necessária nos traz um problema, pois nenhuma de nossas regiões obteve esta média, como pode ser observado abaixo: \n",
    "\n",
    "| DataFrame  | Volume Médio Previsto |\n",
    "|------------|-----------------------|\n",
    "| df_geo_0   | 92.5633               |\n",
    "| df_geo_1   | 68.8945               |\n",
    "| df_geo_2   | 95.0416               |\n",
    "\n",
    "\n",
    "Portanto, precisaremos de uma estratégia para avaliarmos os possíveis lucros e prejuízos.  \n",
    "Iremos estudar 500 pontos por região e selecionar os melhores 200 pontos para calcular o lucro."
   ]
  },
  {
   "cell_type": "markdown",
   "metadata": {},
   "source": [
    "## Cálculo do lucro potencial de um conjunto de pontos selecionados"
   ]
  },
  {
   "cell_type": "markdown",
   "metadata": {},
   "source": [
    "Nesta etapa iremos criar uma função que irá selecionar aleatoriamente 500 pontos. Depois, dentre estes 500 pontos, irá selecionar os 200 pontos com os valores mais altos previstos e calcular as seguintes métricas: volume total, volume médio, receita total e lucro potencial.\n",
    "\n",
    "Depois iremos chamar essa função para realizar os cálculos para cada uma das regiões estudadas."
   ]
  },
  {
   "cell_type": "code",
   "execution_count": 150,
   "metadata": {},
   "outputs": [],
   "source": [
    "# Criando a função para o cálculo das métricas\n",
    "def top_200_summary(predicted_valid):\n",
    "    np.random.seed(12345)\n",
    "    sample_500 = np.random.choice(predicted_valid, size=500, replace=False) # Amostrando 500 pontos aleatórios\n",
    "    top_200 = sorted(sample_500, reverse=True)[:200] # Selecionando 200 valores mais altos dentre os 500 amostrados\n",
    "    target_volume_pred = sum(top_200) # Somando os volumes previstos para cada poço dentre os selecionados\n",
    "    avg_target_vol = target_volume_pred / number_wells # Calculando a média de produção por poço\n",
    "    group_income = target_volume_pred * unit_income # Multiplicando o volume previsto pela receita de uma unidade\n",
    "    group_profit =  group_income - petroleum_well_budget # Calculando o lucro previsto de cada região\n",
    "    print(f'''O volume alvo de reservas previsto para o grupo de postos da região é de {target_volume_pred:.2f}.\n",
    "O volume médio de produção por poço é de {avg_target_vol:.2f} unidades.\n",
    "A receita total prevista é de {group_income/1000000:.2f} milhões de dólares.\n",
    "O lucro previsto é de {group_profit/1000000:.2f} milhões de dólares''')\n",
    "    return target_volume_pred, avg_target_vol, group_income, group_profit, top_200"
   ]
  },
  {
   "cell_type": "markdown",
   "metadata": {},
   "source": [
    "### Região 0"
   ]
  },
  {
   "cell_type": "code",
   "execution_count": 151,
   "metadata": {},
   "outputs": [
    {
     "name": "stdout",
     "output_type": "stream",
     "text": [
      "O volume alvo de reservas previsto para o grupo de postos da região é de 22648.52.\n",
      "O volume médio de produção por poço é de 113.24 unidades.\n",
      "A receita total prevista é de 101.92 milhões de dólares.\n",
      "O lucro previsto é de 1.92 milhões de dólares\n"
     ]
    }
   ],
   "source": [
    "# Chamando a função top_200_summary\n",
    "target_volume_pred_0, avg_target_vol_0, group_income_geo_0, group_profit_0, top_200_0  = top_200_summary(predicted_valid_0)"
   ]
  },
  {
   "cell_type": "markdown",
   "metadata": {},
   "source": [
    "### Região 1"
   ]
  },
  {
   "cell_type": "code",
   "execution_count": 152,
   "metadata": {},
   "outputs": [
    {
     "name": "stdout",
     "output_type": "stream",
     "text": [
      "O volume alvo de reservas previsto para o grupo de postos da região é de 23293.56.\n",
      "O volume médio de produção por poço é de 116.47 unidades.\n",
      "A receita total prevista é de 104.82 milhões de dólares.\n",
      "O lucro previsto é de 4.82 milhões de dólares\n"
     ]
    }
   ],
   "source": [
    "# Chamando a função top_200_summary\n",
    "target_volume_pred_1, avg_target_vol_1, group_income_geo_1, group_profit_1, top_200_1 = top_200_summary(predicted_valid_1)"
   ]
  },
  {
   "cell_type": "markdown",
   "metadata": {},
   "source": [
    "### Região 2"
   ]
  },
  {
   "cell_type": "code",
   "execution_count": 153,
   "metadata": {},
   "outputs": [
    {
     "name": "stdout",
     "output_type": "stream",
     "text": [
      "O volume alvo de reservas previsto para o grupo de postos da região é de 23143.42.\n",
      "O volume médio de produção por poço é de 115.72 unidades.\n",
      "A receita total prevista é de 104.15 milhões de dólares.\n",
      "O lucro previsto é de 4.15 milhões de dólares\n"
     ]
    }
   ],
   "source": [
    "target_volume_pred_2, avg_target_vol_2, group_income_geo_2, group_profit_2, top_200_2  = top_200_summary(predicted_valid_2)"
   ]
  },
  {
   "cell_type": "markdown",
   "metadata": {},
   "source": [
    "### DataFrame comparativo de resultados"
   ]
  },
  {
   "cell_type": "code",
   "execution_count": 154,
   "metadata": {},
   "outputs": [
    {
     "name": "stdout",
     "output_type": "stream",
     "text": [
      "          diff_previsto_e_real       reqm  produção_média  lucro_médio\n",
      "região                                                                \n",
      "região_0              0.121558  37.641722      113.242597     1.918337\n",
      "região_1             -0.000823   0.892597      116.467788     4.821009\n",
      "região_2             -0.176699  39.824525      115.717113     4.145402\n"
     ]
    }
   ],
   "source": [
    "# Resumo dos resultados\n",
    "results = {\n",
    "    'região': ['região_0', 'região_1', 'região_2'],\n",
    "    'diff_previsto_e_real': [diff_0, diff_1, diff_2],\n",
    "    'reqm': [reqm_0, reqm_1, reqm_2],\n",
    "    'produção_média': [avg_target_vol_0, avg_target_vol_1, avg_target_vol_2],\n",
    "    'lucro_médio': [group_profit_0/1000000, group_profit_1/1000000, group_profit_2/1000000]}\n",
    "\n",
    "# Criando o DataFrame e definindo as regiões como índices\n",
    "df_results = pd.DataFrame(results)\n",
    "df_results = df_results.set_index('região')\n",
    "\n",
    "print(df_results)"
   ]
  },
  {
   "cell_type": "markdown",
   "metadata": {},
   "source": [
    "### Conclusões"
   ]
  },
  {
   "cell_type": "markdown",
   "metadata": {},
   "source": [
    "Analisando os resultados obtidos, a região recomendada para o desenvolvimento dos poços de petróleo seria a região 1, pois apresentou a maior produção média e consequentemente o maior lucro."
   ]
  },
  {
   "cell_type": "markdown",
   "metadata": {},
   "source": [
    "## Cálculo dos riscos e lucro"
   ]
  },
  {
   "cell_type": "markdown",
   "metadata": {},
   "source": [
    "Nesta etapa iremos usar a técnica de bootstrapping com 1.000 amostras para encontrar a distribuição de lucros para os melhores 200 poços de cada região selecionados anteriormente."
   ]
  },
  {
   "cell_type": "code",
   "execution_count": 155,
   "metadata": {},
   "outputs": [],
   "source": [
    "# transformando as listas com 200 melhores poços em Panda Series\n",
    "top_200_0 = pd.Series(top_200_0)\n",
    "top_200_1 = pd.Series(top_200_1)\n",
    "top_200_2 = pd.Series(top_200_2)"
   ]
  },
  {
   "cell_type": "code",
   "execution_count": 156,
   "metadata": {},
   "outputs": [],
   "source": [
    "# Criando uma instância RamdonState para randomização\n",
    "state = np.random.RandomState(12345)\n",
    "\n",
    "# Criando uma função para calcular os lucros e retornar o intervalo de confiança de 95%\n",
    "def profit_calculation(top_200):\n",
    "    values = []\n",
    "    for i in range(1000):\n",
    "        top_200_subsample = top_200.sample(n=len(top_200) , replace=True, random_state=state)\n",
    "        target_volume_pred_subsample = sum(top_200_subsample)\n",
    "        profit_subsample = (target_volume_pred_subsample * unit_income) - petroleum_well_budget\n",
    "        values.append(profit_subsample/1000000)\n",
    "        \n",
    "    values = pd.Series(values)\n",
    "    lower = values.quantile(0.025)\n",
    "    upper = values.quantile(0.975)\n",
    "    profit_mean = values.mean()\n",
    "    risk_of_loss = (values < 0).mean() * 100  # Probabilidade de prejuízo em porcentagem\n",
    "    \n",
    "    return profit_mean, lower, upper, risk_of_loss"
   ]
  },
  {
   "cell_type": "code",
   "execution_count": 157,
   "metadata": {},
   "outputs": [
    {
     "name": "stdout",
     "output_type": "stream",
     "text": [
      "Região 0 - Lucro médio: 1.89 (M USD) / IC 95%: [0.19, 3.61] / Risco de prejuízo: 1.2%\n",
      "Região 1 - Lucro médio: 4.85 (M USD) / IC 95%: [2.53, 7.29] / Risco de prejuízo: 0.0%\n",
      "Região 2 - Lucro médio: 4.18 (M USD) / IC 95%: [2.83, 5.63] / Risco de prejuízo: 0.0%\n"
     ]
    }
   ],
   "source": [
    "profit_mean_0, lower_0, upper_0, risk_of_loss_0 = profit_calculation(top_200_0)\n",
    "profit_mean_1, lower_1, upper_1, risk_of_loss_1 = profit_calculation(top_200_1)\n",
    "profit_mean_2, lower_2, upper_2, risk_of_loss_2 = profit_calculation(top_200_2)\n",
    "\n",
    "print(f'Região 0 - Lucro médio: {profit_mean_0:.2f} (M USD) / IC 95%: [{lower_0:.2f}, {upper_0:.2f}] / Risco de prejuízo: {risk_of_loss_0}%')\n",
    "print(f'Região 1 - Lucro médio: {profit_mean_1:.2f} (M USD) / IC 95%: [{lower_1:.2f}, {upper_1:.2f}] / Risco de prejuízo: {risk_of_loss_1}%')\n",
    "print(f'Região 2 - Lucro médio: {profit_mean_2:.2f} (M USD) / IC 95%: [{lower_2:.2f}, {upper_2:.2f}] / Risco de prejuízo: {risk_of_loss_2}%')"
   ]
  },
  {
   "cell_type": "markdown",
   "metadata": {},
   "source": [
    "## Conclusão"
   ]
  },
  {
   "cell_type": "markdown",
   "metadata": {},
   "source": [
    "Apesar de inicialmente a região 1 ter apresentado o menor volume médio, esta foi a região que apresentou o melhor modelo e o lucro médio mais alto. Portanto, esta deve ser a região escolhida para a perfuração dos poços de petróleo. Esse resultado pode ter relação com a baixa qualidade dos modelos da região 0 e da região 2, que previam quantidades maiores de reservas, mas continham muito erro."
   ]
  },
  {
   "cell_type": "markdown",
   "metadata": {},
   "source": [
    "<center>\n",
    "    \n",
    "# Renan Rosental de Oliveira"
   ]
  }
 ],
 "metadata": {
  "ExecuteTimeLog": [
   {
    "duration": 315,
    "start_time": "2024-06-11T16:29:03.791Z"
   },
   {
    "duration": 4970,
    "start_time": "2024-06-11T16:29:10.380Z"
   },
   {
    "duration": 816,
    "start_time": "2024-06-11T16:29:15.354Z"
   },
   {
    "duration": 176,
    "start_time": "2024-06-11T16:29:56.200Z"
   },
   {
    "duration": 167,
    "start_time": "2024-06-11T16:30:21.429Z"
   },
   {
    "duration": 232,
    "start_time": "2024-06-11T16:30:24.162Z"
   },
   {
    "duration": 25,
    "start_time": "2024-06-11T16:31:05.859Z"
   },
   {
    "duration": 19,
    "start_time": "2024-06-11T16:31:11.456Z"
   },
   {
    "duration": 17,
    "start_time": "2024-06-11T16:31:27.077Z"
   },
   {
    "duration": 17,
    "start_time": "2024-06-11T16:31:34.738Z"
   },
   {
    "duration": 371,
    "start_time": "2024-06-11T16:34:11.179Z"
   },
   {
    "duration": 44,
    "start_time": "2024-06-11T16:34:45.867Z"
   },
   {
    "duration": 41,
    "start_time": "2024-06-11T16:35:32.775Z"
   },
   {
    "duration": 146,
    "start_time": "2024-06-11T16:39:43.246Z"
   },
   {
    "duration": 146,
    "start_time": "2024-06-11T16:39:55.166Z"
   },
   {
    "duration": 366,
    "start_time": "2024-06-11T16:50:51.763Z"
   },
   {
    "duration": 43,
    "start_time": "2024-06-11T16:51:21.989Z"
   },
   {
    "duration": 155,
    "start_time": "2024-06-11T16:51:41.130Z"
   },
   {
    "duration": 9,
    "start_time": "2024-06-11T17:01:38.690Z"
   },
   {
    "duration": 7,
    "start_time": "2024-06-11T17:09:33.956Z"
   },
   {
    "duration": 11,
    "start_time": "2024-06-11T17:09:45.573Z"
   },
   {
    "duration": 13,
    "start_time": "2024-06-11T17:09:54.403Z"
   },
   {
    "duration": 8,
    "start_time": "2024-06-11T17:10:01.278Z"
   },
   {
    "duration": 48,
    "start_time": "2024-06-11T17:12:14.601Z"
   },
   {
    "duration": 31,
    "start_time": "2024-06-11T17:12:38.944Z"
   },
   {
    "duration": 96,
    "start_time": "2024-06-11T17:23:28.890Z"
   },
   {
    "duration": 64,
    "start_time": "2024-06-11T17:24:48.375Z"
   },
   {
    "duration": 71,
    "start_time": "2024-06-11T17:25:02.323Z"
   },
   {
    "duration": 12,
    "start_time": "2024-06-11T17:26:46.131Z"
   },
   {
    "duration": 10,
    "start_time": "2024-06-11T17:30:02.389Z"
   },
   {
    "duration": 20,
    "start_time": "2024-06-11T17:30:15.601Z"
   },
   {
    "duration": 10,
    "start_time": "2024-06-11T17:30:20.718Z"
   },
   {
    "duration": 39,
    "start_time": "2024-06-11T17:30:37.254Z"
   },
   {
    "duration": 10,
    "start_time": "2024-06-11T17:31:14.278Z"
   },
   {
    "duration": 6,
    "start_time": "2024-06-11T17:31:48.741Z"
   },
   {
    "duration": 1470,
    "start_time": "2024-06-11T17:32:30.496Z"
   },
   {
    "duration": 396,
    "start_time": "2024-06-11T17:32:31.970Z"
   },
   {
    "duration": 46,
    "start_time": "2024-06-11T17:32:32.370Z"
   },
   {
    "duration": 189,
    "start_time": "2024-06-11T17:32:32.420Z"
   },
   {
    "duration": 23,
    "start_time": "2024-06-11T17:32:32.612Z"
   },
   {
    "duration": 21,
    "start_time": "2024-06-11T17:32:32.638Z"
   },
   {
    "duration": 11,
    "start_time": "2024-06-11T17:32:32.662Z"
   },
   {
    "duration": 16,
    "start_time": "2024-06-11T17:32:32.676Z"
   },
   {
    "duration": 11,
    "start_time": "2024-06-11T17:33:28.606Z"
   },
   {
    "duration": 19,
    "start_time": "2024-06-11T17:39:58.109Z"
   },
   {
    "duration": 557,
    "start_time": "2024-06-11T17:40:57.838Z"
   },
   {
    "duration": 27,
    "start_time": "2024-06-11T17:41:07.337Z"
   },
   {
    "duration": 13,
    "start_time": "2024-06-11T17:46:12.545Z"
   },
   {
    "duration": 10,
    "start_time": "2024-06-11T17:47:30.359Z"
   },
   {
    "duration": 5,
    "start_time": "2024-06-11T17:47:42.256Z"
   },
   {
    "duration": 7,
    "start_time": "2024-06-11T17:48:12.386Z"
   },
   {
    "duration": 6,
    "start_time": "2024-06-11T17:49:57.562Z"
   },
   {
    "duration": 6,
    "start_time": "2024-06-11T17:52:27.922Z"
   },
   {
    "duration": 19,
    "start_time": "2024-06-11T17:55:22.584Z"
   },
   {
    "duration": 6,
    "start_time": "2024-06-11T17:55:35.762Z"
   },
   {
    "duration": 1375,
    "start_time": "2024-06-11T18:13:52.398Z"
   },
   {
    "duration": 188,
    "start_time": "2024-06-11T18:14:14.292Z"
   },
   {
    "duration": 26,
    "start_time": "2024-06-11T18:14:39.286Z"
   },
   {
    "duration": 82,
    "start_time": "2024-06-11T18:14:48.830Z"
   },
   {
    "duration": 11,
    "start_time": "2024-06-11T18:15:09.326Z"
   },
   {
    "duration": 10,
    "start_time": "2024-06-11T18:15:28.824Z"
   },
   {
    "duration": 95,
    "start_time": "2024-06-11T18:15:51.412Z"
   },
   {
    "duration": 1488,
    "start_time": "2024-06-11T18:15:58.346Z"
   },
   {
    "duration": 394,
    "start_time": "2024-06-11T18:15:59.839Z"
   },
   {
    "duration": 53,
    "start_time": "2024-06-11T18:16:00.236Z"
   },
   {
    "duration": 203,
    "start_time": "2024-06-11T18:16:00.293Z"
   },
   {
    "duration": 12,
    "start_time": "2024-06-11T18:16:00.499Z"
   },
   {
    "duration": 30,
    "start_time": "2024-06-11T18:16:00.535Z"
   },
   {
    "duration": 274,
    "start_time": "2024-06-11T18:16:00.572Z"
   },
   {
    "duration": 0,
    "start_time": "2024-06-11T18:16:00.850Z"
   },
   {
    "duration": 0,
    "start_time": "2024-06-11T18:16:00.852Z"
   },
   {
    "duration": 312,
    "start_time": "2024-06-11T18:16:29.188Z"
   },
   {
    "duration": 11,
    "start_time": "2024-06-11T18:17:39.663Z"
   },
   {
    "duration": 1330,
    "start_time": "2024-06-11T18:18:29.185Z"
   },
   {
    "duration": 25,
    "start_time": "2024-06-11T18:18:31.371Z"
   },
   {
    "duration": 15,
    "start_time": "2024-06-11T18:18:34.579Z"
   },
   {
    "duration": 13,
    "start_time": "2024-06-11T18:18:37.905Z"
   },
   {
    "duration": 6,
    "start_time": "2024-06-11T18:18:38.504Z"
   },
   {
    "duration": 82,
    "start_time": "2024-06-11T18:19:12.746Z"
   },
   {
    "duration": 7,
    "start_time": "2024-06-11T18:19:52.812Z"
   },
   {
    "duration": 83,
    "start_time": "2024-06-11T18:20:01.710Z"
   },
   {
    "duration": 1411,
    "start_time": "2024-06-11T18:20:17.821Z"
   },
   {
    "duration": 411,
    "start_time": "2024-06-11T18:20:19.235Z"
   },
   {
    "duration": 45,
    "start_time": "2024-06-11T18:20:19.648Z"
   },
   {
    "duration": 181,
    "start_time": "2024-06-11T18:20:19.697Z"
   },
   {
    "duration": 11,
    "start_time": "2024-06-11T18:20:19.881Z"
   },
   {
    "duration": 46,
    "start_time": "2024-06-11T18:20:19.895Z"
   },
   {
    "duration": 16,
    "start_time": "2024-06-11T18:20:19.944Z"
   },
   {
    "duration": 16,
    "start_time": "2024-06-11T18:20:19.962Z"
   },
   {
    "duration": 55,
    "start_time": "2024-06-11T18:20:19.980Z"
   },
   {
    "duration": 14,
    "start_time": "2024-06-11T18:20:20.040Z"
   },
   {
    "duration": 9,
    "start_time": "2024-06-11T18:26:45.606Z"
   },
   {
    "duration": 7,
    "start_time": "2024-06-11T18:26:52.898Z"
   },
   {
    "duration": 20,
    "start_time": "2024-06-11T18:26:58.459Z"
   },
   {
    "duration": 1801,
    "start_time": "2024-06-11T18:27:29.351Z"
   },
   {
    "duration": 1383,
    "start_time": "2024-06-11T18:27:57.527Z"
   },
   {
    "duration": 386,
    "start_time": "2024-06-11T18:27:58.915Z"
   },
   {
    "duration": 62,
    "start_time": "2024-06-11T18:27:59.305Z"
   },
   {
    "duration": 185,
    "start_time": "2024-06-11T18:27:59.372Z"
   },
   {
    "duration": 16,
    "start_time": "2024-06-11T18:27:59.561Z"
   },
   {
    "duration": 533,
    "start_time": "2024-06-11T18:27:59.580Z"
   },
   {
    "duration": 0,
    "start_time": "2024-06-11T18:28:00.116Z"
   },
   {
    "duration": 0,
    "start_time": "2024-06-11T18:28:00.120Z"
   },
   {
    "duration": 0,
    "start_time": "2024-06-11T18:28:00.122Z"
   },
   {
    "duration": 0,
    "start_time": "2024-06-11T18:28:00.134Z"
   },
   {
    "duration": 11,
    "start_time": "2024-06-11T18:28:40.896Z"
   },
   {
    "duration": 40,
    "start_time": "2024-06-11T18:29:15.359Z"
   },
   {
    "duration": 41,
    "start_time": "2024-06-11T18:29:42.599Z"
   },
   {
    "duration": 41,
    "start_time": "2024-06-11T18:30:51.689Z"
   },
   {
    "duration": 18,
    "start_time": "2024-06-11T18:31:57.509Z"
   },
   {
    "duration": 18,
    "start_time": "2024-06-11T18:32:21.439Z"
   },
   {
    "duration": 25,
    "start_time": "2024-06-11T18:32:32.030Z"
   },
   {
    "duration": 51,
    "start_time": "2024-06-11T18:34:55.917Z"
   },
   {
    "duration": 27,
    "start_time": "2024-06-11T18:36:35.552Z"
   },
   {
    "duration": 32,
    "start_time": "2024-06-11T18:41:45.004Z"
   },
   {
    "duration": 32,
    "start_time": "2024-06-11T18:43:29.005Z"
   },
   {
    "duration": 28,
    "start_time": "2024-06-11T18:43:33.434Z"
   },
   {
    "duration": 10,
    "start_time": "2024-06-11T18:44:33.440Z"
   },
   {
    "duration": 12,
    "start_time": "2024-06-11T18:46:23.714Z"
   },
   {
    "duration": 29,
    "start_time": "2024-06-11T18:47:09.746Z"
   },
   {
    "duration": 31,
    "start_time": "2024-06-11T18:47:52.671Z"
   },
   {
    "duration": 75,
    "start_time": "2024-06-11T18:52:29.692Z"
   },
   {
    "duration": 10,
    "start_time": "2024-06-11T18:53:06.095Z"
   },
   {
    "duration": 19,
    "start_time": "2024-06-11T18:53:20.560Z"
   },
   {
    "duration": 16,
    "start_time": "2024-06-11T18:53:26.381Z"
   },
   {
    "duration": 76,
    "start_time": "2024-06-11T18:54:36.172Z"
   },
   {
    "duration": 13,
    "start_time": "2024-06-11T18:54:53.796Z"
   },
   {
    "duration": 17,
    "start_time": "2024-06-11T18:54:59.194Z"
   },
   {
    "duration": 17,
    "start_time": "2024-06-11T18:55:00.150Z"
   },
   {
    "duration": 21,
    "start_time": "2024-06-11T18:59:28.000Z"
   },
   {
    "duration": 10,
    "start_time": "2024-06-11T19:00:17.736Z"
   },
   {
    "duration": 7,
    "start_time": "2024-06-11T19:02:21.091Z"
   },
   {
    "duration": 6,
    "start_time": "2024-06-11T19:02:53.976Z"
   },
   {
    "duration": 411,
    "start_time": "2024-06-11T19:05:26.051Z"
   },
   {
    "duration": 162,
    "start_time": "2024-06-11T19:06:03.672Z"
   },
   {
    "duration": 11,
    "start_time": "2024-06-11T19:08:18.594Z"
   },
   {
    "duration": 13,
    "start_time": "2024-06-11T19:12:40.357Z"
   },
   {
    "duration": 7,
    "start_time": "2024-06-11T19:14:00.949Z"
   },
   {
    "duration": 9,
    "start_time": "2024-06-11T19:17:14.199Z"
   },
   {
    "duration": 7,
    "start_time": "2024-06-11T19:17:15.698Z"
   },
   {
    "duration": 13,
    "start_time": "2024-06-11T19:23:19.820Z"
   },
   {
    "duration": 16,
    "start_time": "2024-06-11T19:24:21.238Z"
   },
   {
    "duration": 14,
    "start_time": "2024-06-11T19:25:00.880Z"
   },
   {
    "duration": 10,
    "start_time": "2024-06-11T19:25:46.449Z"
   },
   {
    "duration": 5,
    "start_time": "2024-06-11T19:26:24.901Z"
   },
   {
    "duration": 1401,
    "start_time": "2024-06-11T19:26:54.508Z"
   },
   {
    "duration": 424,
    "start_time": "2024-06-11T19:26:55.913Z"
   },
   {
    "duration": 47,
    "start_time": "2024-06-11T19:26:56.340Z"
   },
   {
    "duration": 201,
    "start_time": "2024-06-11T19:26:56.391Z"
   },
   {
    "duration": 13,
    "start_time": "2024-06-11T19:26:56.595Z"
   },
   {
    "duration": 23,
    "start_time": "2024-06-11T19:26:56.634Z"
   },
   {
    "duration": 16,
    "start_time": "2024-06-11T19:26:56.660Z"
   },
   {
    "duration": 59,
    "start_time": "2024-06-11T19:26:56.679Z"
   },
   {
    "duration": 8,
    "start_time": "2024-06-11T19:26:56.741Z"
   },
   {
    "duration": 90,
    "start_time": "2024-06-11T19:26:56.754Z"
   },
   {
    "duration": 19,
    "start_time": "2024-06-11T19:26:56.847Z"
   },
   {
    "duration": 15,
    "start_time": "2024-06-11T19:26:56.868Z"
   },
   {
    "duration": 52,
    "start_time": "2024-06-11T19:26:56.887Z"
   },
   {
    "duration": 6,
    "start_time": "2024-06-11T19:26:56.942Z"
   },
   {
    "duration": 87,
    "start_time": "2024-06-11T19:26:56.953Z"
   },
   {
    "duration": 18,
    "start_time": "2024-06-11T19:26:57.044Z"
   },
   {
    "duration": 15,
    "start_time": "2024-06-11T19:26:57.066Z"
   },
   {
    "duration": 52,
    "start_time": "2024-06-11T19:26:57.084Z"
   },
   {
    "duration": 5,
    "start_time": "2024-06-11T19:26:57.139Z"
   },
   {
    "duration": 5,
    "start_time": "2024-06-11T19:35:03.542Z"
   },
   {
    "duration": 322,
    "start_time": "2024-06-13T15:07:08.331Z"
   },
   {
    "duration": 5030,
    "start_time": "2024-06-13T15:07:17.950Z"
   },
   {
    "duration": 552,
    "start_time": "2024-06-13T15:07:22.987Z"
   },
   {
    "duration": 44,
    "start_time": "2024-06-13T15:07:23.543Z"
   },
   {
    "duration": 189,
    "start_time": "2024-06-13T15:07:23.590Z"
   },
   {
    "duration": 28,
    "start_time": "2024-06-13T15:07:23.785Z"
   },
   {
    "duration": 21,
    "start_time": "2024-06-13T15:07:23.816Z"
   },
   {
    "duration": 16,
    "start_time": "2024-06-13T15:07:23.839Z"
   },
   {
    "duration": 57,
    "start_time": "2024-06-13T15:07:23.859Z"
   },
   {
    "duration": 7,
    "start_time": "2024-06-13T15:07:23.919Z"
   },
   {
    "duration": 91,
    "start_time": "2024-06-13T15:07:23.928Z"
   },
   {
    "duration": 20,
    "start_time": "2024-06-13T15:07:24.022Z"
   },
   {
    "duration": 15,
    "start_time": "2024-06-13T15:07:24.045Z"
   },
   {
    "duration": 55,
    "start_time": "2024-06-13T15:07:24.063Z"
   },
   {
    "duration": 8,
    "start_time": "2024-06-13T15:07:24.122Z"
   },
   {
    "duration": 87,
    "start_time": "2024-06-13T15:07:24.133Z"
   },
   {
    "duration": 19,
    "start_time": "2024-06-13T15:07:24.223Z"
   },
   {
    "duration": 16,
    "start_time": "2024-06-13T15:07:24.245Z"
   },
   {
    "duration": 53,
    "start_time": "2024-06-13T15:07:24.263Z"
   },
   {
    "duration": 12,
    "start_time": "2024-06-13T15:07:24.318Z"
   },
   {
    "duration": 18,
    "start_time": "2024-06-13T15:10:02.064Z"
   },
   {
    "duration": 21,
    "start_time": "2024-06-13T15:38:05.494Z"
   },
   {
    "duration": 11,
    "start_time": "2024-06-13T15:55:56.870Z"
   },
   {
    "duration": 400,
    "start_time": "2024-06-13T17:10:58.022Z"
   },
   {
    "duration": 3,
    "start_time": "2024-06-13T17:11:04.100Z"
   },
   {
    "duration": 7,
    "start_time": "2024-06-13T17:11:05.483Z"
   },
   {
    "duration": 26,
    "start_time": "2024-06-13T17:16:19.493Z"
   },
   {
    "duration": 4,
    "start_time": "2024-06-13T17:16:22.451Z"
   },
   {
    "duration": 6,
    "start_time": "2024-06-13T17:16:23.334Z"
   },
   {
    "duration": 6,
    "start_time": "2024-06-13T17:16:46.444Z"
   },
   {
    "duration": 4,
    "start_time": "2024-06-13T17:18:50.756Z"
   },
   {
    "duration": 5,
    "start_time": "2024-06-13T17:19:01.661Z"
   },
   {
    "duration": 5,
    "start_time": "2024-06-13T17:19:36.838Z"
   },
   {
    "duration": 4,
    "start_time": "2024-06-13T17:23:29.647Z"
   },
   {
    "duration": 4,
    "start_time": "2024-06-13T17:24:44.797Z"
   },
   {
    "duration": 5,
    "start_time": "2024-06-13T17:26:07.347Z"
   },
   {
    "duration": 5,
    "start_time": "2024-06-13T17:27:24.023Z"
   },
   {
    "duration": 5,
    "start_time": "2024-06-13T17:27:46.047Z"
   },
   {
    "duration": 4,
    "start_time": "2024-06-13T17:30:09.002Z"
   },
   {
    "duration": 23,
    "start_time": "2024-06-13T17:46:06.589Z"
   },
   {
    "duration": 29,
    "start_time": "2024-06-13T17:46:20.129Z"
   },
   {
    "duration": 23,
    "start_time": "2024-06-13T17:46:38.771Z"
   },
   {
    "duration": 22,
    "start_time": "2024-06-13T17:46:57.628Z"
   },
   {
    "duration": 21,
    "start_time": "2024-06-13T17:48:14.384Z"
   },
   {
    "duration": 24,
    "start_time": "2024-06-13T17:48:17.480Z"
   },
   {
    "duration": 24,
    "start_time": "2024-06-13T17:48:24.004Z"
   },
   {
    "duration": 23,
    "start_time": "2024-06-13T17:48:55.883Z"
   },
   {
    "duration": 23,
    "start_time": "2024-06-13T17:49:01.796Z"
   },
   {
    "duration": 26,
    "start_time": "2024-06-13T17:49:17.437Z"
   },
   {
    "duration": 25,
    "start_time": "2024-06-13T17:49:24.979Z"
   },
   {
    "duration": 26,
    "start_time": "2024-06-13T17:49:46.876Z"
   },
   {
    "duration": 29,
    "start_time": "2024-06-13T17:49:56.104Z"
   },
   {
    "duration": 26,
    "start_time": "2024-06-13T17:50:25.686Z"
   },
   {
    "duration": 28,
    "start_time": "2024-06-13T17:50:42.957Z"
   },
   {
    "duration": 27,
    "start_time": "2024-06-13T17:50:54.161Z"
   },
   {
    "duration": 27,
    "start_time": "2024-06-13T17:51:12.414Z"
   },
   {
    "duration": 27,
    "start_time": "2024-06-13T17:55:26.738Z"
   },
   {
    "duration": 73,
    "start_time": "2024-06-13T17:56:14.450Z"
   },
   {
    "duration": 58,
    "start_time": "2024-06-13T17:56:27.188Z"
   },
   {
    "duration": 60,
    "start_time": "2024-06-13T17:56:44.408Z"
   },
   {
    "duration": 5,
    "start_time": "2024-06-13T17:58:59.131Z"
   },
   {
    "duration": 5,
    "start_time": "2024-06-13T17:59:18.423Z"
   },
   {
    "duration": 7,
    "start_time": "2024-06-13T18:01:32.119Z"
   },
   {
    "duration": 25,
    "start_time": "2024-06-13T18:01:45.056Z"
   },
   {
    "duration": 5,
    "start_time": "2024-06-13T18:02:02.658Z"
   },
   {
    "duration": 27,
    "start_time": "2024-06-13T18:03:30.632Z"
   },
   {
    "duration": 8,
    "start_time": "2024-06-13T18:04:05.878Z"
   },
   {
    "duration": 25,
    "start_time": "2024-06-13T18:04:17.375Z"
   },
   {
    "duration": 24,
    "start_time": "2024-06-13T18:04:30.905Z"
   },
   {
    "duration": 91,
    "start_time": "2024-06-13T18:05:46.845Z"
   },
   {
    "duration": 6,
    "start_time": "2024-06-13T18:05:51.812Z"
   },
   {
    "duration": 5,
    "start_time": "2024-06-13T18:06:12.969Z"
   },
   {
    "duration": 23,
    "start_time": "2024-06-13T18:07:26.513Z"
   },
   {
    "duration": 23,
    "start_time": "2024-06-13T18:07:37.613Z"
   },
   {
    "duration": 18,
    "start_time": "2024-06-13T18:08:06.807Z"
   },
   {
    "duration": 5,
    "start_time": "2024-06-13T18:08:22.521Z"
   },
   {
    "duration": 7,
    "start_time": "2024-06-13T18:08:34.702Z"
   },
   {
    "duration": 5,
    "start_time": "2024-06-13T18:09:09.096Z"
   },
   {
    "duration": 32,
    "start_time": "2024-06-13T18:09:31.997Z"
   },
   {
    "duration": 6,
    "start_time": "2024-06-13T18:10:05.563Z"
   },
   {
    "duration": 8,
    "start_time": "2024-06-13T18:10:36.562Z"
   },
   {
    "duration": 32,
    "start_time": "2024-06-13T18:10:49.462Z"
   },
   {
    "duration": 25,
    "start_time": "2024-06-13T18:12:41.243Z"
   },
   {
    "duration": 28,
    "start_time": "2024-06-13T18:13:52.766Z"
   },
   {
    "duration": 31,
    "start_time": "2024-06-13T18:14:05.101Z"
   },
   {
    "duration": 26,
    "start_time": "2024-06-13T18:14:33.637Z"
   },
   {
    "duration": 27,
    "start_time": "2024-06-13T18:14:55.394Z"
   },
   {
    "duration": 29,
    "start_time": "2024-06-13T18:15:05.833Z"
   },
   {
    "duration": 29,
    "start_time": "2024-06-13T18:15:25.785Z"
   },
   {
    "duration": 26,
    "start_time": "2024-06-13T18:16:15.283Z"
   },
   {
    "duration": 29,
    "start_time": "2024-06-13T18:16:47.577Z"
   },
   {
    "duration": 1444,
    "start_time": "2024-06-13T18:17:06.748Z"
   },
   {
    "duration": 388,
    "start_time": "2024-06-13T18:17:08.196Z"
   },
   {
    "duration": 58,
    "start_time": "2024-06-13T18:17:08.586Z"
   },
   {
    "duration": 172,
    "start_time": "2024-06-13T18:17:08.647Z"
   },
   {
    "duration": 12,
    "start_time": "2024-06-13T18:17:08.824Z"
   },
   {
    "duration": 22,
    "start_time": "2024-06-13T18:17:08.840Z"
   },
   {
    "duration": 55,
    "start_time": "2024-06-13T18:17:08.865Z"
   },
   {
    "duration": 20,
    "start_time": "2024-06-13T18:17:08.923Z"
   },
   {
    "duration": 66,
    "start_time": "2024-06-13T18:17:08.946Z"
   },
   {
    "duration": 15,
    "start_time": "2024-06-13T18:17:09.016Z"
   },
   {
    "duration": 91,
    "start_time": "2024-06-13T18:17:09.034Z"
   },
   {
    "duration": 16,
    "start_time": "2024-06-13T18:17:09.129Z"
   },
   {
    "duration": 64,
    "start_time": "2024-06-13T18:17:09.148Z"
   },
   {
    "duration": 8,
    "start_time": "2024-06-13T18:17:09.222Z"
   },
   {
    "duration": 88,
    "start_time": "2024-06-13T18:17:09.233Z"
   },
   {
    "duration": 18,
    "start_time": "2024-06-13T18:17:09.324Z"
   },
   {
    "duration": 18,
    "start_time": "2024-06-13T18:17:09.345Z"
   },
   {
    "duration": 52,
    "start_time": "2024-06-13T18:17:09.366Z"
   },
   {
    "duration": 10,
    "start_time": "2024-06-13T18:17:09.423Z"
   },
   {
    "duration": 77,
    "start_time": "2024-06-13T18:17:09.436Z"
   },
   {
    "duration": 6,
    "start_time": "2024-06-13T18:17:09.516Z"
   },
   {
    "duration": 116,
    "start_time": "2024-06-13T18:17:09.525Z"
   },
   {
    "duration": 60,
    "start_time": "2024-06-13T18:17:09.644Z"
   },
   {
    "duration": 20,
    "start_time": "2024-06-13T18:18:07.978Z"
   },
   {
    "duration": 478,
    "start_time": "2024-06-13T18:18:27.959Z"
   },
   {
    "duration": 50,
    "start_time": "2024-06-13T18:18:40.345Z"
   },
   {
    "duration": 37,
    "start_time": "2024-06-13T18:18:53.077Z"
   },
   {
    "duration": 40,
    "start_time": "2024-06-13T18:18:58.491Z"
   },
   {
    "duration": 21,
    "start_time": "2024-06-13T18:21:04.874Z"
   },
   {
    "duration": 23,
    "start_time": "2024-06-13T18:21:44.013Z"
   },
   {
    "duration": 49,
    "start_time": "2024-06-13T18:23:22.874Z"
   },
   {
    "duration": 53,
    "start_time": "2024-06-13T18:23:41.730Z"
   },
   {
    "duration": 50,
    "start_time": "2024-06-13T18:28:47.461Z"
   },
   {
    "duration": 51,
    "start_time": "2024-06-13T18:28:54.287Z"
   },
   {
    "duration": 52,
    "start_time": "2024-06-13T18:29:36.919Z"
   },
   {
    "duration": 49,
    "start_time": "2024-06-13T18:30:20.278Z"
   },
   {
    "duration": 49,
    "start_time": "2024-06-13T18:30:45.742Z"
   },
   {
    "duration": 50,
    "start_time": "2024-06-13T18:31:53.936Z"
   },
   {
    "duration": 51,
    "start_time": "2024-06-13T18:32:47.834Z"
   },
   {
    "duration": 50,
    "start_time": "2024-06-13T18:33:27.601Z"
   },
   {
    "duration": 24,
    "start_time": "2024-06-13T18:35:58.730Z"
   },
   {
    "duration": 3,
    "start_time": "2024-06-13T18:36:14.929Z"
   },
   {
    "duration": 5,
    "start_time": "2024-06-13T18:36:28.487Z"
   },
   {
    "duration": 5,
    "start_time": "2024-06-13T18:37:12.034Z"
   },
   {
    "duration": 5,
    "start_time": "2024-06-13T18:44:15.433Z"
   },
   {
    "duration": 5091,
    "start_time": "2024-06-14T18:12:54.044Z"
   },
   {
    "duration": 499,
    "start_time": "2024-06-14T18:12:59.139Z"
   },
   {
    "duration": 45,
    "start_time": "2024-06-14T18:12:59.641Z"
   },
   {
    "duration": 189,
    "start_time": "2024-06-14T18:12:59.689Z"
   },
   {
    "duration": 21,
    "start_time": "2024-06-14T18:12:59.884Z"
   },
   {
    "duration": 25,
    "start_time": "2024-06-14T18:12:59.909Z"
   },
   {
    "duration": 16,
    "start_time": "2024-06-14T18:12:59.937Z"
   },
   {
    "duration": 51,
    "start_time": "2024-06-14T18:12:59.956Z"
   },
   {
    "duration": 7,
    "start_time": "2024-06-14T18:13:00.010Z"
   },
   {
    "duration": 87,
    "start_time": "2024-06-14T18:13:00.023Z"
   },
   {
    "duration": 97,
    "start_time": "2024-06-14T18:13:00.112Z"
   },
   {
    "duration": 14,
    "start_time": "2024-06-14T18:13:00.213Z"
   },
   {
    "duration": 19,
    "start_time": "2024-06-14T18:13:00.230Z"
   },
   {
    "duration": 61,
    "start_time": "2024-06-14T18:13:00.252Z"
   },
   {
    "duration": 93,
    "start_time": "2024-06-14T18:13:00.316Z"
   },
   {
    "duration": 19,
    "start_time": "2024-06-14T18:13:00.412Z"
   },
   {
    "duration": 16,
    "start_time": "2024-06-14T18:13:00.434Z"
   },
   {
    "duration": 54,
    "start_time": "2024-06-14T18:13:00.453Z"
   },
   {
    "duration": 10,
    "start_time": "2024-06-14T18:13:00.510Z"
   },
   {
    "duration": 79,
    "start_time": "2024-06-14T18:13:00.523Z"
   },
   {
    "duration": 6,
    "start_time": "2024-06-14T18:13:00.605Z"
   },
   {
    "duration": 124,
    "start_time": "2024-06-14T18:13:00.617Z"
   },
   {
    "duration": 6,
    "start_time": "2024-06-14T18:13:00.743Z"
   },
   {
    "duration": 5,
    "start_time": "2024-06-14T18:13:00.752Z"
   },
   {
    "duration": 99,
    "start_time": "2024-06-14T18:13:00.760Z"
   },
   {
    "duration": 21,
    "start_time": "2024-06-14T18:19:43.371Z"
   },
   {
    "duration": 55,
    "start_time": "2024-06-14T18:21:51.426Z"
   },
   {
    "duration": 49,
    "start_time": "2024-06-14T18:23:09.103Z"
   },
   {
    "duration": 9,
    "start_time": "2024-06-14T18:23:23.287Z"
   },
   {
    "duration": 7,
    "start_time": "2024-06-14T18:23:32.062Z"
   },
   {
    "duration": 51,
    "start_time": "2024-06-14T18:23:48.513Z"
   },
   {
    "duration": 8,
    "start_time": "2024-06-14T18:24:27.677Z"
   },
   {
    "duration": 50,
    "start_time": "2024-06-14T18:25:11.158Z"
   },
   {
    "duration": 51,
    "start_time": "2024-06-14T18:25:54.208Z"
   },
   {
    "duration": 50,
    "start_time": "2024-06-14T18:26:11.361Z"
   },
   {
    "duration": 50,
    "start_time": "2024-06-14T18:26:24.362Z"
   },
   {
    "duration": 64,
    "start_time": "2024-06-14T18:38:03.911Z"
   },
   {
    "duration": 91,
    "start_time": "2024-06-14T18:40:06.375Z"
   },
   {
    "duration": 57,
    "start_time": "2024-06-14T18:41:54.134Z"
   },
   {
    "duration": 58,
    "start_time": "2024-06-14T18:43:01.280Z"
   },
   {
    "duration": 52,
    "start_time": "2024-06-14T18:44:21.943Z"
   },
   {
    "duration": 54,
    "start_time": "2024-06-14T18:44:59.875Z"
   },
   {
    "duration": 6,
    "start_time": "2024-06-14T18:48:41.046Z"
   },
   {
    "duration": 27,
    "start_time": "2024-06-14T18:48:49.975Z"
   },
   {
    "duration": 60,
    "start_time": "2024-06-14T18:49:48.394Z"
   },
   {
    "duration": 59,
    "start_time": "2024-06-14T18:51:12.922Z"
   },
   {
    "duration": 52,
    "start_time": "2024-06-14T18:52:12.321Z"
   },
   {
    "duration": 54,
    "start_time": "2024-06-14T18:52:37.889Z"
   },
   {
    "duration": 477,
    "start_time": "2024-06-14T18:53:33.586Z"
   },
   {
    "duration": 54,
    "start_time": "2024-06-14T18:54:17.892Z"
   },
   {
    "duration": 57,
    "start_time": "2024-06-14T18:59:12.693Z"
   },
   {
    "duration": 5,
    "start_time": "2024-06-14T19:03:36.475Z"
   },
   {
    "duration": 53,
    "start_time": "2024-06-14T19:10:16.132Z"
   },
   {
    "duration": 22,
    "start_time": "2024-06-14T19:11:53.533Z"
   },
   {
    "duration": 28,
    "start_time": "2024-06-14T19:12:27.913Z"
   },
   {
    "duration": 26,
    "start_time": "2024-06-14T19:12:51.807Z"
   },
   {
    "duration": 24,
    "start_time": "2024-06-14T19:13:04.055Z"
   },
   {
    "duration": 25,
    "start_time": "2024-06-14T19:14:01.939Z"
   },
   {
    "duration": 5,
    "start_time": "2024-06-14T19:14:47.731Z"
   },
   {
    "duration": 21,
    "start_time": "2024-06-14T19:14:53.980Z"
   },
   {
    "duration": 21,
    "start_time": "2024-06-14T19:15:57.934Z"
   },
   {
    "duration": 8,
    "start_time": "2024-06-14T19:16:44.761Z"
   },
   {
    "duration": 37,
    "start_time": "2024-06-14T19:16:47.789Z"
   },
   {
    "duration": 5,
    "start_time": "2024-06-14T19:19:24.070Z"
   },
   {
    "duration": 20,
    "start_time": "2024-06-14T19:19:25.160Z"
   },
   {
    "duration": 27,
    "start_time": "2024-06-14T19:20:24.091Z"
   },
   {
    "duration": 19,
    "start_time": "2024-06-14T19:20:25.460Z"
   },
   {
    "duration": 29,
    "start_time": "2024-06-14T19:20:26.632Z"
   },
   {
    "duration": 6,
    "start_time": "2024-06-14T19:23:48.443Z"
   },
   {
    "duration": 39,
    "start_time": "2024-06-14T19:23:51.938Z"
   },
   {
    "duration": 19,
    "start_time": "2024-06-14T19:24:14.088Z"
   },
   {
    "duration": 23,
    "start_time": "2024-06-14T19:24:32.258Z"
   },
   {
    "duration": 19,
    "start_time": "2024-06-14T19:24:40.332Z"
   },
   {
    "duration": 4,
    "start_time": "2024-06-14T19:25:01.670Z"
   },
   {
    "duration": 6,
    "start_time": "2024-06-14T19:25:04.973Z"
   },
   {
    "duration": 7,
    "start_time": "2024-06-14T19:25:08.442Z"
   },
   {
    "duration": 24,
    "start_time": "2024-06-14T19:25:10.707Z"
   },
   {
    "duration": 22,
    "start_time": "2024-06-14T19:25:17.091Z"
   },
   {
    "duration": 19,
    "start_time": "2024-06-14T19:25:19.959Z"
   },
   {
    "duration": 5,
    "start_time": "2024-06-14T19:25:50.083Z"
   },
   {
    "duration": 21,
    "start_time": "2024-06-14T19:25:51.490Z"
   },
   {
    "duration": 19,
    "start_time": "2024-06-14T19:25:53.273Z"
   },
   {
    "duration": 20,
    "start_time": "2024-06-14T19:25:54.675Z"
   },
   {
    "duration": 6,
    "start_time": "2024-06-14T19:27:21.919Z"
   },
   {
    "duration": 26,
    "start_time": "2024-06-14T19:27:24.637Z"
   },
   {
    "duration": 37,
    "start_time": "2024-06-14T19:27:26.290Z"
   },
   {
    "duration": 31,
    "start_time": "2024-06-14T19:27:27.470Z"
   },
   {
    "duration": 6,
    "start_time": "2024-06-14T19:28:51.718Z"
   },
   {
    "duration": 20,
    "start_time": "2024-06-14T19:28:53.525Z"
   },
   {
    "duration": 7,
    "start_time": "2024-06-14T19:31:13.200Z"
   },
   {
    "duration": 22,
    "start_time": "2024-06-14T19:31:15.689Z"
   },
   {
    "duration": 25,
    "start_time": "2024-06-14T19:31:17.148Z"
   },
   {
    "duration": 22,
    "start_time": "2024-06-14T19:31:18.348Z"
   },
   {
    "duration": 6,
    "start_time": "2024-06-14T19:33:56.391Z"
   },
   {
    "duration": 20,
    "start_time": "2024-06-14T19:33:57.377Z"
   },
   {
    "duration": 20,
    "start_time": "2024-06-14T19:33:58.831Z"
   },
   {
    "duration": 18,
    "start_time": "2024-06-14T19:33:59.793Z"
   },
   {
    "duration": 24,
    "start_time": "2024-06-14T19:36:28.231Z"
   },
   {
    "duration": 4,
    "start_time": "2024-06-14T19:36:57.820Z"
   },
   {
    "duration": 666,
    "start_time": "2024-06-14T19:37:52.637Z"
   },
   {
    "duration": 24,
    "start_time": "2024-06-14T19:38:29.208Z"
   },
   {
    "duration": 3,
    "start_time": "2024-06-14T19:38:41.030Z"
   },
   {
    "duration": 23,
    "start_time": "2024-06-14T19:39:07.338Z"
   },
   {
    "duration": 24,
    "start_time": "2024-06-14T19:39:24.377Z"
   },
   {
    "duration": 5,
    "start_time": "2024-06-14T19:39:36.154Z"
   },
   {
    "duration": 197,
    "start_time": "2024-06-14T19:39:38.477Z"
   },
   {
    "duration": 6,
    "start_time": "2024-06-14T19:40:11.512Z"
   },
   {
    "duration": 9,
    "start_time": "2024-06-14T19:40:37.672Z"
   },
   {
    "duration": 35,
    "start_time": "2024-06-14T19:41:06.184Z"
   },
   {
    "duration": 27,
    "start_time": "2024-06-14T19:41:41.270Z"
   },
   {
    "duration": 8,
    "start_time": "2024-06-14T19:42:43.467Z"
   },
   {
    "duration": 6,
    "start_time": "2024-06-14T19:43:49.999Z"
   },
   {
    "duration": 206,
    "start_time": "2024-06-14T20:06:52.731Z"
   },
   {
    "duration": 196,
    "start_time": "2024-06-14T20:07:08.754Z"
   },
   {
    "duration": 331,
    "start_time": "2024-06-14T20:10:15.973Z"
   },
   {
    "duration": 197,
    "start_time": "2024-06-14T20:10:33.938Z"
   },
   {
    "duration": 173,
    "start_time": "2024-06-14T20:10:58.951Z"
   },
   {
    "duration": 189,
    "start_time": "2024-06-14T20:11:14.007Z"
   },
   {
    "duration": 262,
    "start_time": "2024-06-14T20:13:15.589Z"
   },
   {
    "duration": 270,
    "start_time": "2024-06-14T20:13:54.431Z"
   },
   {
    "duration": 8,
    "start_time": "2024-06-14T20:15:00.971Z"
   },
   {
    "duration": 27,
    "start_time": "2024-06-14T20:15:13.118Z"
   },
   {
    "duration": 16,
    "start_time": "2024-06-14T20:15:37.208Z"
   },
   {
    "duration": 175,
    "start_time": "2024-06-14T20:15:47.315Z"
   },
   {
    "duration": 169,
    "start_time": "2024-06-14T20:16:13.323Z"
   },
   {
    "duration": 258,
    "start_time": "2024-06-14T20:16:18.412Z"
   },
   {
    "duration": 225,
    "start_time": "2024-06-14T20:17:21.450Z"
   },
   {
    "duration": 214,
    "start_time": "2024-06-14T20:17:54.857Z"
   },
   {
    "duration": 221,
    "start_time": "2024-06-14T20:18:29.728Z"
   },
   {
    "duration": 271,
    "start_time": "2024-06-14T20:18:45.861Z"
   },
   {
    "duration": 213,
    "start_time": "2024-06-14T20:20:10.708Z"
   },
   {
    "duration": 6,
    "start_time": "2024-06-14T20:21:03.955Z"
   },
   {
    "duration": 269,
    "start_time": "2024-06-14T20:22:19.577Z"
   },
   {
    "duration": 231,
    "start_time": "2024-06-14T20:22:49.346Z"
   },
   {
    "duration": 287,
    "start_time": "2024-06-14T20:22:59.939Z"
   },
   {
    "duration": 228,
    "start_time": "2024-06-14T20:23:11.101Z"
   },
   {
    "duration": 249,
    "start_time": "2024-06-14T20:23:26.492Z"
   },
   {
    "duration": 234,
    "start_time": "2024-06-14T20:23:36.915Z"
   },
   {
    "duration": 344,
    "start_time": "2024-06-14T20:24:07.285Z"
   },
   {
    "duration": 284,
    "start_time": "2024-06-14T20:24:21.321Z"
   },
   {
    "duration": 236,
    "start_time": "2024-06-14T20:24:32.259Z"
   },
   {
    "duration": 229,
    "start_time": "2024-06-14T20:24:44.640Z"
   },
   {
    "duration": 234,
    "start_time": "2024-06-14T20:24:54.293Z"
   },
   {
    "duration": 229,
    "start_time": "2024-06-14T20:25:10.412Z"
   },
   {
    "duration": 235,
    "start_time": "2024-06-14T20:26:29.905Z"
   },
   {
    "duration": 226,
    "start_time": "2024-06-14T20:26:41.356Z"
   },
   {
    "duration": 265,
    "start_time": "2024-06-14T20:26:59.231Z"
   },
   {
    "duration": 14,
    "start_time": "2024-06-14T20:27:06.844Z"
   },
   {
    "duration": 259,
    "start_time": "2024-06-14T20:27:12.827Z"
   },
   {
    "duration": 5316,
    "start_time": "2024-06-15T16:42:17.937Z"
   },
   {
    "duration": 547,
    "start_time": "2024-06-15T16:42:23.257Z"
   },
   {
    "duration": 51,
    "start_time": "2024-06-15T16:42:23.807Z"
   },
   {
    "duration": 182,
    "start_time": "2024-06-15T16:42:23.863Z"
   },
   {
    "duration": 11,
    "start_time": "2024-06-15T16:42:24.048Z"
   },
   {
    "duration": 23,
    "start_time": "2024-06-15T16:42:24.063Z"
   },
   {
    "duration": 44,
    "start_time": "2024-06-15T16:42:24.089Z"
   },
   {
    "duration": 25,
    "start_time": "2024-06-15T16:42:24.135Z"
   },
   {
    "duration": 5,
    "start_time": "2024-06-15T16:42:24.162Z"
   },
   {
    "duration": 72,
    "start_time": "2024-06-15T16:42:24.173Z"
   },
   {
    "duration": 80,
    "start_time": "2024-06-15T16:42:24.248Z"
   },
   {
    "duration": 14,
    "start_time": "2024-06-15T16:42:24.332Z"
   },
   {
    "duration": 18,
    "start_time": "2024-06-15T16:42:24.349Z"
   },
   {
    "duration": 12,
    "start_time": "2024-06-15T16:42:24.422Z"
   },
   {
    "duration": 18,
    "start_time": "2024-06-15T16:42:24.437Z"
   },
   {
    "duration": 81,
    "start_time": "2024-06-15T16:42:24.458Z"
   },
   {
    "duration": 16,
    "start_time": "2024-06-15T16:42:24.542Z"
   },
   {
    "duration": 61,
    "start_time": "2024-06-15T16:42:24.561Z"
   },
   {
    "duration": 5,
    "start_time": "2024-06-15T16:42:24.627Z"
   },
   {
    "duration": 5,
    "start_time": "2024-06-15T16:42:24.636Z"
   },
   {
    "duration": 6,
    "start_time": "2024-06-15T16:42:24.644Z"
   },
   {
    "duration": 9,
    "start_time": "2024-06-15T16:42:24.654Z"
   },
   {
    "duration": 22,
    "start_time": "2024-06-15T16:42:24.726Z"
   },
   {
    "duration": 20,
    "start_time": "2024-06-15T16:42:24.751Z"
   },
   {
    "duration": 20,
    "start_time": "2024-06-15T16:42:24.773Z"
   },
   {
    "duration": 245,
    "start_time": "2024-06-15T16:42:24.828Z"
   },
   {
    "duration": 8,
    "start_time": "2024-06-15T16:47:10.409Z"
   },
   {
    "duration": 6,
    "start_time": "2024-06-15T16:47:19.515Z"
   },
   {
    "duration": 8,
    "start_time": "2024-06-15T16:47:59.992Z"
   },
   {
    "duration": 5,
    "start_time": "2024-06-15T16:48:01.163Z"
   },
   {
    "duration": 485,
    "start_time": "2024-06-15T16:48:33.182Z"
   },
   {
    "duration": 8,
    "start_time": "2024-06-15T16:48:56.713Z"
   },
   {
    "duration": 8,
    "start_time": "2024-06-15T16:48:57.516Z"
   },
   {
    "duration": 10,
    "start_time": "2024-06-15T16:49:12.957Z"
   },
   {
    "duration": 8,
    "start_time": "2024-06-15T16:49:13.343Z"
   },
   {
    "duration": 10,
    "start_time": "2024-06-15T16:49:49.911Z"
   },
   {
    "duration": 8,
    "start_time": "2024-06-15T16:49:50.309Z"
   },
   {
    "duration": 10,
    "start_time": "2024-06-15T16:51:44.678Z"
   },
   {
    "duration": 8,
    "start_time": "2024-06-15T16:51:45.124Z"
   },
   {
    "duration": 18,
    "start_time": "2024-06-15T16:54:03.073Z"
   },
   {
    "duration": 13,
    "start_time": "2024-06-15T16:54:43.198Z"
   },
   {
    "duration": 14,
    "start_time": "2024-06-15T16:55:06.174Z"
   },
   {
    "duration": 7,
    "start_time": "2024-06-15T16:55:28.960Z"
   },
   {
    "duration": 11,
    "start_time": "2024-06-15T16:56:05.710Z"
   },
   {
    "duration": 7,
    "start_time": "2024-06-15T16:56:07.218Z"
   },
   {
    "duration": 9,
    "start_time": "2024-06-15T16:56:28.709Z"
   },
   {
    "duration": 7,
    "start_time": "2024-06-15T16:56:29.045Z"
   },
   {
    "duration": 9,
    "start_time": "2024-06-15T16:56:55.709Z"
   },
   {
    "duration": 6,
    "start_time": "2024-06-15T16:56:56.099Z"
   },
   {
    "duration": 11,
    "start_time": "2024-06-15T16:58:06.442Z"
   },
   {
    "duration": 10,
    "start_time": "2024-06-15T16:58:15.417Z"
   },
   {
    "duration": 8,
    "start_time": "2024-06-15T16:58:16.983Z"
   },
   {
    "duration": 10,
    "start_time": "2024-06-15T17:01:01.037Z"
   },
   {
    "duration": 8,
    "start_time": "2024-06-15T17:01:06.657Z"
   },
   {
    "duration": 331,
    "start_time": "2024-06-15T17:01:59.680Z"
   },
   {
    "duration": 309,
    "start_time": "2024-06-15T17:03:11.791Z"
   },
   {
    "duration": 9,
    "start_time": "2024-06-15T17:03:55.886Z"
   },
   {
    "duration": 7,
    "start_time": "2024-06-15T17:03:56.507Z"
   },
   {
    "duration": 276,
    "start_time": "2024-06-15T17:03:57.577Z"
   },
   {
    "duration": 9,
    "start_time": "2024-06-15T17:06:07.219Z"
   },
   {
    "duration": 7,
    "start_time": "2024-06-15T17:06:07.913Z"
   },
   {
    "duration": 175,
    "start_time": "2024-06-15T17:06:25.369Z"
   },
   {
    "duration": 11,
    "start_time": "2024-06-15T17:06:57.649Z"
   },
   {
    "duration": 8,
    "start_time": "2024-06-15T17:07:00.490Z"
   },
   {
    "duration": 30,
    "start_time": "2024-06-15T17:07:19.858Z"
   },
   {
    "duration": 912,
    "start_time": "2024-06-15T17:07:55.480Z"
   },
   {
    "duration": 28,
    "start_time": "2024-06-15T17:08:18.291Z"
   },
   {
    "duration": 10,
    "start_time": "2024-06-15T17:09:14.370Z"
   },
   {
    "duration": 8,
    "start_time": "2024-06-15T17:09:14.766Z"
   },
   {
    "duration": 7,
    "start_time": "2024-06-15T17:10:24.349Z"
   },
   {
    "duration": 6,
    "start_time": "2024-06-15T17:10:25.565Z"
   },
   {
    "duration": 9,
    "start_time": "2024-06-15T17:11:00.022Z"
   },
   {
    "duration": 8,
    "start_time": "2024-06-15T17:11:00.652Z"
   },
   {
    "duration": 10,
    "start_time": "2024-06-15T17:12:02.648Z"
   },
   {
    "duration": 7,
    "start_time": "2024-06-15T17:12:04.027Z"
   },
   {
    "duration": 9,
    "start_time": "2024-06-15T17:12:55.073Z"
   },
   {
    "duration": 8,
    "start_time": "2024-06-15T17:12:55.573Z"
   },
   {
    "duration": 8,
    "start_time": "2024-06-15T17:15:08.846Z"
   },
   {
    "duration": 9,
    "start_time": "2024-06-15T17:15:21.585Z"
   },
   {
    "duration": 10,
    "start_time": "2024-06-15T17:15:28.424Z"
   },
   {
    "duration": 8,
    "start_time": "2024-06-15T17:15:29.939Z"
   },
   {
    "duration": 8,
    "start_time": "2024-06-15T17:15:52.731Z"
   },
   {
    "duration": 8,
    "start_time": "2024-06-15T17:15:53.493Z"
   },
   {
    "duration": 8,
    "start_time": "2024-06-15T17:16:02.462Z"
   },
   {
    "duration": 8,
    "start_time": "2024-06-15T17:16:02.960Z"
   },
   {
    "duration": 9,
    "start_time": "2024-06-15T17:21:38.113Z"
   },
   {
    "duration": 8,
    "start_time": "2024-06-15T17:21:38.531Z"
   },
   {
    "duration": 7,
    "start_time": "2024-06-15T17:27:39.094Z"
   },
   {
    "duration": 7,
    "start_time": "2024-06-15T17:27:39.537Z"
   },
   {
    "duration": 11,
    "start_time": "2024-06-15T17:27:57.517Z"
   },
   {
    "duration": 11,
    "start_time": "2024-06-15T17:28:52.925Z"
   },
   {
    "duration": 6,
    "start_time": "2024-06-15T17:40:52.090Z"
   },
   {
    "duration": 43,
    "start_time": "2024-06-15T17:40:56.617Z"
   },
   {
    "duration": 20,
    "start_time": "2024-06-15T17:41:30.804Z"
   },
   {
    "duration": 23,
    "start_time": "2024-06-15T17:42:08.341Z"
   },
   {
    "duration": 22,
    "start_time": "2024-06-15T17:42:38.208Z"
   },
   {
    "duration": 8,
    "start_time": "2024-06-15T17:42:48.166Z"
   },
   {
    "duration": 28,
    "start_time": "2024-06-15T18:11:31.970Z"
   },
   {
    "duration": 28,
    "start_time": "2024-06-15T18:12:31.491Z"
   },
   {
    "duration": 4,
    "start_time": "2024-06-15T18:12:45.312Z"
   },
   {
    "duration": 144,
    "start_time": "2024-06-15T18:12:46.146Z"
   },
   {
    "duration": 4,
    "start_time": "2024-06-15T18:14:06.066Z"
   },
   {
    "duration": 137,
    "start_time": "2024-06-15T18:14:08.329Z"
   },
   {
    "duration": 137,
    "start_time": "2024-06-15T18:14:17.447Z"
   },
   {
    "duration": 161,
    "start_time": "2024-06-15T18:14:24.799Z"
   },
   {
    "duration": 180,
    "start_time": "2024-06-15T18:14:43.050Z"
   },
   {
    "duration": 138,
    "start_time": "2024-06-15T18:15:10.048Z"
   },
   {
    "duration": 171,
    "start_time": "2024-06-15T18:16:11.820Z"
   },
   {
    "duration": 191,
    "start_time": "2024-06-15T18:16:21.177Z"
   },
   {
    "duration": 161,
    "start_time": "2024-06-15T18:16:41.772Z"
   },
   {
    "duration": 204,
    "start_time": "2024-06-15T18:17:01.150Z"
   },
   {
    "duration": 236,
    "start_time": "2024-06-15T18:17:12.891Z"
   },
   {
    "duration": 6,
    "start_time": "2024-06-15T18:23:53.417Z"
   },
   {
    "duration": 6,
    "start_time": "2024-06-15T18:24:50.641Z"
   },
   {
    "duration": 37,
    "start_time": "2024-06-15T18:25:31.453Z"
   },
   {
    "duration": 6,
    "start_time": "2024-06-15T18:26:13.443Z"
   },
   {
    "duration": 188,
    "start_time": "2024-06-15T18:26:14.995Z"
   },
   {
    "duration": 6,
    "start_time": "2024-06-15T18:27:06.899Z"
   },
   {
    "duration": 310,
    "start_time": "2024-06-15T18:27:08.079Z"
   },
   {
    "duration": 8,
    "start_time": "2024-06-15T18:28:29.037Z"
   },
   {
    "duration": 173,
    "start_time": "2024-06-15T18:28:29.687Z"
   },
   {
    "duration": 162,
    "start_time": "2024-06-15T18:28:43.740Z"
   },
   {
    "duration": 164,
    "start_time": "2024-06-15T18:29:32.676Z"
   },
   {
    "duration": 8,
    "start_time": "2024-06-15T18:29:58.270Z"
   },
   {
    "duration": 151,
    "start_time": "2024-06-15T18:30:27.562Z"
   },
   {
    "duration": 7,
    "start_time": "2024-06-15T18:31:17.155Z"
   },
   {
    "duration": 180,
    "start_time": "2024-06-15T18:31:18.180Z"
   },
   {
    "duration": 479,
    "start_time": "2024-06-15T18:32:07.359Z"
   },
   {
    "duration": 6,
    "start_time": "2024-06-15T18:33:21.646Z"
   },
   {
    "duration": 412,
    "start_time": "2024-06-15T18:33:22.828Z"
   },
   {
    "duration": 7,
    "start_time": "2024-06-15T18:33:36.725Z"
   },
   {
    "duration": 430,
    "start_time": "2024-06-15T18:33:37.079Z"
   },
   {
    "duration": 6,
    "start_time": "2024-06-15T18:33:45.368Z"
   },
   {
    "duration": 445,
    "start_time": "2024-06-15T18:33:46.298Z"
   },
   {
    "duration": 6,
    "start_time": "2024-06-15T18:33:51.483Z"
   },
   {
    "duration": 404,
    "start_time": "2024-06-15T18:33:51.869Z"
   },
   {
    "duration": 6,
    "start_time": "2024-06-15T18:33:57.705Z"
   },
   {
    "duration": 6,
    "start_time": "2024-06-15T18:34:04.237Z"
   },
   {
    "duration": 401,
    "start_time": "2024-06-15T18:34:05.139Z"
   },
   {
    "duration": 7,
    "start_time": "2024-06-15T18:34:11.028Z"
   },
   {
    "duration": 409,
    "start_time": "2024-06-15T18:34:11.563Z"
   },
   {
    "duration": 6,
    "start_time": "2024-06-15T18:34:17.646Z"
   },
   {
    "duration": 447,
    "start_time": "2024-06-15T18:34:18.090Z"
   },
   {
    "duration": 6,
    "start_time": "2024-06-15T18:34:26.781Z"
   },
   {
    "duration": 431,
    "start_time": "2024-06-15T18:34:30.601Z"
   },
   {
    "duration": 6,
    "start_time": "2024-06-15T18:34:42.341Z"
   },
   {
    "duration": 529,
    "start_time": "2024-06-15T18:34:42.814Z"
   },
   {
    "duration": 7,
    "start_time": "2024-06-15T18:34:54.592Z"
   },
   {
    "duration": 485,
    "start_time": "2024-06-15T18:34:55.133Z"
   },
   {
    "duration": 6,
    "start_time": "2024-06-15T18:40:16.235Z"
   },
   {
    "duration": 40,
    "start_time": "2024-06-15T18:40:57.696Z"
   },
   {
    "duration": 6,
    "start_time": "2024-06-15T18:41:55.543Z"
   },
   {
    "duration": 458,
    "start_time": "2024-06-15T18:41:56.296Z"
   },
   {
    "duration": 448,
    "start_time": "2024-06-15T18:42:08.848Z"
   },
   {
    "duration": 488,
    "start_time": "2024-06-15T18:42:13.112Z"
   },
   {
    "duration": 6,
    "start_time": "2024-06-15T18:43:41.489Z"
   },
   {
    "duration": 4,
    "start_time": "2024-06-15T18:43:42.089Z"
   },
   {
    "duration": 4571,
    "start_time": "2024-06-15T18:43:43.162Z"
   },
   {
    "duration": 6,
    "start_time": "2024-06-15T18:43:59.747Z"
   },
   {
    "duration": 5,
    "start_time": "2024-06-15T18:44:00.226Z"
   },
   {
    "duration": 1164,
    "start_time": "2024-06-15T18:44:01.735Z"
   },
   {
    "duration": 6,
    "start_time": "2024-06-15T18:44:17.717Z"
   },
   {
    "duration": 4,
    "start_time": "2024-06-15T18:44:19.360Z"
   },
   {
    "duration": 480,
    "start_time": "2024-06-15T18:44:21.783Z"
   },
   {
    "duration": 1381,
    "start_time": "2024-06-15T18:44:51.534Z"
   },
   {
    "duration": 403,
    "start_time": "2024-06-15T18:44:52.922Z"
   },
   {
    "duration": 44,
    "start_time": "2024-06-15T18:44:53.329Z"
   },
   {
    "duration": 191,
    "start_time": "2024-06-15T18:44:53.377Z"
   },
   {
    "duration": 12,
    "start_time": "2024-06-15T18:44:53.571Z"
   },
   {
    "duration": 41,
    "start_time": "2024-06-15T18:44:53.586Z"
   },
   {
    "duration": 16,
    "start_time": "2024-06-15T18:44:53.630Z"
   },
   {
    "duration": 73,
    "start_time": "2024-06-15T18:44:53.649Z"
   },
   {
    "duration": 6,
    "start_time": "2024-06-15T18:44:53.725Z"
   },
   {
    "duration": 91,
    "start_time": "2024-06-15T18:44:53.738Z"
   },
   {
    "duration": 19,
    "start_time": "2024-06-15T18:44:53.832Z"
   },
   {
    "duration": 16,
    "start_time": "2024-06-15T18:44:53.855Z"
   },
   {
    "duration": 53,
    "start_time": "2024-06-15T18:44:53.874Z"
   },
   {
    "duration": 7,
    "start_time": "2024-06-15T18:44:53.929Z"
   },
   {
    "duration": 86,
    "start_time": "2024-06-15T18:44:53.939Z"
   },
   {
    "duration": 20,
    "start_time": "2024-06-15T18:44:54.028Z"
   },
   {
    "duration": 14,
    "start_time": "2024-06-15T18:44:54.124Z"
   },
   {
    "duration": 13,
    "start_time": "2024-06-15T18:44:54.141Z"
   },
   {
    "duration": 66,
    "start_time": "2024-06-15T18:44:54.156Z"
   },
   {
    "duration": 7,
    "start_time": "2024-06-15T18:44:54.228Z"
   },
   {
    "duration": 81,
    "start_time": "2024-06-15T18:44:54.241Z"
   },
   {
    "duration": 6,
    "start_time": "2024-06-15T18:44:54.325Z"
   },
   {
    "duration": 21,
    "start_time": "2024-06-15T18:44:54.335Z"
   },
   {
    "duration": 19,
    "start_time": "2024-06-15T18:44:54.360Z"
   },
   {
    "duration": 52,
    "start_time": "2024-06-15T18:44:54.383Z"
   },
   {
    "duration": 13,
    "start_time": "2024-06-15T18:44:54.439Z"
   },
   {
    "duration": 5,
    "start_time": "2024-06-15T18:44:54.455Z"
   },
   {
    "duration": 6,
    "start_time": "2024-06-15T18:44:54.467Z"
   },
   {
    "duration": 564,
    "start_time": "2024-06-15T18:44:54.477Z"
   },
   {
    "duration": 615,
    "start_time": "2024-06-15T18:46:27.581Z"
   },
   {
    "duration": 642,
    "start_time": "2024-06-15T18:53:39.164Z"
   },
   {
    "duration": 253,
    "start_time": "2024-06-15T18:54:59.286Z"
   },
   {
    "duration": 4,
    "start_time": "2024-06-15T18:55:58.114Z"
   },
   {
    "duration": 7,
    "start_time": "2024-06-15T18:55:59.215Z"
   },
   {
    "duration": 1861,
    "start_time": "2024-06-15T18:55:59.610Z"
   },
   {
    "duration": 1835,
    "start_time": "2024-06-15T18:56:38.679Z"
   },
   {
    "duration": 1841,
    "start_time": "2024-06-15T18:56:48.858Z"
   },
   {
    "duration": 1797,
    "start_time": "2024-06-15T19:00:17.910Z"
   },
   {
    "duration": 1810,
    "start_time": "2024-06-15T19:00:55.297Z"
   },
   {
    "duration": 6,
    "start_time": "2024-06-15T19:01:53.655Z"
   },
   {
    "duration": 1815,
    "start_time": "2024-06-15T19:01:54.213Z"
   },
   {
    "duration": 1816,
    "start_time": "2024-06-15T19:04:00.703Z"
   },
   {
    "duration": 7,
    "start_time": "2024-06-15T19:04:45.575Z"
   },
   {
    "duration": 1885,
    "start_time": "2024-06-15T19:04:49.680Z"
   },
   {
    "duration": 7,
    "start_time": "2024-06-15T19:05:14.936Z"
   },
   {
    "duration": 1811,
    "start_time": "2024-06-15T19:05:17.599Z"
   },
   {
    "duration": 6,
    "start_time": "2024-06-15T19:05:51.521Z"
   },
   {
    "duration": 1805,
    "start_time": "2024-06-15T19:05:52.298Z"
   },
   {
    "duration": 7,
    "start_time": "2024-06-15T19:06:30.906Z"
   },
   {
    "duration": 1814,
    "start_time": "2024-06-15T19:06:31.431Z"
   },
   {
    "duration": 6,
    "start_time": "2024-06-15T19:10:46.907Z"
   },
   {
    "duration": 1817,
    "start_time": "2024-06-15T19:10:59.859Z"
   },
   {
    "duration": 1806,
    "start_time": "2024-06-15T19:11:53.951Z"
   },
   {
    "duration": 1855,
    "start_time": "2024-06-15T19:13:09.282Z"
   },
   {
    "duration": 9,
    "start_time": "2024-06-15T19:19:24.137Z"
   },
   {
    "duration": 1819,
    "start_time": "2024-06-15T19:19:25.088Z"
   },
   {
    "duration": 7,
    "start_time": "2024-06-15T19:19:45.050Z"
   },
   {
    "duration": 1815,
    "start_time": "2024-06-15T19:19:45.514Z"
   },
   {
    "duration": 7,
    "start_time": "2024-06-15T19:21:20.698Z"
   },
   {
    "duration": 503,
    "start_time": "2024-06-15T19:21:21.401Z"
   },
   {
    "duration": 7,
    "start_time": "2024-06-15T19:34:20.776Z"
   },
   {
    "duration": 480,
    "start_time": "2024-06-15T19:34:22.190Z"
   },
   {
    "duration": 196,
    "start_time": "2024-06-15T19:43:06.616Z"
   },
   {
    "duration": 251,
    "start_time": "2024-06-15T19:43:25.558Z"
   },
   {
    "duration": 7,
    "start_time": "2024-06-15T19:43:54.405Z"
   },
   {
    "duration": 552,
    "start_time": "2024-06-15T19:43:55.075Z"
   },
   {
    "duration": 480,
    "start_time": "2024-06-15T19:44:29.719Z"
   },
   {
    "duration": 461,
    "start_time": "2024-06-15T19:44:47.365Z"
   },
   {
    "duration": 502,
    "start_time": "2024-06-15T19:46:33.162Z"
   },
   {
    "duration": 453,
    "start_time": "2024-06-15T19:47:04.636Z"
   },
   {
    "duration": 471,
    "start_time": "2024-06-15T19:48:22.696Z"
   },
   {
    "duration": 502,
    "start_time": "2024-06-15T19:50:12.742Z"
   },
   {
    "duration": 466,
    "start_time": "2024-06-15T19:51:18.796Z"
   },
   {
    "duration": 475,
    "start_time": "2024-06-15T19:51:55.674Z"
   },
   {
    "duration": 7,
    "start_time": "2024-06-15T19:52:23.924Z"
   },
   {
    "duration": 4,
    "start_time": "2024-06-15T19:55:32.742Z"
   },
   {
    "duration": 5,
    "start_time": "2024-06-15T19:55:35.530Z"
   },
   {
    "duration": 6,
    "start_time": "2024-06-15T19:55:50.962Z"
   },
   {
    "duration": 19,
    "start_time": "2024-06-15T19:55:54.009Z"
   },
   {
    "duration": 20,
    "start_time": "2024-06-15T19:56:01.896Z"
   },
   {
    "duration": 20,
    "start_time": "2024-06-15T19:56:03.578Z"
   },
   {
    "duration": 13,
    "start_time": "2024-06-15T19:56:04.386Z"
   },
   {
    "duration": 7,
    "start_time": "2024-06-15T19:56:08.592Z"
   },
   {
    "duration": 10,
    "start_time": "2024-06-15T19:56:09.687Z"
   },
   {
    "duration": 464,
    "start_time": "2024-06-15T19:56:10.635Z"
   },
   {
    "duration": 4,
    "start_time": "2024-06-15T19:56:35.563Z"
   },
   {
    "duration": 1472,
    "start_time": "2024-06-15T19:56:41.621Z"
   },
   {
    "duration": 396,
    "start_time": "2024-06-15T19:56:43.097Z"
   },
   {
    "duration": 59,
    "start_time": "2024-06-15T19:56:43.496Z"
   },
   {
    "duration": 204,
    "start_time": "2024-06-15T19:56:43.559Z"
   },
   {
    "duration": 13,
    "start_time": "2024-06-15T19:56:43.767Z"
   },
   {
    "duration": 48,
    "start_time": "2024-06-15T19:56:43.784Z"
   },
   {
    "duration": 17,
    "start_time": "2024-06-15T19:56:43.836Z"
   },
   {
    "duration": 67,
    "start_time": "2024-06-15T19:56:43.856Z"
   },
   {
    "duration": 7,
    "start_time": "2024-06-15T19:56:43.926Z"
   },
   {
    "duration": 89,
    "start_time": "2024-06-15T19:56:43.939Z"
   },
   {
    "duration": 20,
    "start_time": "2024-06-15T19:56:44.031Z"
   },
   {
    "duration": 16,
    "start_time": "2024-06-15T19:56:44.054Z"
   },
   {
    "duration": 58,
    "start_time": "2024-06-15T19:56:44.072Z"
   },
   {
    "duration": 7,
    "start_time": "2024-06-15T19:56:44.136Z"
   },
   {
    "duration": 82,
    "start_time": "2024-06-15T19:56:44.146Z"
   },
   {
    "duration": 96,
    "start_time": "2024-06-15T19:56:44.234Z"
   },
   {
    "duration": 16,
    "start_time": "2024-06-15T19:56:44.333Z"
   },
   {
    "duration": 16,
    "start_time": "2024-06-15T19:56:44.353Z"
   },
   {
    "duration": 7,
    "start_time": "2024-06-15T19:56:44.424Z"
   },
   {
    "duration": 4,
    "start_time": "2024-06-15T19:56:44.434Z"
   },
   {
    "duration": 5,
    "start_time": "2024-06-15T19:56:44.442Z"
   },
   {
    "duration": 6,
    "start_time": "2024-06-15T19:56:44.525Z"
   },
   {
    "duration": 20,
    "start_time": "2024-06-15T19:56:44.535Z"
   },
   {
    "duration": 20,
    "start_time": "2024-06-15T19:56:44.558Z"
   },
   {
    "duration": 19,
    "start_time": "2024-06-15T19:56:44.624Z"
   },
   {
    "duration": 14,
    "start_time": "2024-06-15T19:56:44.647Z"
   },
   {
    "duration": 8,
    "start_time": "2024-06-15T19:56:44.664Z"
   },
   {
    "duration": 49,
    "start_time": "2024-06-15T19:56:44.680Z"
   },
   {
    "duration": 534,
    "start_time": "2024-06-15T19:56:44.732Z"
   },
   {
    "duration": 6,
    "start_time": "2024-06-15T20:07:17.750Z"
   },
   {
    "duration": 4,
    "start_time": "2024-06-15T20:08:15.986Z"
   },
   {
    "duration": 5,
    "start_time": "2024-06-15T20:08:17.095Z"
   },
   {
    "duration": 3,
    "start_time": "2024-06-15T20:08:21.657Z"
   },
   {
    "duration": 5,
    "start_time": "2024-06-15T20:08:23.725Z"
   },
   {
    "duration": 5,
    "start_time": "2024-06-15T20:09:05.413Z"
   },
   {
    "duration": 5,
    "start_time": "2024-06-15T20:09:52.748Z"
   },
   {
    "duration": 7,
    "start_time": "2024-06-15T20:19:50.109Z"
   },
   {
    "duration": 6,
    "start_time": "2024-06-15T20:40:18.425Z"
   },
   {
    "duration": 16,
    "start_time": "2024-06-15T20:40:34.207Z"
   },
   {
    "duration": 505,
    "start_time": "2024-06-15T20:40:43.118Z"
   },
   {
    "duration": 25,
    "start_time": "2024-06-15T20:41:48.680Z"
   },
   {
    "duration": 22,
    "start_time": "2024-06-15T20:42:03.008Z"
   },
   {
    "duration": 7,
    "start_time": "2024-06-15T20:44:03.756Z"
   },
   {
    "duration": 4,
    "start_time": "2024-06-15T20:44:09.747Z"
   },
   {
    "duration": 4,
    "start_time": "2024-06-15T20:44:18.536Z"
   },
   {
    "duration": 17,
    "start_time": "2024-06-15T20:48:14.830Z"
   },
   {
    "duration": 5,
    "start_time": "2024-06-15T20:49:45.647Z"
   },
   {
    "duration": 6,
    "start_time": "2024-06-15T20:52:39.961Z"
   },
   {
    "duration": 6,
    "start_time": "2024-06-15T20:52:46.192Z"
   },
   {
    "duration": 6,
    "start_time": "2024-06-15T20:52:58.089Z"
   },
   {
    "duration": 6,
    "start_time": "2024-06-15T20:53:00.453Z"
   },
   {
    "duration": 6,
    "start_time": "2024-06-15T20:53:02.716Z"
   },
   {
    "duration": 6,
    "start_time": "2024-06-15T20:55:43.247Z"
   },
   {
    "duration": 6,
    "start_time": "2024-06-15T20:55:46.859Z"
   },
   {
    "duration": 7,
    "start_time": "2024-06-15T20:56:12.364Z"
   },
   {
    "duration": 5,
    "start_time": "2024-06-15T20:56:14.776Z"
   },
   {
    "duration": 5,
    "start_time": "2024-06-15T21:00:41.371Z"
   },
   {
    "duration": 5,
    "start_time": "2024-06-15T21:00:46.091Z"
   },
   {
    "duration": 6,
    "start_time": "2024-06-15T21:01:32.380Z"
   },
   {
    "duration": 11,
    "start_time": "2024-06-15T21:01:47.713Z"
   },
   {
    "duration": 7,
    "start_time": "2024-06-15T21:03:11.219Z"
   },
   {
    "duration": 8,
    "start_time": "2024-06-15T21:03:21.754Z"
   },
   {
    "duration": 524,
    "start_time": "2024-06-15T21:03:23.547Z"
   },
   {
    "duration": 1444,
    "start_time": "2024-06-15T21:03:42.482Z"
   },
   {
    "duration": 396,
    "start_time": "2024-06-15T21:03:43.929Z"
   },
   {
    "duration": 46,
    "start_time": "2024-06-15T21:03:44.328Z"
   },
   {
    "duration": 194,
    "start_time": "2024-06-15T21:03:44.377Z"
   },
   {
    "duration": 12,
    "start_time": "2024-06-15T21:03:44.576Z"
   },
   {
    "duration": 44,
    "start_time": "2024-06-15T21:03:44.592Z"
   },
   {
    "duration": 15,
    "start_time": "2024-06-15T21:03:44.639Z"
   },
   {
    "duration": 65,
    "start_time": "2024-06-15T21:03:44.657Z"
   },
   {
    "duration": 12,
    "start_time": "2024-06-15T21:03:44.725Z"
   },
   {
    "duration": 88,
    "start_time": "2024-06-15T21:03:44.741Z"
   },
   {
    "duration": 21,
    "start_time": "2024-06-15T21:03:44.832Z"
   },
   {
    "duration": 17,
    "start_time": "2024-06-15T21:03:44.857Z"
   },
   {
    "duration": 58,
    "start_time": "2024-06-15T21:03:44.878Z"
   },
   {
    "duration": 5,
    "start_time": "2024-06-15T21:03:44.945Z"
   },
   {
    "duration": 15,
    "start_time": "2024-06-15T21:03:45.023Z"
   },
   {
    "duration": 96,
    "start_time": "2024-06-15T21:03:45.041Z"
   },
   {
    "duration": 16,
    "start_time": "2024-06-15T21:03:45.141Z"
   },
   {
    "duration": 13,
    "start_time": "2024-06-15T21:03:45.160Z"
   },
   {
    "duration": 48,
    "start_time": "2024-06-15T21:03:45.176Z"
   },
   {
    "duration": 4,
    "start_time": "2024-06-15T21:03:45.227Z"
   },
   {
    "duration": 5,
    "start_time": "2024-06-15T21:03:45.235Z"
   },
   {
    "duration": 80,
    "start_time": "2024-06-15T21:03:45.243Z"
   },
   {
    "duration": 6,
    "start_time": "2024-06-15T21:03:45.326Z"
   },
   {
    "duration": 7,
    "start_time": "2024-06-15T21:03:45.336Z"
   },
   {
    "duration": 7,
    "start_time": "2024-06-15T21:03:45.346Z"
   },
   {
    "duration": 6,
    "start_time": "2024-06-15T21:03:45.356Z"
   },
   {
    "duration": 62,
    "start_time": "2024-06-15T21:03:45.366Z"
   },
   {
    "duration": 8,
    "start_time": "2024-06-15T21:03:45.431Z"
   },
   {
    "duration": 8,
    "start_time": "2024-06-15T21:03:45.442Z"
   },
   {
    "duration": 581,
    "start_time": "2024-06-15T21:03:45.453Z"
   },
   {
    "duration": 1526,
    "start_time": "2024-06-15T21:04:07.397Z"
   },
   {
    "duration": 413,
    "start_time": "2024-06-15T21:04:08.926Z"
   },
   {
    "duration": 53,
    "start_time": "2024-06-15T21:04:09.343Z"
   },
   {
    "duration": 227,
    "start_time": "2024-06-15T21:04:09.401Z"
   },
   {
    "duration": 14,
    "start_time": "2024-06-15T21:04:09.631Z"
   },
   {
    "duration": 25,
    "start_time": "2024-06-15T21:04:09.651Z"
   },
   {
    "duration": 57,
    "start_time": "2024-06-15T21:04:09.682Z"
   },
   {
    "duration": 21,
    "start_time": "2024-06-15T21:04:09.742Z"
   },
   {
    "duration": 58,
    "start_time": "2024-06-15T21:04:09.765Z"
   },
   {
    "duration": 91,
    "start_time": "2024-06-15T21:04:09.832Z"
   },
   {
    "duration": 25,
    "start_time": "2024-06-15T21:04:09.930Z"
   },
   {
    "duration": 18,
    "start_time": "2024-06-15T21:04:09.958Z"
   },
   {
    "duration": 54,
    "start_time": "2024-06-15T21:04:09.980Z"
   },
   {
    "duration": 9,
    "start_time": "2024-06-15T21:04:10.040Z"
   },
   {
    "duration": 86,
    "start_time": "2024-06-15T21:04:10.053Z"
   },
   {
    "duration": 93,
    "start_time": "2024-06-15T21:04:10.142Z"
   },
   {
    "duration": 17,
    "start_time": "2024-06-15T21:04:10.237Z"
   },
   {
    "duration": 14,
    "start_time": "2024-06-15T21:04:10.257Z"
   },
   {
    "duration": 7,
    "start_time": "2024-06-15T21:04:10.322Z"
   },
   {
    "duration": 5,
    "start_time": "2024-06-15T21:04:10.332Z"
   },
   {
    "duration": 5,
    "start_time": "2024-06-15T21:04:10.341Z"
   },
   {
    "duration": 77,
    "start_time": "2024-06-15T21:04:10.349Z"
   },
   {
    "duration": 6,
    "start_time": "2024-06-15T21:04:10.430Z"
   },
   {
    "duration": 8,
    "start_time": "2024-06-15T21:04:10.440Z"
   },
   {
    "duration": 6,
    "start_time": "2024-06-15T21:04:10.451Z"
   },
   {
    "duration": 62,
    "start_time": "2024-06-15T21:04:10.461Z"
   },
   {
    "duration": 16,
    "start_time": "2024-06-15T21:04:10.529Z"
   },
   {
    "duration": 7,
    "start_time": "2024-06-15T21:04:10.553Z"
   },
   {
    "duration": 8,
    "start_time": "2024-06-15T21:04:10.565Z"
   },
   {
    "duration": 531,
    "start_time": "2024-06-15T21:04:10.577Z"
   },
   {
    "duration": 1342,
    "start_time": "2024-06-15T21:05:22.660Z"
   },
   {
    "duration": 390,
    "start_time": "2024-06-15T21:05:24.006Z"
   },
   {
    "duration": 54,
    "start_time": "2024-06-15T21:05:24.400Z"
   },
   {
    "duration": 181,
    "start_time": "2024-06-15T21:05:24.457Z"
   },
   {
    "duration": 11,
    "start_time": "2024-06-15T21:05:24.643Z"
   },
   {
    "duration": 24,
    "start_time": "2024-06-15T21:05:24.658Z"
   },
   {
    "duration": 45,
    "start_time": "2024-06-15T21:05:24.684Z"
   },
   {
    "duration": 23,
    "start_time": "2024-06-15T21:05:24.732Z"
   },
   {
    "duration": 7,
    "start_time": "2024-06-15T21:05:24.822Z"
   },
   {
    "duration": 91,
    "start_time": "2024-06-15T21:05:24.833Z"
   },
   {
    "duration": 20,
    "start_time": "2024-06-15T21:05:24.927Z"
   },
   {
    "duration": 16,
    "start_time": "2024-06-15T21:05:24.950Z"
   },
   {
    "duration": 57,
    "start_time": "2024-06-15T21:05:24.969Z"
   },
   {
    "duration": 7,
    "start_time": "2024-06-15T21:05:25.036Z"
   },
   {
    "duration": 86,
    "start_time": "2024-06-15T21:05:25.045Z"
   },
   {
    "duration": 19,
    "start_time": "2024-06-15T21:05:25.134Z"
   },
   {
    "duration": 15,
    "start_time": "2024-06-15T21:05:25.156Z"
   },
   {
    "duration": 56,
    "start_time": "2024-06-15T21:05:25.174Z"
   },
   {
    "duration": 10,
    "start_time": "2024-06-15T21:05:25.233Z"
   },
   {
    "duration": 82,
    "start_time": "2024-06-15T21:05:25.246Z"
   },
   {
    "duration": 5,
    "start_time": "2024-06-15T21:05:25.331Z"
   },
   {
    "duration": 7,
    "start_time": "2024-06-15T21:05:25.339Z"
   },
   {
    "duration": 79,
    "start_time": "2024-06-15T21:05:25.349Z"
   },
   {
    "duration": 6,
    "start_time": "2024-06-15T21:05:25.431Z"
   },
   {
    "duration": 6,
    "start_time": "2024-06-15T21:05:25.441Z"
   },
   {
    "duration": 6,
    "start_time": "2024-06-15T21:05:25.450Z"
   },
   {
    "duration": 11,
    "start_time": "2024-06-15T21:05:25.459Z"
   },
   {
    "duration": 8,
    "start_time": "2024-06-15T21:05:25.524Z"
   },
   {
    "duration": 11,
    "start_time": "2024-06-15T21:05:25.536Z"
   },
   {
    "duration": 560,
    "start_time": "2024-06-15T21:05:25.550Z"
   },
   {
    "duration": 1440,
    "start_time": "2024-06-15T21:05:47.316Z"
   },
   {
    "duration": 382,
    "start_time": "2024-06-15T21:05:48.760Z"
   },
   {
    "duration": 44,
    "start_time": "2024-06-15T21:05:49.145Z"
   },
   {
    "duration": 184,
    "start_time": "2024-06-15T21:05:49.194Z"
   },
   {
    "duration": 14,
    "start_time": "2024-06-15T21:05:49.381Z"
   },
   {
    "duration": 41,
    "start_time": "2024-06-15T21:05:49.398Z"
   },
   {
    "duration": 17,
    "start_time": "2024-06-15T21:05:49.442Z"
   },
   {
    "duration": 60,
    "start_time": "2024-06-15T21:05:49.462Z"
   },
   {
    "duration": 6,
    "start_time": "2024-06-15T21:05:49.525Z"
   },
   {
    "duration": 91,
    "start_time": "2024-06-15T21:05:49.539Z"
   },
   {
    "duration": 21,
    "start_time": "2024-06-15T21:05:49.632Z"
   },
   {
    "duration": 20,
    "start_time": "2024-06-15T21:05:49.658Z"
   },
   {
    "duration": 63,
    "start_time": "2024-06-15T21:05:49.683Z"
   },
   {
    "duration": 8,
    "start_time": "2024-06-15T21:05:49.751Z"
   },
   {
    "duration": 85,
    "start_time": "2024-06-15T21:05:49.763Z"
   },
   {
    "duration": 94,
    "start_time": "2024-06-15T21:05:49.851Z"
   },
   {
    "duration": 17,
    "start_time": "2024-06-15T21:05:49.949Z"
   },
   {
    "duration": 54,
    "start_time": "2024-06-15T21:05:49.969Z"
   },
   {
    "duration": 12,
    "start_time": "2024-06-15T21:05:50.025Z"
   },
   {
    "duration": 5,
    "start_time": "2024-06-15T21:05:50.040Z"
   },
   {
    "duration": 77,
    "start_time": "2024-06-15T21:05:50.049Z"
   },
   {
    "duration": 4,
    "start_time": "2024-06-15T21:05:50.133Z"
   },
   {
    "duration": 7,
    "start_time": "2024-06-15T21:05:50.141Z"
   },
   {
    "duration": 6,
    "start_time": "2024-06-15T21:05:50.152Z"
   },
   {
    "duration": 6,
    "start_time": "2024-06-15T21:05:50.162Z"
   },
   {
    "duration": 8,
    "start_time": "2024-06-15T21:05:50.224Z"
   },
   {
    "duration": 16,
    "start_time": "2024-06-15T21:05:50.237Z"
   },
   {
    "duration": 8,
    "start_time": "2024-06-15T21:05:50.259Z"
   },
   {
    "duration": 8,
    "start_time": "2024-06-15T21:05:50.272Z"
   },
   {
    "duration": 541,
    "start_time": "2024-06-15T21:05:50.325Z"
   },
   {
    "duration": 470,
    "start_time": "2024-06-15T21:06:03.737Z"
   },
   {
    "duration": 524,
    "start_time": "2024-06-15T21:06:08.113Z"
   },
   {
    "duration": 462,
    "start_time": "2024-06-15T21:06:10.501Z"
   },
   {
    "duration": 466,
    "start_time": "2024-06-15T21:06:12.846Z"
   },
   {
    "duration": 460,
    "start_time": "2024-06-15T21:06:15.267Z"
   },
   {
    "duration": 522,
    "start_time": "2024-06-15T21:06:18.453Z"
   },
   {
    "duration": 12,
    "start_time": "2024-06-15T21:07:20.327Z"
   },
   {
    "duration": 13,
    "start_time": "2024-06-15T21:07:32.803Z"
   },
   {
    "duration": 6,
    "start_time": "2024-06-15T21:07:44.245Z"
   },
   {
    "duration": 5,
    "start_time": "2024-06-15T21:07:50.307Z"
   },
   {
    "duration": 4,
    "start_time": "2024-06-15T21:08:00.143Z"
   },
   {
    "duration": 475,
    "start_time": "2024-06-15T21:09:06.603Z"
   },
   {
    "duration": 34,
    "start_time": "2024-06-15T21:09:28.409Z"
   },
   {
    "duration": 28,
    "start_time": "2024-06-15T21:12:23.395Z"
   },
   {
    "duration": 6,
    "start_time": "2024-06-15T21:13:15.768Z"
   },
   {
    "duration": 5,
    "start_time": "2024-06-15T21:13:22.572Z"
   },
   {
    "duration": 5,
    "start_time": "2024-06-15T21:13:25.125Z"
   },
   {
    "duration": 7,
    "start_time": "2024-06-15T21:13:26.464Z"
   },
   {
    "duration": 6,
    "start_time": "2024-06-15T21:13:35.826Z"
   },
   {
    "duration": 5,
    "start_time": "2024-06-15T21:13:38.735Z"
   },
   {
    "duration": 7,
    "start_time": "2024-06-15T21:13:41.080Z"
   },
   {
    "duration": 7,
    "start_time": "2024-06-15T21:16:18.044Z"
   },
   {
    "duration": 7,
    "start_time": "2024-06-15T21:16:21.597Z"
   },
   {
    "duration": 5,
    "start_time": "2024-06-15T21:16:24.353Z"
   },
   {
    "duration": 6,
    "start_time": "2024-06-15T21:16:26.781Z"
   },
   {
    "duration": 5,
    "start_time": "2024-06-15T21:16:29.362Z"
   },
   {
    "duration": 5,
    "start_time": "2024-06-15T21:16:32.056Z"
   },
   {
    "duration": 9,
    "start_time": "2024-06-15T21:17:53.192Z"
   },
   {
    "duration": 5,
    "start_time": "2024-06-15T21:17:54.557Z"
   },
   {
    "duration": 6,
    "start_time": "2024-06-15T21:18:00.433Z"
   },
   {
    "duration": 5,
    "start_time": "2024-06-15T21:18:03.375Z"
   },
   {
    "duration": 6,
    "start_time": "2024-06-15T21:18:06.139Z"
   },
   {
    "duration": 1427,
    "start_time": "2024-06-15T21:18:21.812Z"
   },
   {
    "duration": 394,
    "start_time": "2024-06-15T21:18:23.243Z"
   },
   {
    "duration": 44,
    "start_time": "2024-06-15T21:18:23.641Z"
   },
   {
    "duration": 180,
    "start_time": "2024-06-15T21:18:23.687Z"
   },
   {
    "duration": 11,
    "start_time": "2024-06-15T21:18:23.873Z"
   },
   {
    "duration": 49,
    "start_time": "2024-06-15T21:18:23.888Z"
   },
   {
    "duration": 18,
    "start_time": "2024-06-15T21:18:23.941Z"
   },
   {
    "duration": 64,
    "start_time": "2024-06-15T21:18:23.961Z"
   },
   {
    "duration": 6,
    "start_time": "2024-06-15T21:18:24.028Z"
   },
   {
    "duration": 96,
    "start_time": "2024-06-15T21:18:24.037Z"
   },
   {
    "duration": 21,
    "start_time": "2024-06-15T21:18:24.136Z"
   },
   {
    "duration": 15,
    "start_time": "2024-06-15T21:18:24.160Z"
   },
   {
    "duration": 49,
    "start_time": "2024-06-15T21:18:24.178Z"
   },
   {
    "duration": 6,
    "start_time": "2024-06-15T21:18:24.233Z"
   },
   {
    "duration": 88,
    "start_time": "2024-06-15T21:18:24.242Z"
   },
   {
    "duration": 101,
    "start_time": "2024-06-15T21:18:24.335Z"
   },
   {
    "duration": 18,
    "start_time": "2024-06-15T21:18:24.438Z"
   },
   {
    "duration": 64,
    "start_time": "2024-06-15T21:18:24.460Z"
   },
   {
    "duration": 7,
    "start_time": "2024-06-15T21:18:24.528Z"
   },
   {
    "duration": 6,
    "start_time": "2024-06-15T21:18:24.538Z"
   },
   {
    "duration": 77,
    "start_time": "2024-06-15T21:18:24.547Z"
   },
   {
    "duration": 7,
    "start_time": "2024-06-15T21:18:24.627Z"
   },
   {
    "duration": 6,
    "start_time": "2024-06-15T21:18:24.637Z"
   },
   {
    "duration": 6,
    "start_time": "2024-06-15T21:18:24.646Z"
   },
   {
    "duration": 6,
    "start_time": "2024-06-15T21:18:24.655Z"
   },
   {
    "duration": 64,
    "start_time": "2024-06-15T21:18:24.664Z"
   },
   {
    "duration": 8,
    "start_time": "2024-06-15T21:18:24.732Z"
   },
   {
    "duration": 8,
    "start_time": "2024-06-15T21:18:24.743Z"
   },
   {
    "duration": 555,
    "start_time": "2024-06-15T21:18:24.754Z"
   },
   {
    "duration": 1435,
    "start_time": "2024-06-15T21:18:38.329Z"
   },
   {
    "duration": 413,
    "start_time": "2024-06-15T21:18:39.768Z"
   },
   {
    "duration": 60,
    "start_time": "2024-06-15T21:18:40.184Z"
   },
   {
    "duration": 176,
    "start_time": "2024-06-15T21:18:40.247Z"
   },
   {
    "duration": 14,
    "start_time": "2024-06-15T21:18:40.429Z"
   },
   {
    "duration": 20,
    "start_time": "2024-06-15T21:18:40.446Z"
   },
   {
    "duration": 54,
    "start_time": "2024-06-15T21:18:40.469Z"
   },
   {
    "duration": 17,
    "start_time": "2024-06-15T21:18:40.526Z"
   },
   {
    "duration": 7,
    "start_time": "2024-06-15T21:18:40.546Z"
   },
   {
    "duration": 25,
    "start_time": "2024-06-15T21:18:40.623Z"
   },
   {
    "duration": 87,
    "start_time": "2024-06-15T21:18:40.652Z"
   },
   {
    "duration": 18,
    "start_time": "2024-06-15T21:18:40.743Z"
   },
   {
    "duration": 59,
    "start_time": "2024-06-15T21:18:40.764Z"
   },
   {
    "duration": 5,
    "start_time": "2024-06-15T21:18:40.831Z"
   },
   {
    "duration": 89,
    "start_time": "2024-06-15T21:18:40.840Z"
   },
   {
    "duration": 22,
    "start_time": "2024-06-15T21:18:40.932Z"
   },
   {
    "duration": 17,
    "start_time": "2024-06-15T21:18:40.957Z"
   },
   {
    "duration": 51,
    "start_time": "2024-06-15T21:18:40.977Z"
   },
   {
    "duration": 7,
    "start_time": "2024-06-15T21:18:41.032Z"
   },
   {
    "duration": 76,
    "start_time": "2024-06-15T21:18:41.049Z"
   },
   {
    "duration": 18,
    "start_time": "2024-06-15T21:18:41.128Z"
   },
   {
    "duration": 9,
    "start_time": "2024-06-15T21:18:41.149Z"
   },
   {
    "duration": 60,
    "start_time": "2024-06-15T21:18:41.162Z"
   },
   {
    "duration": 6,
    "start_time": "2024-06-15T21:18:41.226Z"
   },
   {
    "duration": 6,
    "start_time": "2024-06-15T21:18:41.236Z"
   },
   {
    "duration": 12,
    "start_time": "2024-06-15T21:18:41.246Z"
   },
   {
    "duration": 8,
    "start_time": "2024-06-15T21:18:41.260Z"
   },
   {
    "duration": 56,
    "start_time": "2024-06-15T21:18:41.271Z"
   },
   {
    "duration": 555,
    "start_time": "2024-06-15T21:18:41.330Z"
   },
   {
    "duration": 7,
    "start_time": "2024-06-15T21:20:58.236Z"
   },
   {
    "duration": 5,
    "start_time": "2024-06-15T21:21:00.913Z"
   },
   {
    "duration": 475,
    "start_time": "2024-06-15T21:21:53.972Z"
   },
   {
    "duration": 5,
    "start_time": "2024-06-15T21:22:43.568Z"
   },
   {
    "duration": 5,
    "start_time": "2024-06-15T21:22:46.998Z"
   },
   {
    "duration": 6,
    "start_time": "2024-06-15T21:22:53.280Z"
   },
   {
    "duration": 6,
    "start_time": "2024-06-15T21:25:22.052Z"
   },
   {
    "duration": 49,
    "start_time": "2024-06-15T21:25:25.046Z"
   },
   {
    "duration": 7,
    "start_time": "2024-06-15T21:25:46.644Z"
   },
   {
    "duration": 49,
    "start_time": "2024-06-15T21:25:48.931Z"
   },
   {
    "duration": 6,
    "start_time": "2024-06-15T21:30:27.146Z"
   },
   {
    "duration": 6,
    "start_time": "2024-06-15T21:30:30.277Z"
   },
   {
    "duration": 6,
    "start_time": "2024-06-15T21:30:35.716Z"
   },
   {
    "duration": 6,
    "start_time": "2024-06-15T21:30:37.707Z"
   },
   {
    "duration": 5,
    "start_time": "2024-06-15T21:30:39.561Z"
   },
   {
    "duration": 6,
    "start_time": "2024-06-15T21:30:42.620Z"
   },
   {
    "duration": 6,
    "start_time": "2024-06-15T21:30:44.769Z"
   },
   {
    "duration": 6,
    "start_time": "2024-06-15T21:30:47.856Z"
   },
   {
    "duration": 1480,
    "start_time": "2024-06-15T21:31:03.440Z"
   },
   {
    "duration": 441,
    "start_time": "2024-06-15T21:31:04.924Z"
   },
   {
    "duration": 70,
    "start_time": "2024-06-15T21:31:05.370Z"
   },
   {
    "duration": 230,
    "start_time": "2024-06-15T21:31:05.446Z"
   },
   {
    "duration": 14,
    "start_time": "2024-06-15T21:31:05.680Z"
   },
   {
    "duration": 48,
    "start_time": "2024-06-15T21:31:05.697Z"
   },
   {
    "duration": 19,
    "start_time": "2024-06-15T21:31:05.749Z"
   },
   {
    "duration": 57,
    "start_time": "2024-06-15T21:31:05.772Z"
   },
   {
    "duration": 8,
    "start_time": "2024-06-15T21:31:05.833Z"
   },
   {
    "duration": 82,
    "start_time": "2024-06-15T21:31:05.850Z"
   },
   {
    "duration": 19,
    "start_time": "2024-06-15T21:31:05.935Z"
   },
   {
    "duration": 15,
    "start_time": "2024-06-15T21:31:05.957Z"
   },
   {
    "duration": 55,
    "start_time": "2024-06-15T21:31:05.975Z"
   },
   {
    "duration": 8,
    "start_time": "2024-06-15T21:31:06.032Z"
   },
   {
    "duration": 97,
    "start_time": "2024-06-15T21:31:06.042Z"
   },
   {
    "duration": 85,
    "start_time": "2024-06-15T21:31:06.141Z"
   },
   {
    "duration": 14,
    "start_time": "2024-06-15T21:31:06.229Z"
   },
   {
    "duration": 17,
    "start_time": "2024-06-15T21:31:06.247Z"
   },
   {
    "duration": 60,
    "start_time": "2024-06-15T21:31:06.267Z"
   },
   {
    "duration": 8,
    "start_time": "2024-06-15T21:31:06.330Z"
   },
   {
    "duration": 81,
    "start_time": "2024-06-15T21:31:06.341Z"
   },
   {
    "duration": 7,
    "start_time": "2024-06-15T21:31:06.425Z"
   },
   {
    "duration": 6,
    "start_time": "2024-06-15T21:31:06.435Z"
   },
   {
    "duration": 6,
    "start_time": "2024-06-15T21:31:06.445Z"
   },
   {
    "duration": 5,
    "start_time": "2024-06-15T21:31:06.454Z"
   },
   {
    "duration": 65,
    "start_time": "2024-06-15T21:31:06.463Z"
   },
   {
    "duration": 9,
    "start_time": "2024-06-15T21:31:06.531Z"
   },
   {
    "duration": 9,
    "start_time": "2024-06-15T21:31:06.549Z"
   },
   {
    "duration": 541,
    "start_time": "2024-06-15T21:31:06.561Z"
   },
   {
    "duration": 1445,
    "start_time": "2024-06-15T21:32:19.656Z"
   },
   {
    "duration": 401,
    "start_time": "2024-06-15T21:32:21.105Z"
   },
   {
    "duration": 54,
    "start_time": "2024-06-15T21:32:21.509Z"
   },
   {
    "duration": 189,
    "start_time": "2024-06-15T21:32:21.568Z"
   },
   {
    "duration": 12,
    "start_time": "2024-06-15T21:32:21.761Z"
   },
   {
    "duration": 47,
    "start_time": "2024-06-15T21:32:21.776Z"
   },
   {
    "duration": 16,
    "start_time": "2024-06-15T21:32:21.826Z"
   },
   {
    "duration": 16,
    "start_time": "2024-06-15T21:32:21.845Z"
   },
   {
    "duration": 65,
    "start_time": "2024-06-15T21:32:21.864Z"
   },
   {
    "duration": 89,
    "start_time": "2024-06-15T21:32:21.935Z"
   },
   {
    "duration": 22,
    "start_time": "2024-06-15T21:32:22.028Z"
   },
   {
    "duration": 17,
    "start_time": "2024-06-15T21:32:22.054Z"
   },
   {
    "duration": 52,
    "start_time": "2024-06-15T21:32:22.075Z"
   },
   {
    "duration": 9,
    "start_time": "2024-06-15T21:32:22.132Z"
   },
   {
    "duration": 85,
    "start_time": "2024-06-15T21:32:22.144Z"
   },
   {
    "duration": 20,
    "start_time": "2024-06-15T21:32:22.233Z"
   },
   {
    "duration": 80,
    "start_time": "2024-06-15T21:32:22.255Z"
   },
   {
    "duration": 17,
    "start_time": "2024-06-15T21:32:22.338Z"
   },
   {
    "duration": 8,
    "start_time": "2024-06-15T21:32:22.422Z"
   },
   {
    "duration": 4,
    "start_time": "2024-06-15T21:32:22.438Z"
   },
   {
    "duration": 78,
    "start_time": "2024-06-15T21:32:22.445Z"
   },
   {
    "duration": 7,
    "start_time": "2024-06-15T21:32:22.527Z"
   },
   {
    "duration": 6,
    "start_time": "2024-06-15T21:32:22.537Z"
   },
   {
    "duration": 6,
    "start_time": "2024-06-15T21:32:22.546Z"
   },
   {
    "duration": 7,
    "start_time": "2024-06-15T21:32:22.555Z"
   },
   {
    "duration": 65,
    "start_time": "2024-06-15T21:32:22.565Z"
   },
   {
    "duration": 7,
    "start_time": "2024-06-15T21:32:22.633Z"
   },
   {
    "duration": 7,
    "start_time": "2024-06-15T21:32:22.647Z"
   },
   {
    "duration": 558,
    "start_time": "2024-06-15T21:32:22.657Z"
   },
   {
    "duration": 6,
    "start_time": "2024-06-15T21:48:21.249Z"
   },
   {
    "duration": 7,
    "start_time": "2024-06-15T21:48:22.729Z"
   },
   {
    "duration": 5,
    "start_time": "2024-06-15T21:48:26.924Z"
   },
   {
    "duration": 7,
    "start_time": "2024-06-15T21:48:29.765Z"
   },
   {
    "duration": 6,
    "start_time": "2024-06-15T21:48:42.127Z"
   },
   {
    "duration": 5,
    "start_time": "2024-06-15T21:48:43.551Z"
   },
   {
    "duration": 6,
    "start_time": "2024-06-15T21:48:45.953Z"
   },
   {
    "duration": 6,
    "start_time": "2024-06-15T21:48:48.121Z"
   },
   {
    "duration": 7,
    "start_time": "2024-06-15T21:49:01.615Z"
   },
   {
    "duration": 6,
    "start_time": "2024-06-15T21:49:02.611Z"
   },
   {
    "duration": 6,
    "start_time": "2024-06-15T21:49:04.169Z"
   },
   {
    "duration": 6,
    "start_time": "2024-06-15T21:49:05.857Z"
   },
   {
    "duration": 11,
    "start_time": "2024-06-15T21:49:25.277Z"
   },
   {
    "duration": 8,
    "start_time": "2024-06-15T21:50:48.983Z"
   },
   {
    "duration": 6,
    "start_time": "2024-06-15T21:50:49.754Z"
   },
   {
    "duration": 475,
    "start_time": "2024-06-15T21:50:50.761Z"
   },
   {
    "duration": 4997,
    "start_time": "2024-06-16T00:16:06.961Z"
   },
   {
    "duration": 490,
    "start_time": "2024-06-16T00:16:11.961Z"
   },
   {
    "duration": 64,
    "start_time": "2024-06-16T00:16:12.455Z"
   },
   {
    "duration": 174,
    "start_time": "2024-06-16T00:16:12.523Z"
   },
   {
    "duration": 21,
    "start_time": "2024-06-16T00:16:12.700Z"
   },
   {
    "duration": 23,
    "start_time": "2024-06-16T00:16:12.724Z"
   },
   {
    "duration": 18,
    "start_time": "2024-06-16T00:16:12.749Z"
   },
   {
    "duration": 51,
    "start_time": "2024-06-16T00:16:12.771Z"
   },
   {
    "duration": 6,
    "start_time": "2024-06-16T00:16:12.825Z"
   },
   {
    "duration": 83,
    "start_time": "2024-06-16T00:16:12.838Z"
   },
   {
    "duration": 99,
    "start_time": "2024-06-16T00:16:12.923Z"
   },
   {
    "duration": 19,
    "start_time": "2024-06-16T00:16:13.025Z"
   },
   {
    "duration": 13,
    "start_time": "2024-06-16T00:16:13.048Z"
   },
   {
    "duration": 52,
    "start_time": "2024-06-16T00:16:13.063Z"
   },
   {
    "duration": 20,
    "start_time": "2024-06-16T00:16:13.119Z"
   },
   {
    "duration": 24,
    "start_time": "2024-06-16T00:16:13.212Z"
   },
   {
    "duration": 15,
    "start_time": "2024-06-16T00:16:13.239Z"
   },
   {
    "duration": 56,
    "start_time": "2024-06-16T00:16:13.257Z"
   },
   {
    "duration": 9,
    "start_time": "2024-06-16T00:16:13.317Z"
   },
   {
    "duration": 6,
    "start_time": "2024-06-16T00:16:13.330Z"
   },
   {
    "duration": 74,
    "start_time": "2024-06-16T00:16:13.341Z"
   },
   {
    "duration": 8,
    "start_time": "2024-06-16T00:16:13.419Z"
   },
   {
    "duration": 6,
    "start_time": "2024-06-16T00:16:13.431Z"
   },
   {
    "duration": 6,
    "start_time": "2024-06-16T00:16:13.440Z"
   },
   {
    "duration": 7,
    "start_time": "2024-06-16T00:16:13.448Z"
   },
   {
    "duration": 55,
    "start_time": "2024-06-16T00:16:13.458Z"
   },
   {
    "duration": 8,
    "start_time": "2024-06-16T00:16:13.516Z"
   },
   {
    "duration": 8,
    "start_time": "2024-06-16T00:16:13.532Z"
   },
   {
    "duration": 614,
    "start_time": "2024-06-16T00:16:13.543Z"
   },
   {
    "duration": 7,
    "start_time": "2024-06-16T00:26:53.014Z"
   },
   {
    "duration": 420,
    "start_time": "2024-06-16T00:28:07.577Z"
   },
   {
    "duration": 6,
    "start_time": "2024-06-16T00:28:28.245Z"
   },
   {
    "duration": 20,
    "start_time": "2024-06-16T00:28:28.853Z"
   },
   {
    "duration": 6,
    "start_time": "2024-06-16T00:46:09.459Z"
   },
   {
    "duration": 836,
    "start_time": "2024-06-16T00:46:44.091Z"
   },
   {
    "duration": 823,
    "start_time": "2024-06-16T00:46:57.119Z"
   },
   {
    "duration": 820,
    "start_time": "2024-06-16T00:47:15.881Z"
   },
   {
    "duration": 832,
    "start_time": "2024-06-16T00:47:20.619Z"
   },
   {
    "duration": 840,
    "start_time": "2024-06-16T00:47:23.240Z"
   },
   {
    "duration": 7,
    "start_time": "2024-06-16T00:50:15.006Z"
   },
   {
    "duration": 855,
    "start_time": "2024-06-16T00:50:29.311Z"
   },
   {
    "duration": 7,
    "start_time": "2024-06-16T00:50:57.224Z"
   },
   {
    "duration": 821,
    "start_time": "2024-06-16T00:50:58.091Z"
   },
   {
    "duration": 830,
    "start_time": "2024-06-16T00:51:05.232Z"
   },
   {
    "duration": 823,
    "start_time": "2024-06-16T00:51:08.578Z"
   },
   {
    "duration": 821,
    "start_time": "2024-06-16T00:51:11.681Z"
   },
   {
    "duration": 824,
    "start_time": "2024-06-16T00:51:15.771Z"
   },
   {
    "duration": 2487,
    "start_time": "2024-06-16T00:52:23.213Z"
   },
   {
    "duration": 2501,
    "start_time": "2024-06-16T00:53:35.011Z"
   },
   {
    "duration": 9,
    "start_time": "2024-06-16T00:56:48.316Z"
   },
   {
    "duration": 387,
    "start_time": "2024-06-16T00:56:50.221Z"
   },
   {
    "duration": 6,
    "start_time": "2024-06-16T00:57:52.726Z"
   },
   {
    "duration": 6,
    "start_time": "2024-06-16T00:57:54.591Z"
   },
   {
    "duration": 5,
    "start_time": "2024-06-16T00:58:02.912Z"
   },
   {
    "duration": 6,
    "start_time": "2024-06-16T00:58:04.719Z"
   },
   {
    "duration": 7,
    "start_time": "2024-06-16T00:59:15.099Z"
   },
   {
    "duration": 13,
    "start_time": "2024-06-16T00:59:48.580Z"
   },
   {
    "duration": 487,
    "start_time": "2024-06-16T00:59:50.358Z"
   },
   {
    "duration": 5082,
    "start_time": "2024-06-16T02:04:48.867Z"
   },
   {
    "duration": 501,
    "start_time": "2024-06-16T02:04:53.952Z"
   },
   {
    "duration": 46,
    "start_time": "2024-06-16T02:04:54.456Z"
   },
   {
    "duration": 164,
    "start_time": "2024-06-16T02:04:54.522Z"
   },
   {
    "duration": 13,
    "start_time": "2024-06-16T02:04:54.689Z"
   },
   {
    "duration": 20,
    "start_time": "2024-06-16T02:04:54.722Z"
   },
   {
    "duration": 17,
    "start_time": "2024-06-16T02:04:54.745Z"
   },
   {
    "duration": 60,
    "start_time": "2024-06-16T02:04:54.765Z"
   },
   {
    "duration": 7,
    "start_time": "2024-06-16T02:04:54.828Z"
   },
   {
    "duration": 86,
    "start_time": "2024-06-16T02:04:54.842Z"
   },
   {
    "duration": 19,
    "start_time": "2024-06-16T02:04:54.931Z"
   },
   {
    "duration": 15,
    "start_time": "2024-06-16T02:04:54.955Z"
   },
   {
    "duration": 53,
    "start_time": "2024-06-16T02:04:54.973Z"
   },
   {
    "duration": 11,
    "start_time": "2024-06-16T02:04:55.028Z"
   },
   {
    "duration": 91,
    "start_time": "2024-06-16T02:04:55.042Z"
   },
   {
    "duration": 21,
    "start_time": "2024-06-16T02:04:55.136Z"
   },
   {
    "duration": 71,
    "start_time": "2024-06-16T02:04:55.159Z"
   },
   {
    "duration": 14,
    "start_time": "2024-06-16T02:04:55.233Z"
   },
   {
    "duration": 7,
    "start_time": "2024-06-16T02:04:55.249Z"
   },
   {
    "duration": 66,
    "start_time": "2024-06-16T02:04:55.259Z"
   },
   {
    "duration": 7,
    "start_time": "2024-06-16T02:04:55.327Z"
   },
   {
    "duration": 85,
    "start_time": "2024-06-16T02:04:55.337Z"
   },
   {
    "duration": 7,
    "start_time": "2024-06-16T02:04:55.426Z"
   },
   {
    "duration": 7,
    "start_time": "2024-06-16T02:04:55.436Z"
   },
   {
    "duration": 7,
    "start_time": "2024-06-16T02:04:55.447Z"
   },
   {
    "duration": 67,
    "start_time": "2024-06-16T02:04:55.458Z"
   },
   {
    "duration": 8,
    "start_time": "2024-06-16T02:04:55.529Z"
   },
   {
    "duration": 7,
    "start_time": "2024-06-16T02:04:55.543Z"
   },
   {
    "duration": 540,
    "start_time": "2024-06-16T02:04:55.553Z"
   },
   {
    "duration": 3,
    "start_time": "2024-06-16T02:09:52.604Z"
   },
   {
    "duration": 4,
    "start_time": "2024-06-16T02:11:12.527Z"
   },
   {
    "duration": 4,
    "start_time": "2024-06-16T02:11:13.615Z"
   },
   {
    "duration": 6,
    "start_time": "2024-06-16T02:15:49.544Z"
   },
   {
    "duration": 5,
    "start_time": "2024-06-16T02:15:52.071Z"
   },
   {
    "duration": 7,
    "start_time": "2024-06-16T02:16:15.145Z"
   },
   {
    "duration": 5,
    "start_time": "2024-06-16T02:16:18.962Z"
   },
   {
    "duration": 12,
    "start_time": "2024-06-16T02:16:28.032Z"
   },
   {
    "duration": 8,
    "start_time": "2024-06-16T02:19:52.505Z"
   },
   {
    "duration": 3,
    "start_time": "2024-06-16T02:20:13.834Z"
   },
   {
    "duration": 7,
    "start_time": "2024-06-16T02:22:31.849Z"
   },
   {
    "duration": 451,
    "start_time": "2024-06-16T02:22:32.851Z"
   },
   {
    "duration": 6,
    "start_time": "2024-06-16T02:23:42.009Z"
   },
   {
    "duration": 1394,
    "start_time": "2024-06-16T02:23:48.685Z"
   },
   {
    "duration": 391,
    "start_time": "2024-06-16T02:23:50.083Z"
   },
   {
    "duration": 54,
    "start_time": "2024-06-16T02:23:50.477Z"
   },
   {
    "duration": 176,
    "start_time": "2024-06-16T02:23:50.534Z"
   },
   {
    "duration": 12,
    "start_time": "2024-06-16T02:23:50.724Z"
   },
   {
    "duration": 23,
    "start_time": "2024-06-16T02:23:50.739Z"
   },
   {
    "duration": 17,
    "start_time": "2024-06-16T02:23:50.765Z"
   },
   {
    "duration": 54,
    "start_time": "2024-06-16T02:23:50.784Z"
   },
   {
    "duration": 7,
    "start_time": "2024-06-16T02:23:50.841Z"
   },
   {
    "duration": 16,
    "start_time": "2024-06-16T02:23:50.923Z"
   },
   {
    "duration": 94,
    "start_time": "2024-06-16T02:23:50.943Z"
   },
   {
    "duration": 15,
    "start_time": "2024-06-16T02:23:51.040Z"
   },
   {
    "duration": 73,
    "start_time": "2024-06-16T02:23:51.058Z"
   },
   {
    "duration": 19,
    "start_time": "2024-06-16T02:23:51.135Z"
   },
   {
    "duration": 76,
    "start_time": "2024-06-16T02:23:51.157Z"
   },
   {
    "duration": 18,
    "start_time": "2024-06-16T02:23:51.236Z"
   },
   {
    "duration": 16,
    "start_time": "2024-06-16T02:23:51.257Z"
   },
   {
    "duration": 51,
    "start_time": "2024-06-16T02:23:51.276Z"
   },
   {
    "duration": 5,
    "start_time": "2024-06-16T02:23:51.330Z"
   },
   {
    "duration": 4,
    "start_time": "2024-06-16T02:23:51.338Z"
   },
   {
    "duration": 89,
    "start_time": "2024-06-16T02:23:51.345Z"
   },
   {
    "duration": 8,
    "start_time": "2024-06-16T02:23:51.437Z"
   },
   {
    "duration": 78,
    "start_time": "2024-06-16T02:23:51.448Z"
   },
   {
    "duration": 6,
    "start_time": "2024-06-16T02:23:51.530Z"
   },
   {
    "duration": 6,
    "start_time": "2024-06-16T02:23:51.539Z"
   },
   {
    "duration": 11,
    "start_time": "2024-06-16T02:23:51.549Z"
   },
   {
    "duration": 6,
    "start_time": "2024-06-16T02:23:51.564Z"
   },
   {
    "duration": 8,
    "start_time": "2024-06-16T02:23:51.627Z"
   },
   {
    "duration": 545,
    "start_time": "2024-06-16T02:23:51.638Z"
   },
   {
    "duration": 1398,
    "start_time": "2024-06-16T02:24:04.956Z"
   },
   {
    "duration": 395,
    "start_time": "2024-06-16T02:24:06.357Z"
   },
   {
    "duration": 45,
    "start_time": "2024-06-16T02:24:06.755Z"
   },
   {
    "duration": 180,
    "start_time": "2024-06-16T02:24:06.803Z"
   },
   {
    "duration": 12,
    "start_time": "2024-06-16T02:24:06.989Z"
   },
   {
    "duration": 21,
    "start_time": "2024-06-16T02:24:07.024Z"
   },
   {
    "duration": 18,
    "start_time": "2024-06-16T02:24:07.048Z"
   },
   {
    "duration": 62,
    "start_time": "2024-06-16T02:24:07.069Z"
   },
   {
    "duration": 81,
    "start_time": "2024-06-16T02:24:07.142Z"
   },
   {
    "duration": 14,
    "start_time": "2024-06-16T02:24:07.226Z"
   },
   {
    "duration": 19,
    "start_time": "2024-06-16T02:24:07.243Z"
   },
   {
    "duration": 15,
    "start_time": "2024-06-16T02:24:07.266Z"
   },
   {
    "duration": 52,
    "start_time": "2024-06-16T02:24:07.284Z"
   },
   {
    "duration": 5,
    "start_time": "2024-06-16T02:24:07.343Z"
   },
   {
    "duration": 83,
    "start_time": "2024-06-16T02:24:07.351Z"
   },
   {
    "duration": 93,
    "start_time": "2024-06-16T02:24:07.436Z"
   },
   {
    "duration": 15,
    "start_time": "2024-06-16T02:24:07.533Z"
   },
   {
    "duration": 14,
    "start_time": "2024-06-16T02:24:07.551Z"
   },
   {
    "duration": 57,
    "start_time": "2024-06-16T02:24:07.568Z"
   },
   {
    "duration": 5,
    "start_time": "2024-06-16T02:24:07.627Z"
   },
   {
    "duration": 5,
    "start_time": "2024-06-16T02:24:07.635Z"
   },
   {
    "duration": 8,
    "start_time": "2024-06-16T02:24:07.643Z"
   },
   {
    "duration": 6,
    "start_time": "2024-06-16T02:24:07.723Z"
   },
   {
    "duration": 7,
    "start_time": "2024-06-16T02:24:07.732Z"
   },
   {
    "duration": 9,
    "start_time": "2024-06-16T02:24:07.742Z"
   },
   {
    "duration": 11,
    "start_time": "2024-06-16T02:24:07.755Z"
   },
   {
    "duration": 5,
    "start_time": "2024-06-16T02:24:07.769Z"
   },
   {
    "duration": 7,
    "start_time": "2024-06-16T02:24:07.824Z"
   },
   {
    "duration": 528,
    "start_time": "2024-06-16T02:24:07.835Z"
   },
   {
    "duration": 6,
    "start_time": "2024-06-16T02:25:55.189Z"
   },
   {
    "duration": 6,
    "start_time": "2024-06-16T02:26:05.938Z"
   },
   {
    "duration": 5,
    "start_time": "2024-06-16T02:26:08.301Z"
   },
   {
    "duration": 6,
    "start_time": "2024-06-16T02:26:10.288Z"
   },
   {
    "duration": 6,
    "start_time": "2024-06-16T02:26:52.247Z"
   },
   {
    "duration": 5,
    "start_time": "2024-06-16T02:26:53.670Z"
   },
   {
    "duration": 6,
    "start_time": "2024-06-16T02:26:58.769Z"
   },
   {
    "duration": 6,
    "start_time": "2024-06-16T02:26:59.373Z"
   },
   {
    "duration": 9,
    "start_time": "2024-06-16T02:27:00.418Z"
   },
   {
    "duration": 11,
    "start_time": "2024-06-16T02:27:01.389Z"
   },
   {
    "duration": 5,
    "start_time": "2024-06-16T02:27:10.091Z"
   },
   {
    "duration": 7,
    "start_time": "2024-06-16T02:27:10.564Z"
   },
   {
    "duration": 510,
    "start_time": "2024-06-16T02:27:12.453Z"
   },
   {
    "duration": 6,
    "start_time": "2024-06-16T02:31:35.054Z"
   },
   {
    "duration": 8,
    "start_time": "2024-06-16T02:31:36.949Z"
   },
   {
    "duration": 8,
    "start_time": "2024-06-16T02:31:39.138Z"
   },
   {
    "duration": 8,
    "start_time": "2024-06-16T02:31:40.248Z"
   },
   {
    "duration": 14,
    "start_time": "2024-06-16T02:31:43.476Z"
   },
   {
    "duration": 5,
    "start_time": "2024-06-16T02:31:58.791Z"
   },
   {
    "duration": 9,
    "start_time": "2024-06-16T02:31:59.516Z"
   },
   {
    "duration": 515,
    "start_time": "2024-06-16T02:32:00.513Z"
   },
   {
    "duration": 7,
    "start_time": "2024-06-16T02:32:21.933Z"
   },
   {
    "duration": 492,
    "start_time": "2024-06-16T02:32:23.101Z"
   },
   {
    "duration": 6,
    "start_time": "2024-06-16T02:32:54.785Z"
   },
   {
    "duration": 17,
    "start_time": "2024-06-16T02:32:56.384Z"
   },
   {
    "duration": 17,
    "start_time": "2024-06-16T02:32:58.555Z"
   },
   {
    "duration": 17,
    "start_time": "2024-06-16T02:32:59.831Z"
   },
   {
    "duration": 12,
    "start_time": "2024-06-16T02:33:01.172Z"
   },
   {
    "duration": 7,
    "start_time": "2024-06-16T02:33:04.583Z"
   },
   {
    "duration": 9,
    "start_time": "2024-06-16T02:33:05.116Z"
   },
   {
    "duration": 484,
    "start_time": "2024-06-16T02:33:05.968Z"
   },
   {
    "duration": 6,
    "start_time": "2024-06-16T02:33:30.214Z"
   },
   {
    "duration": 5,
    "start_time": "2024-06-16T02:33:32.806Z"
   },
   {
    "duration": 5,
    "start_time": "2024-06-16T02:33:33.168Z"
   },
   {
    "duration": 6,
    "start_time": "2024-06-16T02:33:33.504Z"
   },
   {
    "duration": 13,
    "start_time": "2024-06-16T02:33:33.823Z"
   },
   {
    "duration": 5,
    "start_time": "2024-06-16T02:33:36.180Z"
   },
   {
    "duration": 8,
    "start_time": "2024-06-16T02:33:36.522Z"
   },
   {
    "duration": 473,
    "start_time": "2024-06-16T02:33:37.053Z"
   },
   {
    "duration": 8,
    "start_time": "2024-06-16T02:39:44.847Z"
   },
   {
    "duration": 6,
    "start_time": "2024-06-16T02:40:33.938Z"
   },
   {
    "duration": 6,
    "start_time": "2024-06-16T02:40:34.947Z"
   },
   {
    "duration": 6,
    "start_time": "2024-06-16T02:44:57.829Z"
   },
   {
    "duration": 5,
    "start_time": "2024-06-16T02:44:58.826Z"
   },
   {
    "duration": 5,
    "start_time": "2024-06-16T02:44:59.999Z"
   },
   {
    "duration": 7,
    "start_time": "2024-06-16T02:45:00.335Z"
   },
   {
    "duration": 12,
    "start_time": "2024-06-16T02:45:01.030Z"
   },
   {
    "duration": 4,
    "start_time": "2024-06-16T02:45:15.531Z"
   },
   {
    "duration": 7,
    "start_time": "2024-06-16T02:45:16.109Z"
   },
   {
    "duration": 559,
    "start_time": "2024-06-16T02:45:17.011Z"
   },
   {
    "duration": 7,
    "start_time": "2024-06-16T02:45:32.039Z"
   },
   {
    "duration": 1511,
    "start_time": "2024-06-16T02:45:41.623Z"
   },
   {
    "duration": 458,
    "start_time": "2024-06-16T02:45:43.138Z"
   },
   {
    "duration": 58,
    "start_time": "2024-06-16T02:45:43.599Z"
   },
   {
    "duration": 220,
    "start_time": "2024-06-16T02:45:43.661Z"
   },
   {
    "duration": 14,
    "start_time": "2024-06-16T02:45:43.884Z"
   },
   {
    "duration": 41,
    "start_time": "2024-06-16T02:45:43.902Z"
   },
   {
    "duration": 16,
    "start_time": "2024-06-16T02:45:43.947Z"
   },
   {
    "duration": 61,
    "start_time": "2024-06-16T02:45:43.967Z"
   },
   {
    "duration": 7,
    "start_time": "2024-06-16T02:45:44.031Z"
   },
   {
    "duration": 86,
    "start_time": "2024-06-16T02:45:44.045Z"
   },
   {
    "duration": 22,
    "start_time": "2024-06-16T02:45:44.134Z"
   },
   {
    "duration": 16,
    "start_time": "2024-06-16T02:45:44.160Z"
   },
   {
    "duration": 59,
    "start_time": "2024-06-16T02:45:44.179Z"
   },
   {
    "duration": 6,
    "start_time": "2024-06-16T02:45:44.241Z"
   },
   {
    "duration": 83,
    "start_time": "2024-06-16T02:45:44.249Z"
   },
   {
    "duration": 99,
    "start_time": "2024-06-16T02:45:44.335Z"
   },
   {
    "duration": 18,
    "start_time": "2024-06-16T02:45:44.437Z"
   },
   {
    "duration": 68,
    "start_time": "2024-06-16T02:45:44.459Z"
   },
   {
    "duration": 7,
    "start_time": "2024-06-16T02:45:44.529Z"
   },
   {
    "duration": 5,
    "start_time": "2024-06-16T02:45:44.539Z"
   },
   {
    "duration": 80,
    "start_time": "2024-06-16T02:45:44.547Z"
   },
   {
    "duration": 12,
    "start_time": "2024-06-16T02:45:44.631Z"
   },
   {
    "duration": 7,
    "start_time": "2024-06-16T02:45:44.649Z"
   },
   {
    "duration": 8,
    "start_time": "2024-06-16T02:45:44.661Z"
   },
   {
    "duration": 52,
    "start_time": "2024-06-16T02:45:44.673Z"
   },
   {
    "duration": 13,
    "start_time": "2024-06-16T02:45:44.728Z"
   },
   {
    "duration": 6,
    "start_time": "2024-06-16T02:45:44.744Z"
   },
   {
    "duration": 8,
    "start_time": "2024-06-16T02:45:44.759Z"
   },
   {
    "duration": 564,
    "start_time": "2024-06-16T02:45:44.769Z"
   },
   {
    "duration": 6,
    "start_time": "2024-06-16T02:47:12.562Z"
   },
   {
    "duration": 6,
    "start_time": "2024-06-16T02:47:13.574Z"
   },
   {
    "duration": 6,
    "start_time": "2024-06-16T02:47:14.343Z"
   },
   {
    "duration": 5,
    "start_time": "2024-06-16T02:47:14.864Z"
   },
   {
    "duration": 11,
    "start_time": "2024-06-16T02:47:15.237Z"
   },
   {
    "duration": 5,
    "start_time": "2024-06-16T02:47:17.447Z"
   },
   {
    "duration": 7,
    "start_time": "2024-06-16T02:47:17.928Z"
   },
   {
    "duration": 477,
    "start_time": "2024-06-16T02:47:18.349Z"
   },
   {
    "duration": 6,
    "start_time": "2024-06-16T02:47:33.097Z"
   },
   {
    "duration": 11,
    "start_time": "2024-06-16T02:47:35.655Z"
   },
   {
    "duration": 5,
    "start_time": "2024-06-16T02:47:36.881Z"
   },
   {
    "duration": 5,
    "start_time": "2024-06-16T02:47:37.927Z"
   },
   {
    "duration": 12,
    "start_time": "2024-06-16T02:47:38.798Z"
   },
   {
    "duration": 4,
    "start_time": "2024-06-16T02:47:42.006Z"
   },
   {
    "duration": 8,
    "start_time": "2024-06-16T02:47:45.925Z"
   },
   {
    "duration": 489,
    "start_time": "2024-06-16T02:47:46.847Z"
   },
   {
    "duration": 1493,
    "start_time": "2024-06-16T02:48:02.047Z"
   },
   {
    "duration": 421,
    "start_time": "2024-06-16T02:48:03.544Z"
   },
   {
    "duration": 57,
    "start_time": "2024-06-16T02:48:03.968Z"
   },
   {
    "duration": 198,
    "start_time": "2024-06-16T02:48:04.030Z"
   },
   {
    "duration": 13,
    "start_time": "2024-06-16T02:48:04.231Z"
   },
   {
    "duration": 23,
    "start_time": "2024-06-16T02:48:04.248Z"
   },
   {
    "duration": 51,
    "start_time": "2024-06-16T02:48:04.275Z"
   },
   {
    "duration": 19,
    "start_time": "2024-06-16T02:48:04.328Z"
   },
   {
    "duration": 72,
    "start_time": "2024-06-16T02:48:04.350Z"
   },
   {
    "duration": 15,
    "start_time": "2024-06-16T02:48:04.429Z"
   },
   {
    "duration": 96,
    "start_time": "2024-06-16T02:48:04.448Z"
   },
   {
    "duration": 17,
    "start_time": "2024-06-16T02:48:04.548Z"
   },
   {
    "duration": 57,
    "start_time": "2024-06-16T02:48:04.568Z"
   },
   {
    "duration": 7,
    "start_time": "2024-06-16T02:48:04.627Z"
   },
   {
    "duration": 88,
    "start_time": "2024-06-16T02:48:04.637Z"
   },
   {
    "duration": 22,
    "start_time": "2024-06-16T02:48:04.729Z"
   },
   {
    "duration": 72,
    "start_time": "2024-06-16T02:48:04.754Z"
   },
   {
    "duration": 19,
    "start_time": "2024-06-16T02:48:04.829Z"
   },
   {
    "duration": 5,
    "start_time": "2024-06-16T02:48:04.852Z"
   },
   {
    "duration": 66,
    "start_time": "2024-06-16T02:48:04.859Z"
   },
   {
    "duration": 9,
    "start_time": "2024-06-16T02:48:04.929Z"
   },
   {
    "duration": 83,
    "start_time": "2024-06-16T02:48:04.941Z"
   },
   {
    "duration": 6,
    "start_time": "2024-06-16T02:48:05.029Z"
   },
   {
    "duration": 6,
    "start_time": "2024-06-16T02:48:05.039Z"
   },
   {
    "duration": 6,
    "start_time": "2024-06-16T02:48:05.049Z"
   },
   {
    "duration": 66,
    "start_time": "2024-06-16T02:48:05.059Z"
   },
   {
    "duration": 5,
    "start_time": "2024-06-16T02:48:05.131Z"
   },
   {
    "duration": 7,
    "start_time": "2024-06-16T02:48:05.143Z"
   },
   {
    "duration": 554,
    "start_time": "2024-06-16T02:48:05.153Z"
   },
   {
    "duration": 6,
    "start_time": "2024-06-16T02:48:54.161Z"
   },
   {
    "duration": 1467,
    "start_time": "2024-06-16T02:49:00.553Z"
   },
   {
    "duration": 445,
    "start_time": "2024-06-16T02:49:02.026Z"
   },
   {
    "duration": 62,
    "start_time": "2024-06-16T02:49:02.474Z"
   },
   {
    "duration": 190,
    "start_time": "2024-06-16T02:49:02.539Z"
   },
   {
    "duration": 13,
    "start_time": "2024-06-16T02:49:02.733Z"
   },
   {
    "duration": 21,
    "start_time": "2024-06-16T02:49:02.750Z"
   },
   {
    "duration": 49,
    "start_time": "2024-06-16T02:49:02.774Z"
   },
   {
    "duration": 16,
    "start_time": "2024-06-16T02:49:02.826Z"
   },
   {
    "duration": 7,
    "start_time": "2024-06-16T02:49:02.845Z"
   },
   {
    "duration": 77,
    "start_time": "2024-06-16T02:49:02.855Z"
   },
   {
    "duration": 94,
    "start_time": "2024-06-16T02:49:02.937Z"
   },
   {
    "duration": 16,
    "start_time": "2024-06-16T02:49:03.034Z"
   },
   {
    "duration": 15,
    "start_time": "2024-06-16T02:49:03.053Z"
   },
   {
    "duration": 13,
    "start_time": "2024-06-16T02:49:03.126Z"
   },
   {
    "duration": 88,
    "start_time": "2024-06-16T02:49:03.141Z"
   },
   {
    "duration": 19,
    "start_time": "2024-06-16T02:49:03.232Z"
   },
   {
    "duration": 15,
    "start_time": "2024-06-16T02:49:03.254Z"
   },
   {
    "duration": 53,
    "start_time": "2024-06-16T02:49:03.272Z"
   },
   {
    "duration": 10,
    "start_time": "2024-06-16T02:49:03.328Z"
   },
   {
    "duration": 4,
    "start_time": "2024-06-16T02:49:03.342Z"
   },
   {
    "duration": 80,
    "start_time": "2024-06-16T02:49:03.349Z"
   },
   {
    "duration": 7,
    "start_time": "2024-06-16T02:49:03.432Z"
   },
   {
    "duration": 7,
    "start_time": "2024-06-16T02:49:03.443Z"
   },
   {
    "duration": 73,
    "start_time": "2024-06-16T02:49:03.454Z"
   },
   {
    "duration": 8,
    "start_time": "2024-06-16T02:49:03.530Z"
   },
   {
    "duration": 12,
    "start_time": "2024-06-16T02:49:03.541Z"
   },
   {
    "duration": 5,
    "start_time": "2024-06-16T02:49:03.556Z"
   },
   {
    "duration": 7,
    "start_time": "2024-06-16T02:49:03.565Z"
   },
   {
    "duration": 522,
    "start_time": "2024-06-16T02:49:03.623Z"
   },
   {
    "duration": 4,
    "start_time": "2024-06-16T02:59:50.144Z"
   },
   {
    "duration": 7,
    "start_time": "2024-06-16T02:59:50.834Z"
   },
   {
    "duration": 459,
    "start_time": "2024-06-16T02:59:51.584Z"
   },
   {
    "duration": 1504,
    "start_time": "2024-06-16T03:13:49.614Z"
   },
   {
    "duration": 391,
    "start_time": "2024-06-16T03:13:51.121Z"
   },
   {
    "duration": 49,
    "start_time": "2024-06-16T03:13:51.515Z"
   },
   {
    "duration": 180,
    "start_time": "2024-06-16T03:13:51.568Z"
   },
   {
    "duration": 12,
    "start_time": "2024-06-16T03:13:51.751Z"
   },
   {
    "duration": 23,
    "start_time": "2024-06-16T03:13:51.766Z"
   },
   {
    "duration": 44,
    "start_time": "2024-06-16T03:13:51.792Z"
   },
   {
    "duration": 19,
    "start_time": "2024-06-16T03:13:51.839Z"
   },
   {
    "duration": 66,
    "start_time": "2024-06-16T03:13:51.860Z"
   },
   {
    "duration": 13,
    "start_time": "2024-06-16T03:13:51.933Z"
   },
   {
    "duration": 20,
    "start_time": "2024-06-16T03:13:52.025Z"
   },
   {
    "duration": 15,
    "start_time": "2024-06-16T03:13:52.047Z"
   },
   {
    "duration": 58,
    "start_time": "2024-06-16T03:13:52.066Z"
   },
   {
    "duration": 8,
    "start_time": "2024-06-16T03:13:52.127Z"
   },
   {
    "duration": 88,
    "start_time": "2024-06-16T03:13:52.139Z"
   },
   {
    "duration": 20,
    "start_time": "2024-06-16T03:13:52.231Z"
   },
   {
    "duration": 16,
    "start_time": "2024-06-16T03:13:52.254Z"
   },
   {
    "duration": 52,
    "start_time": "2024-06-16T03:13:52.273Z"
   },
   {
    "duration": 10,
    "start_time": "2024-06-16T03:13:52.328Z"
   },
   {
    "duration": 5,
    "start_time": "2024-06-16T03:13:52.342Z"
   },
   {
    "duration": 5,
    "start_time": "2024-06-16T03:13:52.425Z"
   },
   {
    "duration": 10,
    "start_time": "2024-06-16T03:13:52.434Z"
   },
   {
    "duration": 76,
    "start_time": "2024-06-16T03:13:52.447Z"
   },
   {
    "duration": 6,
    "start_time": "2024-06-16T03:13:52.527Z"
   },
   {
    "duration": 6,
    "start_time": "2024-06-16T03:13:52.536Z"
   },
   {
    "duration": 12,
    "start_time": "2024-06-16T03:13:52.545Z"
   },
   {
    "duration": 5,
    "start_time": "2024-06-16T03:13:52.560Z"
   },
   {
    "duration": 8,
    "start_time": "2024-06-16T03:13:52.623Z"
   },
   {
    "duration": 541,
    "start_time": "2024-06-16T03:13:52.634Z"
   },
   {
    "duration": 5,
    "start_time": "2024-06-16T03:16:27.245Z"
   },
   {
    "duration": 1429,
    "start_time": "2024-06-16T03:16:33.268Z"
   },
   {
    "duration": 413,
    "start_time": "2024-06-16T03:16:34.700Z"
   },
   {
    "duration": 49,
    "start_time": "2024-06-16T03:16:35.116Z"
   },
   {
    "duration": 186,
    "start_time": "2024-06-16T03:16:35.169Z"
   },
   {
    "duration": 14,
    "start_time": "2024-06-16T03:16:35.357Z"
   },
   {
    "duration": 21,
    "start_time": "2024-06-16T03:16:35.374Z"
   },
   {
    "duration": 42,
    "start_time": "2024-06-16T03:16:35.397Z"
   },
   {
    "duration": 18,
    "start_time": "2024-06-16T03:16:35.442Z"
   },
   {
    "duration": 63,
    "start_time": "2024-06-16T03:16:35.463Z"
   },
   {
    "duration": 90,
    "start_time": "2024-06-16T03:16:35.532Z"
   },
   {
    "duration": 19,
    "start_time": "2024-06-16T03:16:35.625Z"
   },
   {
    "duration": 17,
    "start_time": "2024-06-16T03:16:35.647Z"
   },
   {
    "duration": 58,
    "start_time": "2024-06-16T03:16:35.667Z"
   },
   {
    "duration": 6,
    "start_time": "2024-06-16T03:16:35.728Z"
   },
   {
    "duration": 81,
    "start_time": "2024-06-16T03:16:35.744Z"
   },
   {
    "duration": 21,
    "start_time": "2024-06-16T03:16:35.829Z"
   },
   {
    "duration": 18,
    "start_time": "2024-06-16T03:16:35.853Z"
   },
   {
    "duration": 59,
    "start_time": "2024-06-16T03:16:35.875Z"
   },
   {
    "duration": 6,
    "start_time": "2024-06-16T03:16:35.937Z"
   },
   {
    "duration": 4,
    "start_time": "2024-06-16T03:16:35.947Z"
   },
   {
    "duration": 4,
    "start_time": "2024-06-16T03:16:36.025Z"
   },
   {
    "duration": 10,
    "start_time": "2024-06-16T03:16:36.032Z"
   },
   {
    "duration": 82,
    "start_time": "2024-06-16T03:16:36.045Z"
   },
   {
    "duration": 6,
    "start_time": "2024-06-16T03:16:36.131Z"
   },
   {
    "duration": 6,
    "start_time": "2024-06-16T03:16:36.140Z"
   },
   {
    "duration": 12,
    "start_time": "2024-06-16T03:16:36.150Z"
   },
   {
    "duration": 5,
    "start_time": "2024-06-16T03:16:36.165Z"
   },
   {
    "duration": 7,
    "start_time": "2024-06-16T03:16:36.227Z"
   },
   {
    "duration": 541,
    "start_time": "2024-06-16T03:16:36.238Z"
   },
   {
    "duration": 5178,
    "start_time": "2024-06-16T15:52:08.721Z"
   },
   {
    "duration": 525,
    "start_time": "2024-06-16T15:52:13.903Z"
   },
   {
    "duration": 45,
    "start_time": "2024-06-16T15:52:14.433Z"
   },
   {
    "duration": 215,
    "start_time": "2024-06-16T15:52:14.482Z"
   },
   {
    "duration": 14,
    "start_time": "2024-06-16T15:52:14.700Z"
   },
   {
    "duration": 24,
    "start_time": "2024-06-16T15:52:14.734Z"
   },
   {
    "duration": 20,
    "start_time": "2024-06-16T15:52:14.760Z"
   },
   {
    "duration": 50,
    "start_time": "2024-06-16T15:52:14.783Z"
   },
   {
    "duration": 6,
    "start_time": "2024-06-16T15:52:14.837Z"
   },
   {
    "duration": 91,
    "start_time": "2024-06-16T15:52:14.850Z"
   },
   {
    "duration": 21,
    "start_time": "2024-06-16T15:52:14.944Z"
   },
   {
    "duration": 15,
    "start_time": "2024-06-16T15:52:14.968Z"
   },
   {
    "duration": 50,
    "start_time": "2024-06-16T15:52:14.986Z"
   },
   {
    "duration": 5,
    "start_time": "2024-06-16T15:52:15.039Z"
   },
   {
    "duration": 86,
    "start_time": "2024-06-16T15:52:15.048Z"
   },
   {
    "duration": 20,
    "start_time": "2024-06-16T15:52:15.137Z"
   },
   {
    "duration": 79,
    "start_time": "2024-06-16T15:52:15.161Z"
   },
   {
    "duration": 15,
    "start_time": "2024-06-16T15:52:15.243Z"
   },
   {
    "duration": 5,
    "start_time": "2024-06-16T15:52:15.261Z"
   },
   {
    "duration": 65,
    "start_time": "2024-06-16T15:52:15.269Z"
   },
   {
    "duration": 5,
    "start_time": "2024-06-16T15:52:15.336Z"
   },
   {
    "duration": 88,
    "start_time": "2024-06-16T15:52:15.344Z"
   },
   {
    "duration": 6,
    "start_time": "2024-06-16T15:52:15.435Z"
   },
   {
    "duration": 6,
    "start_time": "2024-06-16T15:52:15.445Z"
   },
   {
    "duration": 7,
    "start_time": "2024-06-16T15:52:15.454Z"
   },
   {
    "duration": 68,
    "start_time": "2024-06-16T15:52:15.465Z"
   },
   {
    "duration": 5,
    "start_time": "2024-06-16T15:52:15.535Z"
   },
   {
    "duration": 8,
    "start_time": "2024-06-16T15:52:15.548Z"
   },
   {
    "duration": 542,
    "start_time": "2024-06-16T15:52:15.560Z"
   },
   {
    "duration": 634,
    "start_time": "2024-06-16T16:01:38.020Z"
   },
   {
    "duration": 456,
    "start_time": "2024-06-16T16:01:52.342Z"
   },
   {
    "duration": 1168,
    "start_time": "2024-06-16T16:02:25.888Z"
   },
   {
    "duration": 24,
    "start_time": "2024-06-16T16:48:13.975Z"
   },
   {
    "duration": 9,
    "start_time": "2024-06-16T16:48:28.427Z"
   },
   {
    "duration": 318,
    "start_time": "2024-06-16T18:01:39.772Z"
   },
   {
    "duration": 5180,
    "start_time": "2024-06-16T18:01:47.672Z"
   },
   {
    "duration": 506,
    "start_time": "2024-06-16T18:01:52.856Z"
   },
   {
    "duration": 51,
    "start_time": "2024-06-16T18:01:53.365Z"
   },
   {
    "duration": 169,
    "start_time": "2024-06-16T18:01:53.420Z"
   },
   {
    "duration": 1212,
    "start_time": "2024-06-16T18:01:53.591Z"
   },
   {
    "duration": 13,
    "start_time": "2024-06-16T18:01:54.806Z"
   },
   {
    "duration": 22,
    "start_time": "2024-06-16T18:01:54.822Z"
   },
   {
    "duration": 16,
    "start_time": "2024-06-16T18:01:54.847Z"
   },
   {
    "duration": 23,
    "start_time": "2024-06-16T18:01:54.903Z"
   },
   {
    "duration": 70,
    "start_time": "2024-06-16T18:01:54.932Z"
   },
   {
    "duration": 17,
    "start_time": "2024-06-16T18:01:55.005Z"
   },
   {
    "duration": 91,
    "start_time": "2024-06-16T18:01:55.025Z"
   },
   {
    "duration": 16,
    "start_time": "2024-06-16T18:01:55.119Z"
   },
   {
    "duration": 63,
    "start_time": "2024-06-16T18:01:55.138Z"
   },
   {
    "duration": 6,
    "start_time": "2024-06-16T18:01:55.204Z"
   },
   {
    "duration": 90,
    "start_time": "2024-06-16T18:01:55.214Z"
   },
   {
    "duration": 20,
    "start_time": "2024-06-16T18:01:55.307Z"
   },
   {
    "duration": 16,
    "start_time": "2024-06-16T18:01:55.330Z"
   },
   {
    "duration": 55,
    "start_time": "2024-06-16T18:01:55.349Z"
   },
   {
    "duration": 10,
    "start_time": "2024-06-16T18:01:55.406Z"
   },
   {
    "duration": 4,
    "start_time": "2024-06-16T18:01:55.420Z"
   },
   {
    "duration": 4,
    "start_time": "2024-06-16T18:01:55.503Z"
   },
   {
    "duration": 6,
    "start_time": "2024-06-16T18:01:55.511Z"
   },
   {
    "duration": 6,
    "start_time": "2024-06-16T18:01:55.520Z"
   },
   {
    "duration": 6,
    "start_time": "2024-06-16T18:01:55.529Z"
   },
   {
    "duration": 66,
    "start_time": "2024-06-16T18:01:55.538Z"
   },
   {
    "duration": 13,
    "start_time": "2024-06-16T18:01:55.608Z"
   },
   {
    "duration": 5,
    "start_time": "2024-06-16T18:01:55.628Z"
   },
   {
    "duration": 8,
    "start_time": "2024-06-16T18:01:55.636Z"
   },
   {
    "duration": 594,
    "start_time": "2024-06-16T18:01:55.647Z"
   },
   {
    "duration": 1117,
    "start_time": "2024-06-16T18:02:10.544Z"
   },
   {
    "duration": 5,
    "start_time": "2024-06-16T18:35:35.435Z"
   },
   {
    "duration": 1099,
    "start_time": "2024-06-16T18:36:09.890Z"
   },
   {
    "duration": 6,
    "start_time": "2024-06-16T18:37:08.902Z"
   },
   {
    "duration": 38003,
    "start_time": "2024-06-16T18:37:27.536Z"
   },
   {
    "duration": 1607,
    "start_time": "2024-06-16T18:41:14.541Z"
   },
   {
    "duration": 408,
    "start_time": "2024-06-16T18:41:16.153Z"
   },
   {
    "duration": 61,
    "start_time": "2024-06-16T18:41:16.564Z"
   },
   {
    "duration": 184,
    "start_time": "2024-06-16T18:41:16.629Z"
   },
   {
    "duration": 6,
    "start_time": "2024-06-16T18:41:16.819Z"
   },
   {
    "duration": 1173,
    "start_time": "2024-06-16T18:41:16.828Z"
   },
   {
    "duration": 13,
    "start_time": "2024-06-16T18:41:18.004Z"
   },
   {
    "duration": 22,
    "start_time": "2024-06-16T18:41:18.020Z"
   },
   {
    "duration": 17,
    "start_time": "2024-06-16T18:41:18.045Z"
   },
   {
    "duration": 18,
    "start_time": "2024-06-16T18:41:18.100Z"
   },
   {
    "duration": 7,
    "start_time": "2024-06-16T18:41:18.121Z"
   },
   {
    "duration": 80,
    "start_time": "2024-06-16T18:41:18.131Z"
   },
   {
    "duration": 93,
    "start_time": "2024-06-16T18:41:18.214Z"
   },
   {
    "duration": 15,
    "start_time": "2024-06-16T18:41:18.313Z"
   },
   {
    "duration": 17,
    "start_time": "2024-06-16T18:41:18.331Z"
   },
   {
    "duration": 9,
    "start_time": "2024-06-16T18:41:18.407Z"
   },
   {
    "duration": 86,
    "start_time": "2024-06-16T18:41:18.422Z"
   },
   {
    "duration": 20,
    "start_time": "2024-06-16T18:41:18.511Z"
   },
   {
    "duration": 16,
    "start_time": "2024-06-16T18:41:18.534Z"
   },
   {
    "duration": 54,
    "start_time": "2024-06-16T18:41:18.554Z"
   },
   {
    "duration": 6,
    "start_time": "2024-06-16T18:41:18.611Z"
   },
   {
    "duration": 5,
    "start_time": "2024-06-16T18:41:18.620Z"
   },
   {
    "duration": 8,
    "start_time": "2024-06-16T18:41:18.702Z"
   },
   {
    "duration": 7,
    "start_time": "2024-06-16T18:41:18.714Z"
   },
   {
    "duration": 6,
    "start_time": "2024-06-16T18:41:18.724Z"
   },
   {
    "duration": 6,
    "start_time": "2024-06-16T18:41:18.734Z"
   },
   {
    "duration": 6,
    "start_time": "2024-06-16T18:41:18.803Z"
   },
   {
    "duration": 13,
    "start_time": "2024-06-16T18:41:18.813Z"
   },
   {
    "duration": 5,
    "start_time": "2024-06-16T18:41:18.829Z"
   },
   {
    "duration": 8,
    "start_time": "2024-06-16T18:41:18.838Z"
   },
   {
    "duration": 590,
    "start_time": "2024-06-16T18:41:18.849Z"
   },
   {
    "duration": 6,
    "start_time": "2024-06-16T18:42:35.040Z"
   },
   {
    "duration": 1172,
    "start_time": "2024-06-16T18:42:36.545Z"
   },
   {
    "duration": 1206,
    "start_time": "2024-06-16T18:42:45.371Z"
   },
   {
    "duration": 1121,
    "start_time": "2024-06-16T18:43:08.423Z"
   },
   {
    "duration": 1110,
    "start_time": "2024-06-16T18:43:18.621Z"
   },
   {
    "duration": 7,
    "start_time": "2024-06-16T18:48:11.712Z"
   },
   {
    "duration": 7,
    "start_time": "2024-06-16T18:48:38.009Z"
   },
   {
    "duration": 6,
    "start_time": "2024-06-16T18:49:19.838Z"
   },
   {
    "duration": 5,
    "start_time": "2024-06-16T18:49:36.416Z"
   },
   {
    "duration": 22,
    "start_time": "2024-06-16T18:52:19.271Z"
   },
   {
    "duration": 12,
    "start_time": "2024-06-16T18:52:49.608Z"
   },
   {
    "duration": 12,
    "start_time": "2024-06-16T18:54:22.927Z"
   },
   {
    "duration": 1595,
    "start_time": "2024-06-16T19:00:51.642Z"
   },
   {
    "duration": 395,
    "start_time": "2024-06-16T19:00:53.240Z"
   },
   {
    "duration": 45,
    "start_time": "2024-06-16T19:00:53.639Z"
   },
   {
    "duration": 171,
    "start_time": "2024-06-16T19:00:53.703Z"
   },
   {
    "duration": 5,
    "start_time": "2024-06-16T19:00:53.879Z"
   },
   {
    "duration": 1123,
    "start_time": "2024-06-16T19:00:53.903Z"
   },
   {
    "duration": 1131,
    "start_time": "2024-06-16T19:00:55.029Z"
   },
   {
    "duration": 1277,
    "start_time": "2024-06-16T19:00:56.163Z"
   },
   {
    "duration": 12,
    "start_time": "2024-06-16T19:00:57.444Z"
   },
   {
    "duration": 45,
    "start_time": "2024-06-16T19:00:57.459Z"
   },
   {
    "duration": 17,
    "start_time": "2024-06-16T19:00:57.507Z"
   },
   {
    "duration": 18,
    "start_time": "2024-06-16T19:00:57.528Z"
   },
   {
    "duration": 57,
    "start_time": "2024-06-16T19:00:57.550Z"
   },
   {
    "duration": 91,
    "start_time": "2024-06-16T19:00:57.613Z"
   },
   {
    "duration": 21,
    "start_time": "2024-06-16T19:00:57.708Z"
   },
   {
    "duration": 17,
    "start_time": "2024-06-16T19:00:57.732Z"
   },
   {
    "duration": 52,
    "start_time": "2024-06-16T19:00:57.752Z"
   },
   {
    "duration": 10,
    "start_time": "2024-06-16T19:00:57.806Z"
   },
   {
    "duration": 91,
    "start_time": "2024-06-16T19:00:57.822Z"
   },
   {
    "duration": 90,
    "start_time": "2024-06-16T19:00:57.916Z"
   },
   {
    "duration": 15,
    "start_time": "2024-06-16T19:00:58.009Z"
   },
   {
    "duration": 17,
    "start_time": "2024-06-16T19:00:58.027Z"
   },
   {
    "duration": 55,
    "start_time": "2024-06-16T19:00:58.047Z"
   },
   {
    "duration": 4,
    "start_time": "2024-06-16T19:00:58.105Z"
   },
   {
    "duration": 8,
    "start_time": "2024-06-16T19:00:58.111Z"
   },
   {
    "duration": 87,
    "start_time": "2024-06-16T19:00:58.121Z"
   },
   {
    "duration": 12,
    "start_time": "2024-06-16T19:00:58.214Z"
   },
   {
    "duration": 6,
    "start_time": "2024-06-16T19:00:58.229Z"
   },
   {
    "duration": 5,
    "start_time": "2024-06-16T19:00:58.241Z"
   },
   {
    "duration": 52,
    "start_time": "2024-06-16T19:00:58.250Z"
   },
   {
    "duration": 5,
    "start_time": "2024-06-16T19:00:58.306Z"
   },
   {
    "duration": 8,
    "start_time": "2024-06-16T19:00:58.314Z"
   },
   {
    "duration": 552,
    "start_time": "2024-06-16T19:00:58.324Z"
   },
   {
    "duration": 1567,
    "start_time": "2024-06-16T21:20:48.841Z"
   },
   {
    "duration": 420,
    "start_time": "2024-06-16T21:20:50.412Z"
   },
   {
    "duration": 45,
    "start_time": "2024-06-16T21:20:50.835Z"
   },
   {
    "duration": 168,
    "start_time": "2024-06-16T21:20:50.903Z"
   },
   {
    "duration": 6,
    "start_time": "2024-06-16T21:20:51.075Z"
   },
   {
    "duration": 1159,
    "start_time": "2024-06-16T21:20:51.084Z"
   },
   {
    "duration": 1159,
    "start_time": "2024-06-16T21:20:52.246Z"
   },
   {
    "duration": 1221,
    "start_time": "2024-06-16T21:20:53.409Z"
   },
   {
    "duration": 12,
    "start_time": "2024-06-16T21:20:54.633Z"
   },
   {
    "duration": 21,
    "start_time": "2024-06-16T21:20:54.649Z"
   },
   {
    "duration": 18,
    "start_time": "2024-06-16T21:20:54.701Z"
   },
   {
    "duration": 21,
    "start_time": "2024-06-16T21:20:54.722Z"
   },
   {
    "duration": 61,
    "start_time": "2024-06-16T21:20:54.748Z"
   },
   {
    "duration": 87,
    "start_time": "2024-06-16T21:20:54.821Z"
   },
   {
    "duration": 19,
    "start_time": "2024-06-16T21:20:54.912Z"
   },
   {
    "duration": 14,
    "start_time": "2024-06-16T21:20:54.934Z"
   },
   {
    "duration": 67,
    "start_time": "2024-06-16T21:20:54.951Z"
   },
   {
    "duration": 8,
    "start_time": "2024-06-16T21:20:55.022Z"
   },
   {
    "duration": 74,
    "start_time": "2024-06-16T21:20:55.033Z"
   },
   {
    "duration": 21,
    "start_time": "2024-06-16T21:20:55.110Z"
   },
   {
    "duration": 17,
    "start_time": "2024-06-16T21:20:55.136Z"
   },
   {
    "duration": 15,
    "start_time": "2024-06-16T21:20:55.203Z"
   },
   {
    "duration": 5,
    "start_time": "2024-06-16T21:20:55.221Z"
   },
   {
    "duration": 4,
    "start_time": "2024-06-16T21:20:55.230Z"
   },
   {
    "duration": 63,
    "start_time": "2024-06-16T21:20:55.237Z"
   },
   {
    "duration": 8,
    "start_time": "2024-06-16T21:20:55.303Z"
   },
   {
    "duration": 5,
    "start_time": "2024-06-16T21:20:55.315Z"
   },
   {
    "duration": 7,
    "start_time": "2024-06-16T21:20:55.323Z"
   },
   {
    "duration": 69,
    "start_time": "2024-06-16T21:20:55.334Z"
   },
   {
    "duration": 13,
    "start_time": "2024-06-16T21:20:55.406Z"
   },
   {
    "duration": 5,
    "start_time": "2024-06-16T21:20:55.422Z"
   },
   {
    "duration": 9,
    "start_time": "2024-06-16T21:20:55.430Z"
   },
   {
    "duration": 624,
    "start_time": "2024-06-16T21:20:55.442Z"
   },
   {
    "duration": 6,
    "start_time": "2024-06-16T21:21:15.456Z"
   },
   {
    "duration": 7,
    "start_time": "2024-06-16T21:21:16.210Z"
   },
   {
    "duration": 7,
    "start_time": "2024-06-16T21:21:16.549Z"
   },
   {
    "duration": 6,
    "start_time": "2024-06-16T21:21:16.847Z"
   },
   {
    "duration": 16,
    "start_time": "2024-06-16T21:21:17.187Z"
   },
   {
    "duration": 5,
    "start_time": "2024-06-16T21:21:19.216Z"
   },
   {
    "duration": 7,
    "start_time": "2024-06-16T21:21:19.719Z"
   },
   {
    "duration": 522,
    "start_time": "2024-06-16T21:21:20.370Z"
   },
   {
    "duration": 7,
    "start_time": "2024-06-16T21:21:37.558Z"
   },
   {
    "duration": 6,
    "start_time": "2024-06-16T21:21:38.388Z"
   },
   {
    "duration": 7,
    "start_time": "2024-06-16T21:21:38.712Z"
   },
   {
    "duration": 6,
    "start_time": "2024-06-16T21:21:38.961Z"
   },
   {
    "duration": 15,
    "start_time": "2024-06-16T21:21:39.324Z"
   },
   {
    "duration": 7,
    "start_time": "2024-06-16T21:21:40.896Z"
   },
   {
    "duration": 9,
    "start_time": "2024-06-16T21:21:41.168Z"
   },
   {
    "duration": 577,
    "start_time": "2024-06-16T21:21:41.341Z"
   },
   {
    "duration": 6,
    "start_time": "2024-06-16T21:21:56.984Z"
   },
   {
    "duration": 5,
    "start_time": "2024-06-16T21:21:57.566Z"
   },
   {
    "duration": 6,
    "start_time": "2024-06-16T21:21:57.935Z"
   },
   {
    "duration": 6,
    "start_time": "2024-06-16T21:21:58.279Z"
   },
   {
    "duration": 12,
    "start_time": "2024-06-16T21:21:58.552Z"
   },
   {
    "duration": 6,
    "start_time": "2024-06-16T21:21:59.824Z"
   },
   {
    "duration": 8,
    "start_time": "2024-06-16T21:22:00.389Z"
   },
   {
    "duration": 500,
    "start_time": "2024-06-16T21:22:01.102Z"
   },
   {
    "duration": 7,
    "start_time": "2024-06-16T21:22:14.045Z"
   },
   {
    "duration": 6,
    "start_time": "2024-06-16T21:22:14.720Z"
   },
   {
    "duration": 5,
    "start_time": "2024-06-16T21:22:15.059Z"
   },
   {
    "duration": 6,
    "start_time": "2024-06-16T21:22:15.478Z"
   },
   {
    "duration": 12,
    "start_time": "2024-06-16T21:22:15.759Z"
   },
   {
    "duration": 5,
    "start_time": "2024-06-16T21:22:17.658Z"
   },
   {
    "duration": 7,
    "start_time": "2024-06-16T21:22:17.899Z"
   },
   {
    "duration": 512,
    "start_time": "2024-06-16T21:22:18.454Z"
   },
   {
    "duration": 6,
    "start_time": "2024-06-16T21:23:52.397Z"
   },
   {
    "duration": 6,
    "start_time": "2024-06-16T21:23:53.050Z"
   },
   {
    "duration": 5,
    "start_time": "2024-06-16T21:23:53.428Z"
   },
   {
    "duration": 8,
    "start_time": "2024-06-16T21:23:53.753Z"
   },
   {
    "duration": 12,
    "start_time": "2024-06-16T21:23:54.296Z"
   },
   {
    "duration": 7,
    "start_time": "2024-06-16T21:23:56.483Z"
   },
   {
    "duration": 8,
    "start_time": "2024-06-16T21:23:56.894Z"
   },
   {
    "duration": 524,
    "start_time": "2024-06-16T21:23:57.449Z"
   },
   {
    "duration": 7,
    "start_time": "2024-06-16T21:24:17.252Z"
   },
   {
    "duration": 8,
    "start_time": "2024-06-16T21:24:17.675Z"
   },
   {
    "duration": 6,
    "start_time": "2024-06-16T21:24:17.963Z"
   },
   {
    "duration": 6,
    "start_time": "2024-06-16T21:24:18.401Z"
   },
   {
    "duration": 12,
    "start_time": "2024-06-16T21:24:19.126Z"
   },
   {
    "duration": 5,
    "start_time": "2024-06-16T21:24:21.014Z"
   },
   {
    "duration": 7,
    "start_time": "2024-06-16T21:24:21.382Z"
   },
   {
    "duration": 537,
    "start_time": "2024-06-16T21:24:21.852Z"
   },
   {
    "duration": 10,
    "start_time": "2024-06-16T21:24:37.440Z"
   },
   {
    "duration": 5,
    "start_time": "2024-06-16T21:24:37.859Z"
   },
   {
    "duration": 7,
    "start_time": "2024-06-16T21:24:38.164Z"
   },
   {
    "duration": 6,
    "start_time": "2024-06-16T21:24:38.503Z"
   },
   {
    "duration": 12,
    "start_time": "2024-06-16T21:24:38.887Z"
   },
   {
    "duration": 6,
    "start_time": "2024-06-16T21:24:40.135Z"
   },
   {
    "duration": 7,
    "start_time": "2024-06-16T21:24:40.587Z"
   },
   {
    "duration": 499,
    "start_time": "2024-06-16T21:24:40.921Z"
   },
   {
    "duration": 1597,
    "start_time": "2024-06-16T22:42:43.812Z"
   },
   {
    "duration": 412,
    "start_time": "2024-06-16T22:42:45.415Z"
   },
   {
    "duration": 59,
    "start_time": "2024-06-16T22:42:45.830Z"
   },
   {
    "duration": 211,
    "start_time": "2024-06-16T22:42:45.910Z"
   },
   {
    "duration": 6,
    "start_time": "2024-06-16T22:42:46.124Z"
   },
   {
    "duration": 1229,
    "start_time": "2024-06-16T22:42:46.133Z"
   },
   {
    "duration": 1188,
    "start_time": "2024-06-16T22:42:47.365Z"
   },
   {
    "duration": 1271,
    "start_time": "2024-06-16T22:42:48.558Z"
   },
   {
    "duration": 13,
    "start_time": "2024-06-16T22:42:49.832Z"
   },
   {
    "duration": 20,
    "start_time": "2024-06-16T22:42:49.854Z"
   },
   {
    "duration": 16,
    "start_time": "2024-06-16T22:42:49.903Z"
   },
   {
    "duration": 21,
    "start_time": "2024-06-16T22:42:49.922Z"
   },
   {
    "duration": 63,
    "start_time": "2024-06-16T22:42:49.945Z"
   },
   {
    "duration": 90,
    "start_time": "2024-06-16T22:42:50.010Z"
   },
   {
    "duration": 22,
    "start_time": "2024-06-16T22:42:50.103Z"
   },
   {
    "duration": 17,
    "start_time": "2024-06-16T22:42:50.128Z"
   },
   {
    "duration": 57,
    "start_time": "2024-06-16T22:42:50.150Z"
   },
   {
    "duration": 7,
    "start_time": "2024-06-16T22:42:50.211Z"
   },
   {
    "duration": 85,
    "start_time": "2024-06-16T22:42:50.221Z"
   },
   {
    "duration": 20,
    "start_time": "2024-06-16T22:42:50.308Z"
   },
   {
    "duration": 16,
    "start_time": "2024-06-16T22:42:50.331Z"
   },
   {
    "duration": 60,
    "start_time": "2024-06-16T22:42:50.353Z"
   },
   {
    "duration": 7,
    "start_time": "2024-06-16T22:42:50.416Z"
   },
   {
    "duration": 6,
    "start_time": "2024-06-16T22:42:50.426Z"
   },
   {
    "duration": 68,
    "start_time": "2024-06-16T22:42:50.435Z"
   },
   {
    "duration": 10,
    "start_time": "2024-06-16T22:42:50.506Z"
   },
   {
    "duration": 8,
    "start_time": "2024-06-16T22:42:50.521Z"
   },
   {
    "duration": 68,
    "start_time": "2024-06-16T22:42:50.538Z"
   },
   {
    "duration": 6,
    "start_time": "2024-06-16T22:42:50.610Z"
   },
   {
    "duration": 13,
    "start_time": "2024-06-16T22:42:50.620Z"
   },
   {
    "duration": 6,
    "start_time": "2024-06-16T22:42:50.637Z"
   },
   {
    "duration": 11,
    "start_time": "2024-06-16T22:42:50.647Z"
   },
   {
    "duration": 582,
    "start_time": "2024-06-16T22:42:50.661Z"
   },
   {
    "duration": 11,
    "start_time": "2024-06-16T22:44:44.619Z"
   },
   {
    "duration": 1098,
    "start_time": "2024-06-16T22:45:16.607Z"
   },
   {
    "duration": 1129,
    "start_time": "2024-06-16T22:45:50.147Z"
   },
   {
    "duration": 256,
    "start_time": "2024-06-16T22:46:44.266Z"
   },
   {
    "duration": 1579,
    "start_time": "2024-06-16T22:47:02.283Z"
   },
   {
    "duration": 388,
    "start_time": "2024-06-16T22:47:03.866Z"
   },
   {
    "duration": 54,
    "start_time": "2024-06-16T22:47:04.256Z"
   },
   {
    "duration": 177,
    "start_time": "2024-06-16T22:47:04.313Z"
   },
   {
    "duration": 6,
    "start_time": "2024-06-16T22:47:04.501Z"
   },
   {
    "duration": 1116,
    "start_time": "2024-06-16T22:47:04.511Z"
   },
   {
    "duration": 1170,
    "start_time": "2024-06-16T22:47:05.631Z"
   },
   {
    "duration": 1214,
    "start_time": "2024-06-16T22:47:06.806Z"
   },
   {
    "duration": 13,
    "start_time": "2024-06-16T22:47:08.023Z"
   },
   {
    "duration": 23,
    "start_time": "2024-06-16T22:47:08.039Z"
   },
   {
    "duration": 17,
    "start_time": "2024-06-16T22:47:08.100Z"
   },
   {
    "duration": 18,
    "start_time": "2024-06-16T22:47:08.120Z"
   },
   {
    "duration": 64,
    "start_time": "2024-06-16T22:47:08.140Z"
   },
   {
    "duration": 90,
    "start_time": "2024-06-16T22:47:08.212Z"
   },
   {
    "duration": 20,
    "start_time": "2024-06-16T22:47:08.306Z"
   },
   {
    "duration": 15,
    "start_time": "2024-06-16T22:47:08.329Z"
   },
   {
    "duration": 57,
    "start_time": "2024-06-16T22:47:08.347Z"
   },
   {
    "duration": 6,
    "start_time": "2024-06-16T22:47:08.406Z"
   },
   {
    "duration": 92,
    "start_time": "2024-06-16T22:47:08.415Z"
   },
   {
    "duration": 20,
    "start_time": "2024-06-16T22:47:08.510Z"
   },
   {
    "duration": 16,
    "start_time": "2024-06-16T22:47:08.533Z"
   },
   {
    "duration": 55,
    "start_time": "2024-06-16T22:47:08.552Z"
   },
   {
    "duration": 11,
    "start_time": "2024-06-16T22:47:08.609Z"
   },
   {
    "duration": 78,
    "start_time": "2024-06-16T22:47:08.622Z"
   },
   {
    "duration": 15,
    "start_time": "2024-06-16T22:47:08.706Z"
   },
   {
    "duration": 80,
    "start_time": "2024-06-16T22:47:08.724Z"
   },
   {
    "duration": 6,
    "start_time": "2024-06-16T22:47:08.807Z"
   },
   {
    "duration": 6,
    "start_time": "2024-06-16T22:47:08.816Z"
   },
   {
    "duration": 6,
    "start_time": "2024-06-16T22:47:08.825Z"
   },
   {
    "duration": 12,
    "start_time": "2024-06-16T22:47:08.835Z"
   },
   {
    "duration": 53,
    "start_time": "2024-06-16T22:47:08.850Z"
   },
   {
    "duration": 7,
    "start_time": "2024-06-16T22:47:08.907Z"
   },
   {
    "duration": 529,
    "start_time": "2024-06-16T22:47:08.918Z"
   },
   {
    "duration": 28,
    "start_time": "2024-06-16T22:48:33.971Z"
   },
   {
    "duration": 1602,
    "start_time": "2024-06-16T22:54:19.901Z"
   },
   {
    "duration": 400,
    "start_time": "2024-06-16T22:54:21.507Z"
   },
   {
    "duration": 47,
    "start_time": "2024-06-16T22:54:21.910Z"
   },
   {
    "duration": 182,
    "start_time": "2024-06-16T22:54:21.963Z"
   },
   {
    "duration": 6,
    "start_time": "2024-06-16T22:54:22.149Z"
   },
   {
    "duration": 1142,
    "start_time": "2024-06-16T22:54:22.159Z"
   },
   {
    "duration": 1125,
    "start_time": "2024-06-16T22:54:23.304Z"
   },
   {
    "duration": 1216,
    "start_time": "2024-06-16T22:54:24.432Z"
   },
   {
    "duration": 13,
    "start_time": "2024-06-16T22:54:25.651Z"
   },
   {
    "duration": 41,
    "start_time": "2024-06-16T22:54:25.670Z"
   },
   {
    "duration": 17,
    "start_time": "2024-06-16T22:54:25.714Z"
   },
   {
    "duration": 68,
    "start_time": "2024-06-16T22:54:25.734Z"
   },
   {
    "duration": 7,
    "start_time": "2024-06-16T22:54:25.804Z"
   },
   {
    "duration": 89,
    "start_time": "2024-06-16T22:54:25.814Z"
   },
   {
    "duration": 19,
    "start_time": "2024-06-16T22:54:25.907Z"
   },
   {
    "duration": 19,
    "start_time": "2024-06-16T22:54:25.929Z"
   },
   {
    "duration": 61,
    "start_time": "2024-06-16T22:54:25.953Z"
   },
   {
    "duration": 7,
    "start_time": "2024-06-16T22:54:26.016Z"
   },
   {
    "duration": 96,
    "start_time": "2024-06-16T22:54:26.029Z"
   },
   {
    "duration": 92,
    "start_time": "2024-06-16T22:54:26.128Z"
   },
   {
    "duration": 4,
    "start_time": "2024-06-16T22:54:26.224Z"
   },
   {
    "duration": 70,
    "start_time": "2024-06-16T22:54:26.232Z"
   },
   {
    "duration": 8,
    "start_time": "2024-06-16T22:54:26.307Z"
   },
   {
    "duration": 4,
    "start_time": "2024-06-16T22:54:26.320Z"
   },
   {
    "duration": 78,
    "start_time": "2024-06-16T22:54:26.327Z"
   },
   {
    "duration": 12,
    "start_time": "2024-06-16T22:54:26.408Z"
   },
   {
    "duration": 5,
    "start_time": "2024-06-16T22:54:26.423Z"
   },
   {
    "duration": 5,
    "start_time": "2024-06-16T22:54:26.437Z"
   },
   {
    "duration": 57,
    "start_time": "2024-06-16T22:54:26.445Z"
   },
   {
    "duration": 12,
    "start_time": "2024-06-16T22:54:26.509Z"
   },
   {
    "duration": 5,
    "start_time": "2024-06-16T22:54:26.524Z"
   },
   {
    "duration": 9,
    "start_time": "2024-06-16T22:54:26.531Z"
   },
   {
    "duration": 567,
    "start_time": "2024-06-16T22:54:26.543Z"
   },
   {
    "duration": 1603,
    "start_time": "2024-06-16T22:56:12.765Z"
   },
   {
    "duration": 404,
    "start_time": "2024-06-16T22:56:14.371Z"
   },
   {
    "duration": 53,
    "start_time": "2024-06-16T22:56:14.778Z"
   },
   {
    "duration": 190,
    "start_time": "2024-06-16T22:56:14.836Z"
   },
   {
    "duration": 5,
    "start_time": "2024-06-16T22:56:15.029Z"
   },
   {
    "duration": 1156,
    "start_time": "2024-06-16T22:56:15.038Z"
   },
   {
    "duration": 1184,
    "start_time": "2024-06-16T22:56:16.202Z"
   },
   {
    "duration": 1227,
    "start_time": "2024-06-16T22:56:17.389Z"
   },
   {
    "duration": 12,
    "start_time": "2024-06-16T22:56:18.620Z"
   },
   {
    "duration": 19,
    "start_time": "2024-06-16T22:56:18.641Z"
   },
   {
    "duration": 52,
    "start_time": "2024-06-16T22:56:18.663Z"
   },
   {
    "duration": 20,
    "start_time": "2024-06-16T22:56:18.718Z"
   },
   {
    "duration": 62,
    "start_time": "2024-06-16T22:56:18.741Z"
   },
   {
    "duration": 14,
    "start_time": "2024-06-16T22:56:18.806Z"
   },
   {
    "duration": 93,
    "start_time": "2024-06-16T22:56:18.823Z"
   },
   {
    "duration": 16,
    "start_time": "2024-06-16T22:56:18.918Z"
   },
   {
    "duration": 65,
    "start_time": "2024-06-16T22:56:18.937Z"
   },
   {
    "duration": 6,
    "start_time": "2024-06-16T22:56:19.005Z"
   },
   {
    "duration": 87,
    "start_time": "2024-06-16T22:56:19.015Z"
   },
   {
    "duration": 18,
    "start_time": "2024-06-16T22:56:19.106Z"
   },
   {
    "duration": 15,
    "start_time": "2024-06-16T22:56:19.127Z"
   },
   {
    "duration": 60,
    "start_time": "2024-06-16T22:56:19.144Z"
   },
   {
    "duration": 13,
    "start_time": "2024-06-16T22:56:19.206Z"
   },
   {
    "duration": 81,
    "start_time": "2024-06-16T22:56:19.221Z"
   },
   {
    "duration": 4,
    "start_time": "2024-06-16T22:56:19.306Z"
   },
   {
    "duration": 7,
    "start_time": "2024-06-16T22:56:19.313Z"
   },
   {
    "duration": 6,
    "start_time": "2024-06-16T22:56:19.323Z"
   },
   {
    "duration": 6,
    "start_time": "2024-06-16T22:56:19.335Z"
   },
   {
    "duration": 59,
    "start_time": "2024-06-16T22:56:19.344Z"
   },
   {
    "duration": 12,
    "start_time": "2024-06-16T22:56:19.406Z"
   },
   {
    "duration": 5,
    "start_time": "2024-06-16T22:56:19.421Z"
   },
   {
    "duration": 8,
    "start_time": "2024-06-16T22:56:19.429Z"
   },
   {
    "duration": 540,
    "start_time": "2024-06-16T22:56:19.440Z"
   },
   {
    "duration": 5130,
    "start_time": "2024-06-17T01:13:57.174Z"
   },
   {
    "duration": 534,
    "start_time": "2024-06-17T01:14:02.308Z"
   },
   {
    "duration": 47,
    "start_time": "2024-06-17T01:14:02.845Z"
   },
   {
    "duration": 196,
    "start_time": "2024-06-17T01:14:02.895Z"
   },
   {
    "duration": 6,
    "start_time": "2024-06-17T01:14:03.096Z"
   },
   {
    "duration": 1248,
    "start_time": "2024-06-17T01:14:03.105Z"
   },
   {
    "duration": 1124,
    "start_time": "2024-06-17T01:14:04.356Z"
   },
   {
    "duration": 1118,
    "start_time": "2024-06-17T01:14:05.483Z"
   },
   {
    "duration": 16,
    "start_time": "2024-06-17T01:14:06.604Z"
   },
   {
    "duration": 19,
    "start_time": "2024-06-17T01:14:06.638Z"
   },
   {
    "duration": 148,
    "start_time": "2024-06-17T01:14:06.660Z"
   },
   {
    "duration": 32,
    "start_time": "2024-06-17T01:14:06.812Z"
   },
   {
    "duration": 10,
    "start_time": "2024-06-17T01:14:06.852Z"
   },
   {
    "duration": 14,
    "start_time": "2024-06-17T01:14:06.935Z"
   },
   {
    "duration": 93,
    "start_time": "2024-06-17T01:14:06.953Z"
   },
   {
    "duration": 15,
    "start_time": "2024-06-17T01:14:07.050Z"
   },
   {
    "duration": 67,
    "start_time": "2024-06-17T01:14:07.068Z"
   },
   {
    "duration": 7,
    "start_time": "2024-06-17T01:14:07.138Z"
   },
   {
    "duration": 73,
    "start_time": "2024-06-17T01:14:07.164Z"
   },
   {
    "duration": 19,
    "start_time": "2024-06-17T01:14:07.240Z"
   },
   {
    "duration": 15,
    "start_time": "2024-06-17T01:14:07.262Z"
   },
   {
    "duration": 56,
    "start_time": "2024-06-17T01:14:07.280Z"
   },
   {
    "duration": 8,
    "start_time": "2024-06-17T01:14:07.339Z"
   },
   {
    "duration": 4,
    "start_time": "2024-06-17T01:14:07.350Z"
   },
   {
    "duration": 79,
    "start_time": "2024-06-17T01:14:07.357Z"
   },
   {
    "duration": 8,
    "start_time": "2024-06-17T01:14:07.440Z"
   },
   {
    "duration": 6,
    "start_time": "2024-06-17T01:14:07.451Z"
   },
   {
    "duration": 7,
    "start_time": "2024-06-17T01:14:07.466Z"
   },
   {
    "duration": 56,
    "start_time": "2024-06-17T01:14:07.477Z"
   },
   {
    "duration": 15,
    "start_time": "2024-06-17T01:14:07.537Z"
   },
   {
    "duration": 6,
    "start_time": "2024-06-17T01:14:07.556Z"
   },
   {
    "duration": 9,
    "start_time": "2024-06-17T01:14:07.566Z"
   },
   {
    "duration": 547,
    "start_time": "2024-06-17T01:14:07.579Z"
   },
   {
    "duration": 7,
    "start_time": "2024-06-17T01:14:27.254Z"
   },
   {
    "duration": 1612,
    "start_time": "2024-06-17T01:14:35.057Z"
   },
   {
    "duration": 401,
    "start_time": "2024-06-17T01:14:36.672Z"
   },
   {
    "duration": 57,
    "start_time": "2024-06-17T01:14:37.076Z"
   },
   {
    "duration": 197,
    "start_time": "2024-06-17T01:14:37.137Z"
   },
   {
    "duration": 6,
    "start_time": "2024-06-17T01:14:37.337Z"
   },
   {
    "duration": 1152,
    "start_time": "2024-06-17T01:14:37.346Z"
   },
   {
    "duration": 1139,
    "start_time": "2024-06-17T01:14:38.501Z"
   },
   {
    "duration": 1251,
    "start_time": "2024-06-17T01:14:39.643Z"
   },
   {
    "duration": 12,
    "start_time": "2024-06-17T01:14:40.897Z"
   },
   {
    "duration": 20,
    "start_time": "2024-06-17T01:14:40.933Z"
   },
   {
    "duration": 17,
    "start_time": "2024-06-17T01:14:40.955Z"
   },
   {
    "duration": 60,
    "start_time": "2024-06-17T01:14:40.975Z"
   },
   {
    "duration": 7,
    "start_time": "2024-06-17T01:14:41.037Z"
   },
   {
    "duration": 91,
    "start_time": "2024-06-17T01:14:41.047Z"
   },
   {
    "duration": 19,
    "start_time": "2024-06-17T01:14:41.141Z"
   },
   {
    "duration": 16,
    "start_time": "2024-06-17T01:14:41.163Z"
   },
   {
    "duration": 55,
    "start_time": "2024-06-17T01:14:41.182Z"
   },
   {
    "duration": 9,
    "start_time": "2024-06-17T01:14:41.241Z"
   },
   {
    "duration": 89,
    "start_time": "2024-06-17T01:14:41.253Z"
   },
   {
    "duration": 31,
    "start_time": "2024-06-17T01:14:41.345Z"
   },
   {
    "duration": 60,
    "start_time": "2024-06-17T01:14:41.380Z"
   },
   {
    "duration": 16,
    "start_time": "2024-06-17T01:14:41.444Z"
   },
   {
    "duration": 6,
    "start_time": "2024-06-17T01:14:41.462Z"
   },
   {
    "duration": 65,
    "start_time": "2024-06-17T01:14:41.471Z"
   },
   {
    "duration": 5,
    "start_time": "2024-06-17T01:14:41.539Z"
   },
   {
    "duration": 83,
    "start_time": "2024-06-17T01:14:41.551Z"
   },
   {
    "duration": 10,
    "start_time": "2024-06-17T01:14:41.638Z"
   },
   {
    "duration": 6,
    "start_time": "2024-06-17T01:14:41.656Z"
   },
   {
    "duration": 7,
    "start_time": "2024-06-17T01:14:41.664Z"
   },
   {
    "duration": 11,
    "start_time": "2024-06-17T01:14:41.676Z"
   },
   {
    "duration": 6,
    "start_time": "2024-06-17T01:14:41.735Z"
   },
   {
    "duration": 8,
    "start_time": "2024-06-17T01:14:41.744Z"
   },
   {
    "duration": 549,
    "start_time": "2024-06-17T01:14:41.755Z"
   }
  ],
  "kernelspec": {
   "display_name": "Python 3 (ipykernel)",
   "language": "python",
   "name": "python3"
  },
  "language_info": {
   "codemirror_mode": {
    "name": "ipython",
    "version": 3
   },
   "file_extension": ".py",
   "mimetype": "text/x-python",
   "name": "python",
   "nbconvert_exporter": "python",
   "pygments_lexer": "ipython3",
   "version": "3.12.4"
  },
  "toc": {
   "base_numbering": 1,
   "nav_menu": {},
   "number_sections": true,
   "sideBar": true,
   "skip_h1_title": true,
   "title_cell": "Table of Contents",
   "title_sidebar": "Contents",
   "toc_cell": false,
   "toc_position": {},
   "toc_section_display": true,
   "toc_window_display": false
  }
 },
 "nbformat": 4,
 "nbformat_minor": 2
}
